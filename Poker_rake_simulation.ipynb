{
  "nbformat": 4,
  "nbformat_minor": 0,
  "metadata": {
    "colab": {
      "name": "Copy of final_sim3.ipynb",
      "provenance": [],
      "collapsed_sections": []
    },
    "kernelspec": {
      "name": "python3",
      "display_name": "Python 3"
    }
  },
  "cells": [
    {
      "cell_type": "markdown",
      "metadata": {
        "id": "Ttl1QLmxCDem",
        "colab_type": "text"
      },
      "source": [
        "### Analyzing Poker Rake\n",
        "\n",
        "### Matt Baker"
        "\n",
        "#available at https://colab.research.google.com/drive/19BegqFo8iTPCDnqAJWKTvJgXq2WZWyQo?usp=sharing"
      ]
    },
    {
      "cell_type": "markdown",
      "metadata": {
        "id": "UqNCLZlxI2wv",
        "colab_type": "text"
      },
      "source": [
        "# Setup"
      ]
    },
    {
      "cell_type": "code",
      "metadata": {
        "id": "0Sq8SmvDCeCl",
        "colab_type": "code",
        "colab": {
          "base_uri": "https://localhost:8080/",
          "height": 158
        },
        "outputId": "c244a4fe-1b3d-4e0d-909b-fbd847e9128c"
      },
      "source": [
        "!pip install modsimpy\n",
        "!pip install pint"
      ],
      "execution_count": null,
      "outputs": [
        {
          "output_type": "stream",
          "text": [
            "Requirement already satisfied: modsimpy in /usr/local/lib/python3.6/dist-packages (1.1.3)\n",
            "Requirement already satisfied: pint in /usr/local/lib/python3.6/dist-packages (0.14)\n",
            "Requirement already satisfied: setuptools in /usr/local/lib/python3.6/dist-packages (from pint) (49.1.0)\n",
            "Requirement already satisfied: packaging in /usr/local/lib/python3.6/dist-packages (from pint) (20.4)\n",
            "Requirement already satisfied: importlib-metadata; python_version < \"3.8\" in /usr/local/lib/python3.6/dist-packages (from pint) (1.7.0)\n",
            "Requirement already satisfied: pyparsing>=2.0.2 in /usr/local/lib/python3.6/dist-packages (from packaging->pint) (2.4.7)\n",
            "Requirement already satisfied: six in /usr/local/lib/python3.6/dist-packages (from packaging->pint) (1.12.0)\n",
            "Requirement already satisfied: zipp>=0.5 in /usr/local/lib/python3.6/dist-packages (from importlib-metadata; python_version < \"3.8\"->pint) (3.1.0)\n"
          ],
          "name": "stdout"
        }
      ]
    },
    {
      "cell_type": "code",
      "metadata": {
        "id": "wIefpeCs4lM3",
        "colab_type": "code",
        "colab": {}
      },
      "source": [
        "import numpy as np\n",
        "import matplotlib.pyplot as plt\n",
        "import random\n",
        "import math"
      ],
      "execution_count": null,
      "outputs": []
    },
    {
      "cell_type": "code",
      "metadata": {
        "id": "idG3Qj-QCf83",
        "colab_type": "code",
        "colab": {}
      },
      "source": [
        "try:\n",
        "    from modsim import *\n",
        "except ImportError:\n",
        "    !pip install modsimpy\n",
        "    from modsim import *"
      ],
      "execution_count": null,
      "outputs": []
    },
    {
      "cell_type": "code",
      "metadata": {
        "id": "m5HufmUpXLsA",
        "colab_type": "code",
        "colab": {
          "base_uri": "https://localhost:8080/",
          "height": 34
        },
        "outputId": "9a02de8e-b407-46ed-f3c5-da5c5727f1fd"
      },
      "source": [
        "# Configure Jupyter so figures appear in the notebook\n",
        "%matplotlib inline\n",
        "\n",
        "# Configure Jupyter to display the assigned value after an assignment\n",
        "%config InteractiveShell.ast_node_interactivity='last_expr_or_assign'\n",
        "\n",
        "# import functions from the modsim library\n",
        "\n",
        "from modsim import *"
      ],
      "execution_count": null,
      "outputs": [
        {
          "output_type": "stream",
          "text": [
            "ERROR:root:The 'ast_node_interactivity' trait of a Shell instance must be any of ['all', 'last', 'last_expr', 'none'], but a value of 'last_expr_or_assign' <class 'str'> was specified.\n"
          ],
          "name": "stderr"
        }
      ]
    },
    {
      "cell_type": "markdown",
      "metadata": {
        "id": "izdmna6yYG6Q",
        "colab_type": "text"
      },
      "source": [
        "# Poker Rake Simulator\n",
        "\n",
        "Unlike other casino games, poker does not place players in competition against the house.  In order for the casino to generate revenue a  commission fee known as a 'rake' is charged by the house.  If playing poker to make money, the rake is important to consider, breaking even against your opponents is not enough to go home in the black!\n",
        "\n",
        "# Significance of the model\n",
        "\n",
        "In this simulation the rake is charged as a percentage of the total pot in a poker hand, and is only charged when the betting proceeds past the flop (the first round of dealer cards).  The rake is also assigned an upper threshold maximum value.  \n",
        "\n",
        "# Model inputs\n",
        "pot size\n",
        "\n",
        "bet size\n",
        "\n",
        "percentage of hands that see the flop\n",
        "\n",
        "player win %\n",
        "\n",
        "rake %\n",
        "\n",
        "max rake (left out for now)\n",
        "\n",
        "# Model outputs\n",
        "cumulative rake\n",
        "\n",
        "cumulative chip stack"
      ]
    },
    {
      "cell_type": "markdown",
      "metadata": {
        "id": "WTPMsL7b-nWt",
        "colab_type": "text"
      },
      "source": [
        "![alt text](https://drive.google.com/uc?export=view&id=1Tw0U8rTHjg68nhGvX8vrOpu_9i1zFGEm)"
      ]
    },
    {
      "cell_type": "markdown",
      "metadata": {
        "id": "WYxWpYHuJFoZ",
        "colab_type": "text"
      },
      "source": [
        "# Code"
      ]
    },
    {
      "cell_type": "code",
      "metadata": {
        "id": "186JumRA4on3",
        "colab_type": "code",
        "colab": {
          "base_uri": "https://localhost:8080/",
          "height": 288
        },
        "outputId": "5655af2d-a121-4134-9ca3-ee7595f68d92"
      },
      "source": [
        "pot_dist_plot = plt.hist(np.random.rayleigh(20, 100000), bins=200)\n",
        "pot_dist = np.random.rayleigh(13)\n",
        "pot_dist\n",
        "#i think this should be a good example distribution of a pot value "
      ],
      "execution_count": null,
      "outputs": [
        {
          "output_type": "execute_result",
          "data": {
            "text/plain": [
              "12.249509590855217"
            ]
          },
          "metadata": {
            "tags": []
          },
          "execution_count": 26
        },
        {
          "output_type": "display_data",
          "data": {
            "image/png": "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\n",
            "text/plain": [
              "<Figure size 432x288 with 1 Axes>"
            ]
          },
          "metadata": {
            "tags": [],
            "needs_background": "light"
          }
        }
      ]
    },
    {
      "cell_type": "code",
      "metadata": {
        "id": "CuywDEpkkotf",
        "colab_type": "code",
        "colab": {}
      },
      "source": [
        "def make_state():\n",
        "  state=State(rake_total=0, stack_total=100)\n",
        "  return state"
      ],
      "execution_count": null,
      "outputs": []
    },
    {
      "cell_type": "code",
      "metadata": {
        "id": "zddJqFUwk01p",
        "colab_type": "code",
        "colab": {
          "base_uri": "https://localhost:8080/",
          "height": 107
        },
        "outputId": "1593e0a8-bf61-4743-a13e-a1523abb366d"
      },
      "source": [
        "init = make_state()\n",
        "init"
      ],
      "execution_count": null,
      "outputs": [
        {
          "output_type": "execute_result",
          "data": {
            "text/html": [
              "<div>\n",
              "<style scoped>\n",
              "    .dataframe tbody tr th:only-of-type {\n",
              "        vertical-align: middle;\n",
              "    }\n",
              "\n",
              "    .dataframe tbody tr th {\n",
              "        vertical-align: top;\n",
              "    }\n",
              "\n",
              "    .dataframe thead th {\n",
              "        text-align: right;\n",
              "    }\n",
              "</style>\n",
              "<table border=\"1\" class=\"dataframe\">\n",
              "  <thead>\n",
              "    <tr style=\"text-align: right;\">\n",
              "      <th></th>\n",
              "      <th>values</th>\n",
              "    </tr>\n",
              "  </thead>\n",
              "  <tbody>\n",
              "    <tr>\n",
              "      <th>rake_total</th>\n",
              "      <td>0</td>\n",
              "    </tr>\n",
              "    <tr>\n",
              "      <th>stack_total</th>\n",
              "      <td>100</td>\n",
              "    </tr>\n",
              "  </tbody>\n",
              "</table>\n",
              "</div>"
            ],
            "text/plain": [
              "rake_total       0\n",
              "stack_total    100\n",
              "dtype: int64"
            ]
          },
          "metadata": {
            "tags": []
          },
          "execution_count": 28
        }
      ]
    },
    {
      "cell_type": "code",
      "metadata": {
        "id": "rKm0Y1QXcVoT",
        "colab_type": "code",
        "colab": {}
      },
      "source": [
        "\n",
        "def step(state, flopP, winP, pot, bet):\n",
        "  #simulate a hand\n",
        "\n",
        "  #state: rake and stack state object\n",
        "  #flopP: prob of flop\n",
        "  #winP: prob of win\n",
        "  \n",
        "  if (flip(flopP) and flip(winP)):\n",
        "    state.pot=np.random.rayleigh(3)\n",
        "    state.bet=random.randint(4,40)\n",
        "    rakeupdate(state)\n",
        "    stackupdateW(state)\n",
        "  else:\n",
        "    state.bet=random.randint(4,40)\n",
        "    stackupdateL(state)\n",
        "\n",
        "def rakeupdate(state):\n",
        "  #update the cumulative total of rake taken\n",
        "  state.rake_total = math.ceil(state.rake_total + np.random.rayleigh(3)*rakePer) #round to next whole chip\n",
        "  # if pot*rakePer<maxRake:\n",
        "  #   state.rake_total = state.rake_total + pot*rakePer\n",
        "  # elif pot*rakePer<maxRake:\n",
        "  #   state.rake_total = state.rake_total + maxRake\n",
        "  return state.rake_total\n",
        "\n",
        "def stackupdateW(state):\n",
        "  if state.stack_total<1:\n",
        "    state.stack_total=0\n",
        "    return\n",
        "  #update the chip stack\n",
        "  else:\n",
        "    state.stack_total = state.stack_total + np.random.rayleigh(3) \n",
        "  return state.stack_total\n",
        "\n",
        "def stackupdateL(state):\n",
        "  if state.stack_total<1:\n",
        "    state.stack_total=0 #if the player loses all of their chips they are done playing\n",
        "    return\n",
        "  else:\n",
        "    state.stack_total = state.stack_total - random.randint(4,10)\n",
        "  return state.stack_total\n",
        "\n",
        "def decorate_rake():\n",
        "  decorate(title='Cumulative Poker Rake',\n",
        "  xlabel='Hands Played',\n",
        "  ylabel='Total $ raked')"
      ],
      "execution_count": null,
      "outputs": []
    },
    {
      "cell_type": "code",
      "metadata": {
        "id": "OL7bTLgH1e4K",
        "colab_type": "code",
        "colab": {}
      },
      "source": [
        "def run_simulation(flopP, winP, pot, rakePer, maxRake, num_steps, bet):\n",
        "    #Simulate the given number of time steps.\n",
        "    state=State(rake_total=0, stack_total=100)\n",
        "\n",
        "\n",
        "    results = TimeSeries()\n",
        "    results2 = TimeSeries()\n",
        "\n",
        "    for i in range(num_steps):\n",
        "      step(state, flopP, winP, pot, bet)\n",
        "      results[i]=state.rake_total\n",
        "      results2[i]=state.stack_total\n",
        "      # print(results[i])\n",
        "      # print(results2[i])\n",
        "    \n",
        "    plot(results, label='Total Rake')\n",
        "    plot(results2, label='Chip Stack')\n",
        "    decorate(title='Cumulative Poker Rake',\n",
        "    xlabel='Hands Played',\n",
        "    ylabel='Total $ raked')\n",
        "\n",
        "    return state"
      ],
      "execution_count": null,
      "outputs": []
    },
    {
      "cell_type": "markdown",
      "metadata": {
        "id": "5vxq1aRZJK8B",
        "colab_type": "text"
      },
      "source": [
        "# Simulation and Conclusion"
      ]
    },
    {
      "cell_type": "markdown",
      "metadata": {
        "id": "T_OKSifgpVVm",
        "colab_type": "text"
      },
      "source": [
        "## A below average player"
      ]
    },
    {
      "cell_type": "code",
      "metadata": {
        "id": "BdN28Mlu3F3I",
        "colab_type": "code",
        "colab": {
          "base_uri": "https://localhost:8080/",
          "height": 387
        },
        "outputId": "f58fef6d-ce94-4965-dd6d-26516d255783"
      },
      "source": [
        "init\n",
        "\n",
        "pot=1\n",
        "bet=1\n",
        "flopP=.75\n",
        "winP=.25\n",
        "rakePer=.05\n",
        "maxRake=5 \n",
        "num_steps=100\n",
        "\n",
        "state = run_simulation(flopP, winP, pot, rakePer, maxRake, num_steps, bet)\n",
        "state"
      ],
      "execution_count": null,
      "outputs": [
        {
          "output_type": "execute_result",
          "data": {
            "text/html": [
              "<div>\n",
              "<style scoped>\n",
              "    .dataframe tbody tr th:only-of-type {\n",
              "        vertical-align: middle;\n",
              "    }\n",
              "\n",
              "    .dataframe tbody tr th {\n",
              "        vertical-align: top;\n",
              "    }\n",
              "\n",
              "    .dataframe thead th {\n",
              "        text-align: right;\n",
              "    }\n",
              "</style>\n",
              "<table border=\"1\" class=\"dataframe\">\n",
              "  <thead>\n",
              "    <tr style=\"text-align: right;\">\n",
              "      <th></th>\n",
              "      <th>values</th>\n",
              "    </tr>\n",
              "  </thead>\n",
              "  <tbody>\n",
              "    <tr>\n",
              "      <th>rake_total</th>\n",
              "      <td>18</td>\n",
              "    </tr>\n",
              "    <tr>\n",
              "      <th>stack_total</th>\n",
              "      <td>0</td>\n",
              "    </tr>\n",
              "  </tbody>\n",
              "</table>\n",
              "</div>"
            ],
            "text/plain": [
              "rake_total     18\n",
              "stack_total     0\n",
              "dtype: int64"
            ]
          },
          "metadata": {
            "tags": []
          },
          "execution_count": 153
        },
        {
          "output_type": "display_data",
          "data": {
            "image/png": "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\n",
            "text/plain": [
              "<Figure size 432x288 with 1 Axes>"
            ]
          },
          "metadata": {
            "tags": [],
            "needs_background": "light"
          }
        }
      ]
    },
    {
      "cell_type": "markdown",
      "metadata": {
        "id": "qhZAI4ZlpZt8",
        "colab_type": "text"
      },
      "source": [
        "##An average player"
      ]
    },
    {
      "cell_type": "code",
      "metadata": {
        "id": "rf0Qy4DD8tNF",
        "colab_type": "code",
        "colab": {
          "base_uri": "https://localhost:8080/",
          "height": 387
        },
        "outputId": "c9278a6c-4977-467c-d6ef-6c85cf35e5c1"
      },
      "source": [
        "init\n",
        "\n",
        "pot=1\n",
        "bet=1\n",
        "flopP=.75\n",
        "winP=.80\n",
        "rakePer=.05\n",
        "maxRake=5 \n",
        "num_steps=100\n",
        "\n",
        "state = run_simulation(flopP, winP, pot, rakePer, maxRake, num_steps, bet)\n",
        "state"
      ],
      "execution_count": null,
      "outputs": [
        {
          "output_type": "execute_result",
          "data": {
            "text/html": [
              "<div>\n",
              "<style scoped>\n",
              "    .dataframe tbody tr th:only-of-type {\n",
              "        vertical-align: middle;\n",
              "    }\n",
              "\n",
              "    .dataframe tbody tr th {\n",
              "        vertical-align: top;\n",
              "    }\n",
              "\n",
              "    .dataframe thead th {\n",
              "        text-align: right;\n",
              "    }\n",
              "</style>\n",
              "<table border=\"1\" class=\"dataframe\">\n",
              "  <thead>\n",
              "    <tr style=\"text-align: right;\">\n",
              "      <th></th>\n",
              "      <th>values</th>\n",
              "    </tr>\n",
              "  </thead>\n",
              "  <tbody>\n",
              "    <tr>\n",
              "      <th>rake_total</th>\n",
              "      <td>63</td>\n",
              "    </tr>\n",
              "    <tr>\n",
              "      <th>stack_total</th>\n",
              "      <td>57</td>\n",
              "    </tr>\n",
              "  </tbody>\n",
              "</table>\n",
              "</div>"
            ],
            "text/plain": [
              "rake_total     63\n",
              "stack_total    57\n",
              "dtype: int64"
            ]
          },
          "metadata": {
            "tags": []
          },
          "execution_count": 165
        },
        {
          "output_type": "display_data",
          "data": {
            "image/png": "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\n",
            "text/plain": [
              "<Figure size 432x288 with 1 Axes>"
            ]
          },
          "metadata": {
            "tags": [],
            "needs_background": "light"
          }
        }
      ]
    },
    {
      "cell_type": "code",
      "metadata": {
        "id": "E0NA2bop9EBq",
        "colab_type": "code",
        "colab": {}
      },
      "source": [
        ""
      ],
      "execution_count": null,
      "outputs": []
    },
    {
      "cell_type": "markdown",
      "metadata": {
        "id": "EKTu1tlu9gEX",
        "colab_type": "text"
      },
      "source": [
        "# Conclusions/Findings\n",
        "\n",
        "It is important to be good at poker if you are going to play for money.  A win percentage has to account for both the competition and the constant drain of the rake."
      ]
    }
  ]
}
