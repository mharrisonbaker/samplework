{
  "nbformat": 4,
  "nbformat_minor": 0,
  "metadata": {
    "colab": {
      "provenance": [],
      "authorship_tag": "ABX9TyNRnllaFjojK7P6Nx7RjeI5",
      "include_colab_link": true
    },
    "kernelspec": {
      "name": "python3",
      "display_name": "Python 3"
    },
    "language_info": {
      "name": "python"
    }
  },
  "cells": [
    {
      "cell_type": "markdown",
      "metadata": {
        "id": "view-in-github",
        "colab_type": "text"
      },
      "source": [
        "<a href=\"https://colab.research.google.com/github/mharrisonbaker/samplework/blob/master/llm_negative_treatment_baker.ipynb\" target=\"_parent\"><img src=\"https://colab.research.google.com/assets/colab-badge.svg\" alt=\"Open In Colab\"/></a>"
      ]
    },
    {
      "cell_type": "markdown",
      "source": [
        "# import libraries"
      ],
      "metadata": {
        "id": "461kCOGoTrt7"
      }
    },
    {
      "cell_type": "code",
      "source": [
        "!pip install openai"
      ],
      "metadata": {
        "colab": {
          "base_uri": "https://localhost:8080/"
        },
        "id": "FELWb2xYMMd7",
        "outputId": "e903a2e1-f15d-493b-ed89-5a1d04f03387"
      },
      "execution_count": 109,
      "outputs": [
        {
          "output_type": "stream",
          "name": "stdout",
          "text": [
            "Requirement already satisfied: openai in /usr/local/lib/python3.10/dist-packages (0.27.8)\n",
            "Requirement already satisfied: requests>=2.20 in /usr/local/lib/python3.10/dist-packages (from openai) (2.27.1)\n",
            "Requirement already satisfied: tqdm in /usr/local/lib/python3.10/dist-packages (from openai) (4.65.0)\n",
            "Requirement already satisfied: aiohttp in /usr/local/lib/python3.10/dist-packages (from openai) (3.8.4)\n",
            "Requirement already satisfied: urllib3<1.27,>=1.21.1 in /usr/local/lib/python3.10/dist-packages (from requests>=2.20->openai) (1.26.16)\n",
            "Requirement already satisfied: certifi>=2017.4.17 in /usr/local/lib/python3.10/dist-packages (from requests>=2.20->openai) (2023.5.7)\n",
            "Requirement already satisfied: charset-normalizer~=2.0.0 in /usr/local/lib/python3.10/dist-packages (from requests>=2.20->openai) (2.0.12)\n",
            "Requirement already satisfied: idna<4,>=2.5 in /usr/local/lib/python3.10/dist-packages (from requests>=2.20->openai) (3.4)\n",
            "Requirement already satisfied: attrs>=17.3.0 in /usr/local/lib/python3.10/dist-packages (from aiohttp->openai) (23.1.0)\n",
            "Requirement already satisfied: multidict<7.0,>=4.5 in /usr/local/lib/python3.10/dist-packages (from aiohttp->openai) (6.0.4)\n",
            "Requirement already satisfied: async-timeout<5.0,>=4.0.0a3 in /usr/local/lib/python3.10/dist-packages (from aiohttp->openai) (4.0.2)\n",
            "Requirement already satisfied: yarl<2.0,>=1.0 in /usr/local/lib/python3.10/dist-packages (from aiohttp->openai) (1.9.2)\n",
            "Requirement already satisfied: frozenlist>=1.1.1 in /usr/local/lib/python3.10/dist-packages (from aiohttp->openai) (1.3.3)\n",
            "Requirement already satisfied: aiosignal>=1.1.2 in /usr/local/lib/python3.10/dist-packages (from aiohttp->openai) (1.3.1)\n"
          ]
        }
      ]
    },
    {
      "cell_type": "code",
      "source": [
        "!pip install tiktoken"
      ],
      "metadata": {
        "colab": {
          "base_uri": "https://localhost:8080/"
        },
        "id": "Vqcon7zz1RXG",
        "outputId": "cf2741a5-2024-4433-899a-6c008c80b440"
      },
      "execution_count": 110,
      "outputs": [
        {
          "output_type": "stream",
          "name": "stdout",
          "text": [
            "Requirement already satisfied: tiktoken in /usr/local/lib/python3.10/dist-packages (0.4.0)\n",
            "Requirement already satisfied: regex>=2022.1.18 in /usr/local/lib/python3.10/dist-packages (from tiktoken) (2022.10.31)\n",
            "Requirement already satisfied: requests>=2.26.0 in /usr/local/lib/python3.10/dist-packages (from tiktoken) (2.27.1)\n",
            "Requirement already satisfied: urllib3<1.27,>=1.21.1 in /usr/local/lib/python3.10/dist-packages (from requests>=2.26.0->tiktoken) (1.26.16)\n",
            "Requirement already satisfied: certifi>=2017.4.17 in /usr/local/lib/python3.10/dist-packages (from requests>=2.26.0->tiktoken) (2023.5.7)\n",
            "Requirement already satisfied: charset-normalizer~=2.0.0 in /usr/local/lib/python3.10/dist-packages (from requests>=2.26.0->tiktoken) (2.0.12)\n",
            "Requirement already satisfied: idna<4,>=2.5 in /usr/local/lib/python3.10/dist-packages (from requests>=2.26.0->tiktoken) (3.4)\n"
          ]
        }
      ]
    },
    {
      "cell_type": "code",
      "source": [
        "import requests\n",
        "from bs4 import BeautifulSoup\n",
        "import openai\n",
        "from getpass import getpass\n",
        "import os\n",
        "import textwrap\n"
      ],
      "metadata": {
        "id": "IlAdTSMy_nTK"
      },
      "execution_count": 111,
      "outputs": []
    },
    {
      "cell_type": "markdown",
      "source": [
        " # enter api key"
      ],
      "metadata": {
        "id": "qWiStOzxUba5"
      }
    },
    {
      "cell_type": "code",
      "source": [
        "#enter your API key here\n",
        "os.environ['OPENAI_API_KEY'] = getpass('Enter your OpenAI API key: ')"
      ],
      "metadata": {
        "colab": {
          "base_uri": "https://localhost:8080/"
        },
        "id": "89jjsETjLfs9",
        "outputId": "b3efc8de-683d-4e2d-c4e2-f90af534000a"
      },
      "execution_count": 172,
      "outputs": [
        {
          "name": "stdout",
          "output_type": "stream",
          "text": [
            "Enter your OpenAI API key: ··········\n"
          ]
        }
      ]
    },
    {
      "cell_type": "code",
      "source": [
        "openai.api_key = os.environ['OPENAI_API_KEY']"
      ],
      "metadata": {
        "id": "dSGYtcvzL1ny"
      },
      "execution_count": 161,
      "outputs": []
    },
    {
      "cell_type": "markdown",
      "source": [
        "## insert test slug here"
      ],
      "metadata": {
        "id": "lIaIvZICTn0A"
      }
    },
    {
      "cell_type": "code",
      "source": [
        "slug1 = 'littlejohn-v-state-7'\n",
        "slug2 = 'beattie-v-beattie'\n",
        "slug3 = 'travelers-indem-co-v-lake'\n",
        "slug4 = 'tilden-v-state'\n",
        "slug5 = 'in-re-lee-342013'\n",
        "#slug6=set_aside_slug\n",
        "\n",
        "slug = slug4 #change this line to test slugs"
      ],
      "metadata": {
        "id": "nUiaWvxVS30T"
      },
      "execution_count": 149,
      "outputs": []
    },
    {
      "cell_type": "markdown",
      "source": [
        "# define functions"
      ],
      "metadata": {
        "id": "Ret8zSxzTwep"
      }
    },
    {
      "cell_type": "code",
      "source": [
        "def get_case_url(slug):\n",
        "    url = f\"https://casetext.com/api/search-api/doc/{slug}/html\"\n",
        "    return url"
      ],
      "metadata": {
        "id": "62Uii4BrEyRB"
      },
      "execution_count": 168,
      "outputs": []
    },
    {
      "cell_type": "code",
      "source": [
        "def retrieve_case_text(slug):\n",
        "    url = f\"https://casetext.com/api/search-api/doc/{slug}/html\"\n",
        "    response = requests.get(url)\n",
        "\n",
        "    # Check if the request was successful\n",
        "    if response.status_code == 200:\n",
        "        # Use BeautifulSoup to parse the HTML content\n",
        "        soup = BeautifulSoup(response.content, 'html.parser')\n",
        "        case_text = soup.get_text()\n",
        "        return case_text\n",
        "    else:\n",
        "        print(f\"Failed to retrieve case: {slug}\")\n",
        "        return None\n"
      ],
      "metadata": {
        "id": "S2MeznMh_mDX"
      },
      "execution_count": 150,
      "outputs": []
    },
    {
      "cell_type": "code",
      "source": [
        "# retrieve_case_text(slug=test_slug)"
      ],
      "metadata": {
        "id": "BMnuR8qj_5S7"
      },
      "execution_count": 142,
      "outputs": []
    },
    {
      "cell_type": "code",
      "source": [
        "def extract_negative_treatments(slug):\n",
        "    # Fetch the case text using the slug\n",
        "    case_text = retrieve_case_text(slug)\n",
        "\n",
        "    # Break the case text into manageable parts\n",
        "    case_text_parts = textwrap.wrap(case_text, width=12000)  # 12000 characters per part\n",
        "\n",
        "\n",
        "    # Process each part using the LLM\n",
        "    treatments = []\n",
        "    for part in case_text_parts:\n",
        "        response = openai.ChatCompletion.create(\n",
        "            model=\"gpt-3.5-turbo\",\n",
        "            messages=[\n",
        "                {\"role\": \"system\", \"content\": \"You are a lawyer.\"},\n",
        "                {\"role\": \"user\", \"content\": 'Given the following legal opinion:\\n\\n'+part+'\\n\\nIdentify any phrases or sections indicating that a prior case was overruled or that its holding was limited.'},\n",
        "            ],\n",
        "            temperature=0.4\n",
        "        )\n",
        "\n",
        "        # Save the LLM's response\n",
        "        treatments.append(response['choices'][0]['message']['content'])\n",
        "\n",
        "    # Remove duplicates while preserving order\n",
        "    treatments = list(dict.fromkeys(treatments))\n",
        "\n",
        "    return treatments"
      ],
      "metadata": {
        "id": "tCnqHPdzMXBi"
      },
      "execution_count": 162,
      "outputs": []
    },
    {
      "cell_type": "markdown",
      "source": [
        "#use function"
      ],
      "metadata": {
        "id": "BFz2O3tMDte7"
      }
    },
    {
      "cell_type": "code",
      "source": [
        "# Use the function\n",
        "treatments = extract_negative_treatments(slug=slug)\n",
        "print(treatments)\n",
        "url = get_case_url(slug)\n",
        "print(url)"
      ],
      "metadata": {
        "colab": {
          "base_uri": "https://localhost:8080/"
        },
        "id": "DsW-QurzIgnl",
        "outputId": "32bfcc2f-864d-42a2-af55-5378769cfd56"
      },
      "execution_count": 171,
      "outputs": [
        {
          "output_type": "stream",
          "name": "stdout",
          "text": [
            "['There are no phrases or sections in the legal opinion indicating that a prior case was overruled or that its holding was limited.', \"Based on the provided legal opinion, there are no phrases or sections indicating that a prior case was overruled or that its holding was limited. The opinion mentions the State's request to overrule a previous holding in Johnson but states that the court declines to expressly overrule it. However, the opinion does not mention any specific phrases or sections indicating that a prior case was overruled or limited.\"]\n",
            "https://casetext.com/api/search-api/doc/tilden-v-state/html\n"
          ]
        }
      ]
    },
    {
      "cell_type": "code",
      "source": [],
      "metadata": {
        "id": "l2tLyrhJE5Gm"
      },
      "execution_count": null,
      "outputs": []
    }
  ]
}