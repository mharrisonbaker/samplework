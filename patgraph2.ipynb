{
  "nbformat": 4,
  "nbformat_minor": 0,
  "metadata": {
    "colab": {
      "provenance": [],
      "gpuType": "T4",
      "mount_file_id": "1Zg9GpdgIcIYf2ta-xISLcNRD70hPyKLJ",
      "authorship_tag": "ABX9TyM0MprRW6cZn1FhyOXgwPuM",
      "include_colab_link": true
    },
    "kernelspec": {
      "name": "python3",
      "display_name": "Python 3"
    },
    "language_info": {
      "name": "python"
    },
    "accelerator": "GPU",
    "widgets": {
      "application/vnd.jupyter.widget-state+json": {
        "4d98cd0ae41045fc8d1cc766735e6c78": {
          "model_module": "@jupyter-widgets/controls",
          "model_name": "HBoxModel",
          "model_module_version": "1.5.0",
          "state": {
            "_dom_classes": [],
            "_model_module": "@jupyter-widgets/controls",
            "_model_module_version": "1.5.0",
            "_model_name": "HBoxModel",
            "_view_count": null,
            "_view_module": "@jupyter-widgets/controls",
            "_view_module_version": "1.5.0",
            "_view_name": "HBoxView",
            "box_style": "",
            "children": [
              "IPY_MODEL_42927b9f72d145f9a2346873ad1c6bdf",
              "IPY_MODEL_78f18f00868f4fcc918691a5427e6122",
              "IPY_MODEL_56de51a0143e4f03875a9a5ec7b25b8d"
            ],
            "layout": "IPY_MODEL_36b8ead637224e7f843c10f996d18b48"
          }
        },
        "42927b9f72d145f9a2346873ad1c6bdf": {
          "model_module": "@jupyter-widgets/controls",
          "model_name": "HTMLModel",
          "model_module_version": "1.5.0",
          "state": {
            "_dom_classes": [],
            "_model_module": "@jupyter-widgets/controls",
            "_model_module_version": "1.5.0",
            "_model_name": "HTMLModel",
            "_view_count": null,
            "_view_module": "@jupyter-widgets/controls",
            "_view_module_version": "1.5.0",
            "_view_name": "HTMLView",
            "description": "",
            "description_tooltip": null,
            "layout": "IPY_MODEL_faf9973105394da1a6987bc277d8914d",
            "placeholder": "​",
            "style": "IPY_MODEL_6e6ea82afaee4202b9af7e18e312e484",
            "value": "Downloading (…)lve/main/config.json: 100%"
          }
        },
        "78f18f00868f4fcc918691a5427e6122": {
          "model_module": "@jupyter-widgets/controls",
          "model_name": "FloatProgressModel",
          "model_module_version": "1.5.0",
          "state": {
            "_dom_classes": [],
            "_model_module": "@jupyter-widgets/controls",
            "_model_module_version": "1.5.0",
            "_model_name": "FloatProgressModel",
            "_view_count": null,
            "_view_module": "@jupyter-widgets/controls",
            "_view_module_version": "1.5.0",
            "_view_name": "ProgressView",
            "bar_style": "success",
            "description": "",
            "description_tooltip": null,
            "layout": "IPY_MODEL_ade2563f09244ed5891319db2e25bd2c",
            "max": 385,
            "min": 0,
            "orientation": "horizontal",
            "style": "IPY_MODEL_00c371ff96c84312b626d7eb9839a494",
            "value": 385
          }
        },
        "56de51a0143e4f03875a9a5ec7b25b8d": {
          "model_module": "@jupyter-widgets/controls",
          "model_name": "HTMLModel",
          "model_module_version": "1.5.0",
          "state": {
            "_dom_classes": [],
            "_model_module": "@jupyter-widgets/controls",
            "_model_module_version": "1.5.0",
            "_model_name": "HTMLModel",
            "_view_count": null,
            "_view_module": "@jupyter-widgets/controls",
            "_view_module_version": "1.5.0",
            "_view_name": "HTMLView",
            "description": "",
            "description_tooltip": null,
            "layout": "IPY_MODEL_de65f2697ee142b98f29fb837509a36c",
            "placeholder": "​",
            "style": "IPY_MODEL_b00144a7fc0049b7952175c904bb7cee",
            "value": " 385/385 [00:00&lt;00:00, 13.4kB/s]"
          }
        },
        "36b8ead637224e7f843c10f996d18b48": {
          "model_module": "@jupyter-widgets/base",
          "model_name": "LayoutModel",
          "model_module_version": "1.2.0",
          "state": {
            "_model_module": "@jupyter-widgets/base",
            "_model_module_version": "1.2.0",
            "_model_name": "LayoutModel",
            "_view_count": null,
            "_view_module": "@jupyter-widgets/base",
            "_view_module_version": "1.2.0",
            "_view_name": "LayoutView",
            "align_content": null,
            "align_items": null,
            "align_self": null,
            "border": null,
            "bottom": null,
            "display": null,
            "flex": null,
            "flex_flow": null,
            "grid_area": null,
            "grid_auto_columns": null,
            "grid_auto_flow": null,
            "grid_auto_rows": null,
            "grid_column": null,
            "grid_gap": null,
            "grid_row": null,
            "grid_template_areas": null,
            "grid_template_columns": null,
            "grid_template_rows": null,
            "height": null,
            "justify_content": null,
            "justify_items": null,
            "left": null,
            "margin": null,
            "max_height": null,
            "max_width": null,
            "min_height": null,
            "min_width": null,
            "object_fit": null,
            "object_position": null,
            "order": null,
            "overflow": null,
            "overflow_x": null,
            "overflow_y": null,
            "padding": null,
            "right": null,
            "top": null,
            "visibility": null,
            "width": null
          }
        },
        "faf9973105394da1a6987bc277d8914d": {
          "model_module": "@jupyter-widgets/base",
          "model_name": "LayoutModel",
          "model_module_version": "1.2.0",
          "state": {
            "_model_module": "@jupyter-widgets/base",
            "_model_module_version": "1.2.0",
            "_model_name": "LayoutModel",
            "_view_count": null,
            "_view_module": "@jupyter-widgets/base",
            "_view_module_version": "1.2.0",
            "_view_name": "LayoutView",
            "align_content": null,
            "align_items": null,
            "align_self": null,
            "border": null,
            "bottom": null,
            "display": null,
            "flex": null,
            "flex_flow": null,
            "grid_area": null,
            "grid_auto_columns": null,
            "grid_auto_flow": null,
            "grid_auto_rows": null,
            "grid_column": null,
            "grid_gap": null,
            "grid_row": null,
            "grid_template_areas": null,
            "grid_template_columns": null,
            "grid_template_rows": null,
            "height": null,
            "justify_content": null,
            "justify_items": null,
            "left": null,
            "margin": null,
            "max_height": null,
            "max_width": null,
            "min_height": null,
            "min_width": null,
            "object_fit": null,
            "object_position": null,
            "order": null,
            "overflow": null,
            "overflow_x": null,
            "overflow_y": null,
            "padding": null,
            "right": null,
            "top": null,
            "visibility": null,
            "width": null
          }
        },
        "6e6ea82afaee4202b9af7e18e312e484": {
          "model_module": "@jupyter-widgets/controls",
          "model_name": "DescriptionStyleModel",
          "model_module_version": "1.5.0",
          "state": {
            "_model_module": "@jupyter-widgets/controls",
            "_model_module_version": "1.5.0",
            "_model_name": "DescriptionStyleModel",
            "_view_count": null,
            "_view_module": "@jupyter-widgets/base",
            "_view_module_version": "1.2.0",
            "_view_name": "StyleView",
            "description_width": ""
          }
        },
        "ade2563f09244ed5891319db2e25bd2c": {
          "model_module": "@jupyter-widgets/base",
          "model_name": "LayoutModel",
          "model_module_version": "1.2.0",
          "state": {
            "_model_module": "@jupyter-widgets/base",
            "_model_module_version": "1.2.0",
            "_model_name": "LayoutModel",
            "_view_count": null,
            "_view_module": "@jupyter-widgets/base",
            "_view_module_version": "1.2.0",
            "_view_name": "LayoutView",
            "align_content": null,
            "align_items": null,
            "align_self": null,
            "border": null,
            "bottom": null,
            "display": null,
            "flex": null,
            "flex_flow": null,
            "grid_area": null,
            "grid_auto_columns": null,
            "grid_auto_flow": null,
            "grid_auto_rows": null,
            "grid_column": null,
            "grid_gap": null,
            "grid_row": null,
            "grid_template_areas": null,
            "grid_template_columns": null,
            "grid_template_rows": null,
            "height": null,
            "justify_content": null,
            "justify_items": null,
            "left": null,
            "margin": null,
            "max_height": null,
            "max_width": null,
            "min_height": null,
            "min_width": null,
            "object_fit": null,
            "object_position": null,
            "order": null,
            "overflow": null,
            "overflow_x": null,
            "overflow_y": null,
            "padding": null,
            "right": null,
            "top": null,
            "visibility": null,
            "width": null
          }
        },
        "00c371ff96c84312b626d7eb9839a494": {
          "model_module": "@jupyter-widgets/controls",
          "model_name": "ProgressStyleModel",
          "model_module_version": "1.5.0",
          "state": {
            "_model_module": "@jupyter-widgets/controls",
            "_model_module_version": "1.5.0",
            "_model_name": "ProgressStyleModel",
            "_view_count": null,
            "_view_module": "@jupyter-widgets/base",
            "_view_module_version": "1.2.0",
            "_view_name": "StyleView",
            "bar_color": null,
            "description_width": ""
          }
        },
        "de65f2697ee142b98f29fb837509a36c": {
          "model_module": "@jupyter-widgets/base",
          "model_name": "LayoutModel",
          "model_module_version": "1.2.0",
          "state": {
            "_model_module": "@jupyter-widgets/base",
            "_model_module_version": "1.2.0",
            "_model_name": "LayoutModel",
            "_view_count": null,
            "_view_module": "@jupyter-widgets/base",
            "_view_module_version": "1.2.0",
            "_view_name": "LayoutView",
            "align_content": null,
            "align_items": null,
            "align_self": null,
            "border": null,
            "bottom": null,
            "display": null,
            "flex": null,
            "flex_flow": null,
            "grid_area": null,
            "grid_auto_columns": null,
            "grid_auto_flow": null,
            "grid_auto_rows": null,
            "grid_column": null,
            "grid_gap": null,
            "grid_row": null,
            "grid_template_areas": null,
            "grid_template_columns": null,
            "grid_template_rows": null,
            "height": null,
            "justify_content": null,
            "justify_items": null,
            "left": null,
            "margin": null,
            "max_height": null,
            "max_width": null,
            "min_height": null,
            "min_width": null,
            "object_fit": null,
            "object_position": null,
            "order": null,
            "overflow": null,
            "overflow_x": null,
            "overflow_y": null,
            "padding": null,
            "right": null,
            "top": null,
            "visibility": null,
            "width": null
          }
        },
        "b00144a7fc0049b7952175c904bb7cee": {
          "model_module": "@jupyter-widgets/controls",
          "model_name": "DescriptionStyleModel",
          "model_module_version": "1.5.0",
          "state": {
            "_model_module": "@jupyter-widgets/controls",
            "_model_module_version": "1.5.0",
            "_model_name": "DescriptionStyleModel",
            "_view_count": null,
            "_view_module": "@jupyter-widgets/base",
            "_view_module_version": "1.2.0",
            "_view_name": "StyleView",
            "description_width": ""
          }
        },
        "54557404c046464c88308638c47092fc": {
          "model_module": "@jupyter-widgets/controls",
          "model_name": "HBoxModel",
          "model_module_version": "1.5.0",
          "state": {
            "_dom_classes": [],
            "_model_module": "@jupyter-widgets/controls",
            "_model_module_version": "1.5.0",
            "_model_name": "HBoxModel",
            "_view_count": null,
            "_view_module": "@jupyter-widgets/controls",
            "_view_module_version": "1.5.0",
            "_view_name": "HBoxView",
            "box_style": "",
            "children": [
              "IPY_MODEL_07643ff286f7437f95566e84d2506491",
              "IPY_MODEL_560ce0d8048542e7ba3b49b0c0f5ebfb",
              "IPY_MODEL_f7f0355d553a4858979c5f974e1050f6"
            ],
            "layout": "IPY_MODEL_043010f97d544efb873573c45ddaf3c5"
          }
        },
        "07643ff286f7437f95566e84d2506491": {
          "model_module": "@jupyter-widgets/controls",
          "model_name": "HTMLModel",
          "model_module_version": "1.5.0",
          "state": {
            "_dom_classes": [],
            "_model_module": "@jupyter-widgets/controls",
            "_model_module_version": "1.5.0",
            "_model_name": "HTMLModel",
            "_view_count": null,
            "_view_module": "@jupyter-widgets/controls",
            "_view_module_version": "1.5.0",
            "_view_name": "HTMLView",
            "description": "",
            "description_tooltip": null,
            "layout": "IPY_MODEL_1ab2b4e61ed34f1db0563c101d4bd08c",
            "placeholder": "​",
            "style": "IPY_MODEL_7dd0871cac4747918be199b62d5da86f",
            "value": "Downloading (…)solve/main/vocab.txt: 100%"
          }
        },
        "560ce0d8048542e7ba3b49b0c0f5ebfb": {
          "model_module": "@jupyter-widgets/controls",
          "model_name": "FloatProgressModel",
          "model_module_version": "1.5.0",
          "state": {
            "_dom_classes": [],
            "_model_module": "@jupyter-widgets/controls",
            "_model_module_version": "1.5.0",
            "_model_name": "FloatProgressModel",
            "_view_count": null,
            "_view_module": "@jupyter-widgets/controls",
            "_view_module_version": "1.5.0",
            "_view_name": "ProgressView",
            "bar_style": "success",
            "description": "",
            "description_tooltip": null,
            "layout": "IPY_MODEL_10c749c7f8b7470594db3e6ef367cc75",
            "max": 227845,
            "min": 0,
            "orientation": "horizontal",
            "style": "IPY_MODEL_047ba5058fe843db9fea188a6ac837f9",
            "value": 227845
          }
        },
        "f7f0355d553a4858979c5f974e1050f6": {
          "model_module": "@jupyter-widgets/controls",
          "model_name": "HTMLModel",
          "model_module_version": "1.5.0",
          "state": {
            "_dom_classes": [],
            "_model_module": "@jupyter-widgets/controls",
            "_model_module_version": "1.5.0",
            "_model_name": "HTMLModel",
            "_view_count": null,
            "_view_module": "@jupyter-widgets/controls",
            "_view_module_version": "1.5.0",
            "_view_name": "HTMLView",
            "description": "",
            "description_tooltip": null,
            "layout": "IPY_MODEL_dc5b73d82cf241dba8ceeace44f63b0a",
            "placeholder": "​",
            "style": "IPY_MODEL_7c51369e54f941faac179491fe25b56c",
            "value": " 228k/228k [00:00&lt;00:00, 4.74MB/s]"
          }
        },
        "043010f97d544efb873573c45ddaf3c5": {
          "model_module": "@jupyter-widgets/base",
          "model_name": "LayoutModel",
          "model_module_version": "1.2.0",
          "state": {
            "_model_module": "@jupyter-widgets/base",
            "_model_module_version": "1.2.0",
            "_model_name": "LayoutModel",
            "_view_count": null,
            "_view_module": "@jupyter-widgets/base",
            "_view_module_version": "1.2.0",
            "_view_name": "LayoutView",
            "align_content": null,
            "align_items": null,
            "align_self": null,
            "border": null,
            "bottom": null,
            "display": null,
            "flex": null,
            "flex_flow": null,
            "grid_area": null,
            "grid_auto_columns": null,
            "grid_auto_flow": null,
            "grid_auto_rows": null,
            "grid_column": null,
            "grid_gap": null,
            "grid_row": null,
            "grid_template_areas": null,
            "grid_template_columns": null,
            "grid_template_rows": null,
            "height": null,
            "justify_content": null,
            "justify_items": null,
            "left": null,
            "margin": null,
            "max_height": null,
            "max_width": null,
            "min_height": null,
            "min_width": null,
            "object_fit": null,
            "object_position": null,
            "order": null,
            "overflow": null,
            "overflow_x": null,
            "overflow_y": null,
            "padding": null,
            "right": null,
            "top": null,
            "visibility": null,
            "width": null
          }
        },
        "1ab2b4e61ed34f1db0563c101d4bd08c": {
          "model_module": "@jupyter-widgets/base",
          "model_name": "LayoutModel",
          "model_module_version": "1.2.0",
          "state": {
            "_model_module": "@jupyter-widgets/base",
            "_model_module_version": "1.2.0",
            "_model_name": "LayoutModel",
            "_view_count": null,
            "_view_module": "@jupyter-widgets/base",
            "_view_module_version": "1.2.0",
            "_view_name": "LayoutView",
            "align_content": null,
            "align_items": null,
            "align_self": null,
            "border": null,
            "bottom": null,
            "display": null,
            "flex": null,
            "flex_flow": null,
            "grid_area": null,
            "grid_auto_columns": null,
            "grid_auto_flow": null,
            "grid_auto_rows": null,
            "grid_column": null,
            "grid_gap": null,
            "grid_row": null,
            "grid_template_areas": null,
            "grid_template_columns": null,
            "grid_template_rows": null,
            "height": null,
            "justify_content": null,
            "justify_items": null,
            "left": null,
            "margin": null,
            "max_height": null,
            "max_width": null,
            "min_height": null,
            "min_width": null,
            "object_fit": null,
            "object_position": null,
            "order": null,
            "overflow": null,
            "overflow_x": null,
            "overflow_y": null,
            "padding": null,
            "right": null,
            "top": null,
            "visibility": null,
            "width": null
          }
        },
        "7dd0871cac4747918be199b62d5da86f": {
          "model_module": "@jupyter-widgets/controls",
          "model_name": "DescriptionStyleModel",
          "model_module_version": "1.5.0",
          "state": {
            "_model_module": "@jupyter-widgets/controls",
            "_model_module_version": "1.5.0",
            "_model_name": "DescriptionStyleModel",
            "_view_count": null,
            "_view_module": "@jupyter-widgets/base",
            "_view_module_version": "1.2.0",
            "_view_name": "StyleView",
            "description_width": ""
          }
        },
        "10c749c7f8b7470594db3e6ef367cc75": {
          "model_module": "@jupyter-widgets/base",
          "model_name": "LayoutModel",
          "model_module_version": "1.2.0",
          "state": {
            "_model_module": "@jupyter-widgets/base",
            "_model_module_version": "1.2.0",
            "_model_name": "LayoutModel",
            "_view_count": null,
            "_view_module": "@jupyter-widgets/base",
            "_view_module_version": "1.2.0",
            "_view_name": "LayoutView",
            "align_content": null,
            "align_items": null,
            "align_self": null,
            "border": null,
            "bottom": null,
            "display": null,
            "flex": null,
            "flex_flow": null,
            "grid_area": null,
            "grid_auto_columns": null,
            "grid_auto_flow": null,
            "grid_auto_rows": null,
            "grid_column": null,
            "grid_gap": null,
            "grid_row": null,
            "grid_template_areas": null,
            "grid_template_columns": null,
            "grid_template_rows": null,
            "height": null,
            "justify_content": null,
            "justify_items": null,
            "left": null,
            "margin": null,
            "max_height": null,
            "max_width": null,
            "min_height": null,
            "min_width": null,
            "object_fit": null,
            "object_position": null,
            "order": null,
            "overflow": null,
            "overflow_x": null,
            "overflow_y": null,
            "padding": null,
            "right": null,
            "top": null,
            "visibility": null,
            "width": null
          }
        },
        "047ba5058fe843db9fea188a6ac837f9": {
          "model_module": "@jupyter-widgets/controls",
          "model_name": "ProgressStyleModel",
          "model_module_version": "1.5.0",
          "state": {
            "_model_module": "@jupyter-widgets/controls",
            "_model_module_version": "1.5.0",
            "_model_name": "ProgressStyleModel",
            "_view_count": null,
            "_view_module": "@jupyter-widgets/base",
            "_view_module_version": "1.2.0",
            "_view_name": "StyleView",
            "bar_color": null,
            "description_width": ""
          }
        },
        "dc5b73d82cf241dba8ceeace44f63b0a": {
          "model_module": "@jupyter-widgets/base",
          "model_name": "LayoutModel",
          "model_module_version": "1.2.0",
          "state": {
            "_model_module": "@jupyter-widgets/base",
            "_model_module_version": "1.2.0",
            "_model_name": "LayoutModel",
            "_view_count": null,
            "_view_module": "@jupyter-widgets/base",
            "_view_module_version": "1.2.0",
            "_view_name": "LayoutView",
            "align_content": null,
            "align_items": null,
            "align_self": null,
            "border": null,
            "bottom": null,
            "display": null,
            "flex": null,
            "flex_flow": null,
            "grid_area": null,
            "grid_auto_columns": null,
            "grid_auto_flow": null,
            "grid_auto_rows": null,
            "grid_column": null,
            "grid_gap": null,
            "grid_row": null,
            "grid_template_areas": null,
            "grid_template_columns": null,
            "grid_template_rows": null,
            "height": null,
            "justify_content": null,
            "justify_items": null,
            "left": null,
            "margin": null,
            "max_height": null,
            "max_width": null,
            "min_height": null,
            "min_width": null,
            "object_fit": null,
            "object_position": null,
            "order": null,
            "overflow": null,
            "overflow_x": null,
            "overflow_y": null,
            "padding": null,
            "right": null,
            "top": null,
            "visibility": null,
            "width": null
          }
        },
        "7c51369e54f941faac179491fe25b56c": {
          "model_module": "@jupyter-widgets/controls",
          "model_name": "DescriptionStyleModel",
          "model_module_version": "1.5.0",
          "state": {
            "_model_module": "@jupyter-widgets/controls",
            "_model_module_version": "1.5.0",
            "_model_name": "DescriptionStyleModel",
            "_view_count": null,
            "_view_module": "@jupyter-widgets/base",
            "_view_module_version": "1.2.0",
            "_view_name": "StyleView",
            "description_width": ""
          }
        },
        "5679d483bdbd43de83661ac11cf83546": {
          "model_module": "@jupyter-widgets/controls",
          "model_name": "HBoxModel",
          "model_module_version": "1.5.0",
          "state": {
            "_dom_classes": [],
            "_model_module": "@jupyter-widgets/controls",
            "_model_module_version": "1.5.0",
            "_model_name": "HBoxModel",
            "_view_count": null,
            "_view_module": "@jupyter-widgets/controls",
            "_view_module_version": "1.5.0",
            "_view_name": "HBoxView",
            "box_style": "",
            "children": [
              "IPY_MODEL_ca40baa5da8548b3903be1919bb9bfd5",
              "IPY_MODEL_6f202f62a3f944fda875dde77a48533f",
              "IPY_MODEL_9e10d38840104ae9bc1d854737caa927"
            ],
            "layout": "IPY_MODEL_4387bf0d0c66496385a784afb5c76e8a"
          }
        },
        "ca40baa5da8548b3903be1919bb9bfd5": {
          "model_module": "@jupyter-widgets/controls",
          "model_name": "HTMLModel",
          "model_module_version": "1.5.0",
          "state": {
            "_dom_classes": [],
            "_model_module": "@jupyter-widgets/controls",
            "_model_module_version": "1.5.0",
            "_model_name": "HTMLModel",
            "_view_count": null,
            "_view_module": "@jupyter-widgets/controls",
            "_view_module_version": "1.5.0",
            "_view_name": "HTMLView",
            "description": "",
            "description_tooltip": null,
            "layout": "IPY_MODEL_ca17a5fdf1414d159ac9f80b0edfb099",
            "placeholder": "​",
            "style": "IPY_MODEL_eb261085c29e4a92bac6f9c5d981b070",
            "value": "Downloading pytorch_model.bin: 100%"
          }
        },
        "6f202f62a3f944fda875dde77a48533f": {
          "model_module": "@jupyter-widgets/controls",
          "model_name": "FloatProgressModel",
          "model_module_version": "1.5.0",
          "state": {
            "_dom_classes": [],
            "_model_module": "@jupyter-widgets/controls",
            "_model_module_version": "1.5.0",
            "_model_name": "FloatProgressModel",
            "_view_count": null,
            "_view_module": "@jupyter-widgets/controls",
            "_view_module_version": "1.5.0",
            "_view_name": "ProgressView",
            "bar_style": "success",
            "description": "",
            "description_tooltip": null,
            "layout": "IPY_MODEL_b6763a5ee0804dd18c675896c6bb61ce",
            "max": 442221694,
            "min": 0,
            "orientation": "horizontal",
            "style": "IPY_MODEL_791ac08de20441aabcee6a176d91e3a0",
            "value": 442221694
          }
        },
        "9e10d38840104ae9bc1d854737caa927": {
          "model_module": "@jupyter-widgets/controls",
          "model_name": "HTMLModel",
          "model_module_version": "1.5.0",
          "state": {
            "_dom_classes": [],
            "_model_module": "@jupyter-widgets/controls",
            "_model_module_version": "1.5.0",
            "_model_name": "HTMLModel",
            "_view_count": null,
            "_view_module": "@jupyter-widgets/controls",
            "_view_module_version": "1.5.0",
            "_view_name": "HTMLView",
            "description": "",
            "description_tooltip": null,
            "layout": "IPY_MODEL_964ade08e7c049b59cca1964e9fea2bf",
            "placeholder": "​",
            "style": "IPY_MODEL_00359830585743e0ab9949958166aaaf",
            "value": " 442M/442M [00:06&lt;00:00, 70.0MB/s]"
          }
        },
        "4387bf0d0c66496385a784afb5c76e8a": {
          "model_module": "@jupyter-widgets/base",
          "model_name": "LayoutModel",
          "model_module_version": "1.2.0",
          "state": {
            "_model_module": "@jupyter-widgets/base",
            "_model_module_version": "1.2.0",
            "_model_name": "LayoutModel",
            "_view_count": null,
            "_view_module": "@jupyter-widgets/base",
            "_view_module_version": "1.2.0",
            "_view_name": "LayoutView",
            "align_content": null,
            "align_items": null,
            "align_self": null,
            "border": null,
            "bottom": null,
            "display": null,
            "flex": null,
            "flex_flow": null,
            "grid_area": null,
            "grid_auto_columns": null,
            "grid_auto_flow": null,
            "grid_auto_rows": null,
            "grid_column": null,
            "grid_gap": null,
            "grid_row": null,
            "grid_template_areas": null,
            "grid_template_columns": null,
            "grid_template_rows": null,
            "height": null,
            "justify_content": null,
            "justify_items": null,
            "left": null,
            "margin": null,
            "max_height": null,
            "max_width": null,
            "min_height": null,
            "min_width": null,
            "object_fit": null,
            "object_position": null,
            "order": null,
            "overflow": null,
            "overflow_x": null,
            "overflow_y": null,
            "padding": null,
            "right": null,
            "top": null,
            "visibility": null,
            "width": null
          }
        },
        "ca17a5fdf1414d159ac9f80b0edfb099": {
          "model_module": "@jupyter-widgets/base",
          "model_name": "LayoutModel",
          "model_module_version": "1.2.0",
          "state": {
            "_model_module": "@jupyter-widgets/base",
            "_model_module_version": "1.2.0",
            "_model_name": "LayoutModel",
            "_view_count": null,
            "_view_module": "@jupyter-widgets/base",
            "_view_module_version": "1.2.0",
            "_view_name": "LayoutView",
            "align_content": null,
            "align_items": null,
            "align_self": null,
            "border": null,
            "bottom": null,
            "display": null,
            "flex": null,
            "flex_flow": null,
            "grid_area": null,
            "grid_auto_columns": null,
            "grid_auto_flow": null,
            "grid_auto_rows": null,
            "grid_column": null,
            "grid_gap": null,
            "grid_row": null,
            "grid_template_areas": null,
            "grid_template_columns": null,
            "grid_template_rows": null,
            "height": null,
            "justify_content": null,
            "justify_items": null,
            "left": null,
            "margin": null,
            "max_height": null,
            "max_width": null,
            "min_height": null,
            "min_width": null,
            "object_fit": null,
            "object_position": null,
            "order": null,
            "overflow": null,
            "overflow_x": null,
            "overflow_y": null,
            "padding": null,
            "right": null,
            "top": null,
            "visibility": null,
            "width": null
          }
        },
        "eb261085c29e4a92bac6f9c5d981b070": {
          "model_module": "@jupyter-widgets/controls",
          "model_name": "DescriptionStyleModel",
          "model_module_version": "1.5.0",
          "state": {
            "_model_module": "@jupyter-widgets/controls",
            "_model_module_version": "1.5.0",
            "_model_name": "DescriptionStyleModel",
            "_view_count": null,
            "_view_module": "@jupyter-widgets/base",
            "_view_module_version": "1.2.0",
            "_view_name": "StyleView",
            "description_width": ""
          }
        },
        "b6763a5ee0804dd18c675896c6bb61ce": {
          "model_module": "@jupyter-widgets/base",
          "model_name": "LayoutModel",
          "model_module_version": "1.2.0",
          "state": {
            "_model_module": "@jupyter-widgets/base",
            "_model_module_version": "1.2.0",
            "_model_name": "LayoutModel",
            "_view_count": null,
            "_view_module": "@jupyter-widgets/base",
            "_view_module_version": "1.2.0",
            "_view_name": "LayoutView",
            "align_content": null,
            "align_items": null,
            "align_self": null,
            "border": null,
            "bottom": null,
            "display": null,
            "flex": null,
            "flex_flow": null,
            "grid_area": null,
            "grid_auto_columns": null,
            "grid_auto_flow": null,
            "grid_auto_rows": null,
            "grid_column": null,
            "grid_gap": null,
            "grid_row": null,
            "grid_template_areas": null,
            "grid_template_columns": null,
            "grid_template_rows": null,
            "height": null,
            "justify_content": null,
            "justify_items": null,
            "left": null,
            "margin": null,
            "max_height": null,
            "max_width": null,
            "min_height": null,
            "min_width": null,
            "object_fit": null,
            "object_position": null,
            "order": null,
            "overflow": null,
            "overflow_x": null,
            "overflow_y": null,
            "padding": null,
            "right": null,
            "top": null,
            "visibility": null,
            "width": null
          }
        },
        "791ac08de20441aabcee6a176d91e3a0": {
          "model_module": "@jupyter-widgets/controls",
          "model_name": "ProgressStyleModel",
          "model_module_version": "1.5.0",
          "state": {
            "_model_module": "@jupyter-widgets/controls",
            "_model_module_version": "1.5.0",
            "_model_name": "ProgressStyleModel",
            "_view_count": null,
            "_view_module": "@jupyter-widgets/base",
            "_view_module_version": "1.2.0",
            "_view_name": "StyleView",
            "bar_color": null,
            "description_width": ""
          }
        },
        "964ade08e7c049b59cca1964e9fea2bf": {
          "model_module": "@jupyter-widgets/base",
          "model_name": "LayoutModel",
          "model_module_version": "1.2.0",
          "state": {
            "_model_module": "@jupyter-widgets/base",
            "_model_module_version": "1.2.0",
            "_model_name": "LayoutModel",
            "_view_count": null,
            "_view_module": "@jupyter-widgets/base",
            "_view_module_version": "1.2.0",
            "_view_name": "LayoutView",
            "align_content": null,
            "align_items": null,
            "align_self": null,
            "border": null,
            "bottom": null,
            "display": null,
            "flex": null,
            "flex_flow": null,
            "grid_area": null,
            "grid_auto_columns": null,
            "grid_auto_flow": null,
            "grid_auto_rows": null,
            "grid_column": null,
            "grid_gap": null,
            "grid_row": null,
            "grid_template_areas": null,
            "grid_template_columns": null,
            "grid_template_rows": null,
            "height": null,
            "justify_content": null,
            "justify_items": null,
            "left": null,
            "margin": null,
            "max_height": null,
            "max_width": null,
            "min_height": null,
            "min_width": null,
            "object_fit": null,
            "object_position": null,
            "order": null,
            "overflow": null,
            "overflow_x": null,
            "overflow_y": null,
            "padding": null,
            "right": null,
            "top": null,
            "visibility": null,
            "width": null
          }
        },
        "00359830585743e0ab9949958166aaaf": {
          "model_module": "@jupyter-widgets/controls",
          "model_name": "DescriptionStyleModel",
          "model_module_version": "1.5.0",
          "state": {
            "_model_module": "@jupyter-widgets/controls",
            "_model_module_version": "1.5.0",
            "_model_name": "DescriptionStyleModel",
            "_view_count": null,
            "_view_module": "@jupyter-widgets/base",
            "_view_module_version": "1.2.0",
            "_view_name": "StyleView",
            "description_width": ""
          }
        }
      }
    }
  },
  "cells": [
    {
      "cell_type": "markdown",
      "metadata": {
        "id": "view-in-github",
        "colab_type": "text"
      },
      "source": [
        "<a href=\"https://colab.research.google.com/github/mharrisonbaker/samplework/blob/master/patgraph2.ipynb\" target=\"_parent\"><img src=\"https://colab.research.google.com/assets/colab-badge.svg\" alt=\"Open In Colab\"/></a>"
      ]
    },
    {
      "cell_type": "code",
      "source": [
        "!pip install -q transformers"
      ],
      "metadata": {
        "colab": {
          "base_uri": "https://localhost:8080/"
        },
        "id": "-ripArjze0nO",
        "outputId": "bcd1de79-9255-4832-d72c-bf77f3b7c251"
      },
      "execution_count": 1,
      "outputs": [
        {
          "output_type": "stream",
          "name": "stdout",
          "text": [
            "\u001b[2K     \u001b[90m━━━━━━━━━━━━━━━━━━━━━━━━━━━━━━━━━━━━━━━━\u001b[0m \u001b[32m7.2/7.2 MB\u001b[0m \u001b[31m62.6 MB/s\u001b[0m eta \u001b[36m0:00:00\u001b[0m\n",
            "\u001b[2K     \u001b[90m━━━━━━━━━━━━━━━━━━━━━━━━━━━━━━━━━━━━━━\u001b[0m \u001b[32m236.8/236.8 kB\u001b[0m \u001b[31m26.2 MB/s\u001b[0m eta \u001b[36m0:00:00\u001b[0m\n",
            "\u001b[2K     \u001b[90m━━━━━━━━━━━━━━━━━━━━━━━━━━━━━━━━━━━━━━━━\u001b[0m \u001b[32m7.8/7.8 MB\u001b[0m \u001b[31m56.4 MB/s\u001b[0m eta \u001b[36m0:00:00\u001b[0m\n",
            "\u001b[2K     \u001b[90m━━━━━━━━━━━━━━━━━━━━━━━━━━━━━━━━━━━━━━━━\u001b[0m \u001b[32m1.3/1.3 MB\u001b[0m \u001b[31m39.8 MB/s\u001b[0m eta \u001b[36m0:00:00\u001b[0m\n",
            "\u001b[?25h"
          ]
        }
      ]
    },
    {
      "cell_type": "code",
      "source": [
        "!pip install -q dgl"
      ],
      "metadata": {
        "colab": {
          "base_uri": "https://localhost:8080/"
        },
        "id": "yy8iJaDyKga5",
        "outputId": "048b8b16-6581-46c6-d174-1462b21ffdff"
      },
      "execution_count": 2,
      "outputs": [
        {
          "output_type": "stream",
          "name": "stdout",
          "text": [
            "\u001b[?25l     \u001b[90m━━━━━━━━━━━━━━━━━━━━━━━━━━━━━━━━━━━━━━━━\u001b[0m \u001b[32m0.0/5.9 MB\u001b[0m \u001b[31m?\u001b[0m eta \u001b[36m-:--:--\u001b[0m\r\u001b[2K     \u001b[91m━━\u001b[0m\u001b[91m╸\u001b[0m\u001b[90m━━━━━━━━━━━━━━━━━━━━━━━━━━━━━━━━━━━━━\u001b[0m \u001b[32m0.4/5.9 MB\u001b[0m \u001b[31m12.1 MB/s\u001b[0m eta \u001b[36m0:00:01\u001b[0m\r\u001b[2K     \u001b[91m━━━━━━━━━━━━━━━━━━━━\u001b[0m\u001b[90m╺\u001b[0m\u001b[90m━━━━━━━━━━━━━━━━━━━\u001b[0m \u001b[32m2.9/5.9 MB\u001b[0m \u001b[31m42.4 MB/s\u001b[0m eta \u001b[36m0:00:01\u001b[0m\r\u001b[2K     \u001b[91m━━━━━━━━━━━━━━━━━━━━━━━━━━━━━━━━━━━━━━━\u001b[0m\u001b[91m╸\u001b[0m \u001b[32m5.8/5.9 MB\u001b[0m \u001b[31m61.2 MB/s\u001b[0m eta \u001b[36m0:00:01\u001b[0m\r\u001b[2K     \u001b[90m━━━━━━━━━━━━━━━━━━━━━━━━━━━━━━━━━━━━━━━━\u001b[0m \u001b[32m5.9/5.9 MB\u001b[0m \u001b[31m44.8 MB/s\u001b[0m eta \u001b[36m0:00:00\u001b[0m\n",
            "\u001b[?25h"
          ]
        }
      ]
    },
    {
      "cell_type": "code",
      "execution_count": 3,
      "metadata": {
        "id": "ZvyVRxYklD8Y",
        "colab": {
          "base_uri": "https://localhost:8080/"
        },
        "outputId": "94731616-9569-45f7-8d8a-c5e687127dee"
      },
      "outputs": [
        {
          "output_type": "stream",
          "name": "stderr",
          "text": [
            "DGL backend not selected or invalid.  Assuming PyTorch for now.\n"
          ]
        },
        {
          "output_type": "stream",
          "name": "stdout",
          "text": [
            "Setting the default backend to \"pytorch\". You can change it in the ~/.dgl/config.json file or export the DGLBACKEND environment variable.  Valid options are: pytorch, mxnet, tensorflow (all lowercase)\n"
          ]
        }
      ],
      "source": [
        "#import common packages\n",
        "import pandas as pd\n",
        "import numpy as np\n",
        "import matplotlib.pyplot as plt\n",
        "import pickle\n",
        "import os\n",
        "import random\n",
        "\n",
        "#for graphs\n",
        "import networkx as nx\n",
        "import dgl\n",
        "\n",
        "#for bigquery\n",
        "import pandas_gbq\n",
        "from google.oauth2 import service_account\n",
        "\n",
        "#for BERT\n",
        "import torch\n",
        "from transformers import AutoTokenizer, AutoModel\n",
        "\n",
        "#for word2vec\n",
        "import gensim\n",
        "import gensim.downloader as api\n",
        "from gensim.models import Word2Vec\n",
        "\n",
        "#for learning\n",
        "from sklearn.model_selection import train_test_split\n"
      ]
    },
    {
      "cell_type": "code",
      "source": [
        "\n"
      ],
      "metadata": {
        "id": "1LRWOnIHiRYb"
      },
      "execution_count": 3,
      "outputs": []
    },
    {
      "cell_type": "code",
      "source": [
        "from google.colab import drive\n",
        "drive.mount('/content/drive/')"
      ],
      "metadata": {
        "colab": {
          "base_uri": "https://localhost:8080/"
        },
        "id": "MMNlphdLs42_",
        "outputId": "1011eb4e-0c2a-4fea-8b77-efd6c985128f"
      },
      "execution_count": 4,
      "outputs": [
        {
          "output_type": "stream",
          "name": "stdout",
          "text": [
            "Mounted at /content/drive/\n"
          ]
        }
      ]
    },
    {
      "cell_type": "code",
      "source": [
        "%cd /content/drive/My Drive/oauth/\n",
        "oauthpath=\"oauth1.json\""
      ],
      "metadata": {
        "colab": {
          "base_uri": "https://localhost:8080/"
        },
        "id": "vlGvWIlVs8B4",
        "outputId": "ee34a877-fea3-4655-adc3-a2e7b9873d2c"
      },
      "execution_count": 5,
      "outputs": [
        {
          "output_type": "stream",
          "name": "stdout",
          "text": [
            "/content/drive/My Drive/oauth\n"
          ]
        }
      ]
    },
    {
      "cell_type": "code",
      "source": [
        "credentials = service_account.Credentials.from_service_account_file(\n",
        "    oauthpath,\n",
        ")"
      ],
      "metadata": {
        "id": "xsxhDm1psY6e"
      },
      "execution_count": 6,
      "outputs": []
    },
    {
      "cell_type": "code",
      "source": [
        "project_id = 'patgraphcode'\n",
        "\n",
        "dialect = {\n",
        "    'project_id': project_id,\n",
        "    'dialect': 'standard',\n",
        "}"
      ],
      "metadata": {
        "id": "_Kv7rD2gykej"
      },
      "execution_count": 7,
      "outputs": []
    },
    {
      "cell_type": "code",
      "source": [
        "# Define the SQL query\n",
        "# query = \"\"\"\n",
        "# SELECT\n",
        "#   publication_number,\n",
        "#   cpc_expanded.code AS cpc_code,\n",
        "#   cpc_expanded.first as cpc_first,\n",
        "# FROM\n",
        "#   patents-public-data.google_patents_research.publications\n",
        "# CROSS JOIN\n",
        "#   UNNEST(cpc) AS cpc_expanded\n",
        "# WHERE\n",
        "#   publication_number LIKE 'US-%'\n",
        "#   AND cpc_expanded.first = True\n",
        "#   AND NOT publication_number LIKE 'US-D%'\n",
        "#   AND (cpc_expanded.code LIKE 'G16B%' OR cpc_expanded.code LIKE 'G16H%')\n",
        "\n",
        "# LIMIT\n",
        "#   50\n",
        "# \"\"\"\n",
        "\n",
        "# query = \"\"\"\n",
        "# SELECT DISTINCT\n",
        "#   p.publication_number,\n",
        "#   p.title,\n",
        "#   p.abstract,\n",
        "#   c.code AS cpc_code,\n",
        "#   c.inventive AS cpc_inventive,\n",
        "#   c.first AS cpc_first,\n",
        "#   cb.publication_number AS cited_by_publication_number,\n",
        "#   cb.application_number AS cited_by_application_number,\n",
        "#   cb.npl_text AS cited_by_npl_text,\n",
        "#   cb.type AS cited_by_type,\n",
        "#   cb.category AS cited_by_category,\n",
        "#   cb.filing_date AS cited_by_filing_date\n",
        "# FROM\n",
        "#   patents-public-data.google_patents_research.publications AS p,\n",
        "#   UNNEST(p.cited_by) AS cb\n",
        "# LEFT JOIN UNNEST(p.cpc) AS c\n",
        "# ON TRUE\n",
        "# WHERE\n",
        "#   p.publication_number LIKE 'US-%'\n",
        "#   AND NOT p.publication_number LIKE 'US-D%'\n",
        "#   AND (c.code LIKE 'G10L%')\n",
        "#   AND c.inventive = TRUE\n",
        "\n",
        "# LIMIT 100000\n",
        "# \"\"\"\n",
        "\n",
        "# AND (c.code LIKE 'G16B%' OR c.code LIKE 'G16H%')\n",
        "\n",
        "query = \"\"\"\n",
        "SELECT DISTINCT\n",
        "  p1.publication_number AS publication_number,\n",
        "  p1.title AS title,\n",
        "  p1.abstract AS abstract,\n",
        "  c.code AS cpc_code,\n",
        "  c.inventive AS cpc_inventive,\n",
        "  c.first AS cpc_first,\n",
        "  p2.publication_number AS cited_by_publication_number,\n",
        "  p2.title AS cited_by_title,\n",
        "  p2.abstract AS cited_by_abstract,\n",
        "  c2.code AS cited_by_cpc_code,\n",
        "  c2.inventive AS cited_by_cpc_inventive,\n",
        "  c2.first AS cited_by_cpc_first\n",
        "FROM\n",
        "  patents-public-data.google_patents_research.publications AS p1,\n",
        "  UNNEST(p1.cited_by) AS cb\n",
        "LEFT JOIN UNNEST(p1.cpc) AS c\n",
        "ON TRUE\n",
        "LEFT JOIN patents-public-data.google_patents_research.publications AS p2\n",
        "ON p2.publication_number = cb.publication_number\n",
        "LEFT JOIN UNNEST(p2.cpc) AS c2\n",
        "ON TRUE\n",
        "WHERE\n",
        "  p1.publication_number LIKE 'US-%'\n",
        "  AND NOT p1.publication_number LIKE 'US-D%'\n",
        "  AND (c.code LIKE 'G10L%' OR c2.code LIKE 'G10L%')\n",
        "  AND (c.inventive = TRUE OR c2.inventive = TRUE)\n",
        "LIMIT 5000\n",
        "\"\"\""
      ],
      "metadata": {
        "id": "QdsBJg6GlHJk"
      },
      "execution_count": 8,
      "outputs": []
    },
    {
      "cell_type": "code",
      "source": [
        "#read SQL result into pandas df\n",
        "df = pd.read_gbq(query, project_id=project_id, dialect='standard', credentials=credentials)"
      ],
      "metadata": {
        "id": "4r5KkcTP4Jc4"
      },
      "execution_count": 9,
      "outputs": []
    },
    {
      "cell_type": "code",
      "source": [
        "#normalize Publication numbers\n",
        "df['publication_number'] = df['publication_number'].str.replace(r'^US-|-[A-Z][0-9]$', '', regex=True)\n",
        "df['publication_number'] = df['publication_number'].str.replace(r'-[A-Z]$', '', regex=True)\n",
        "df['cited_by_publication_number'] = df['cited_by_publication_number'].str.replace(r'^US-|-[A-Z][0-9]$', '', regex=True)\n",
        "df['cited_by_publication_number'] = df['cited_by_publication_number'].str.replace(r'-[A-Z]$', '', regex=True)"
      ],
      "metadata": {
        "id": "b-EF3GAUIzdJ"
      },
      "execution_count": 10,
      "outputs": []
    },
    {
      "cell_type": "code",
      "source": [
        "df.head(10)"
      ],
      "metadata": {
        "colab": {
          "base_uri": "https://localhost:8080/",
          "height": 580
        },
        "id": "TtRUnvdz4cPw",
        "outputId": "6a1b8ea6-71d1-47a6-a4bb-0958da915773"
      },
      "execution_count": 11,
      "outputs": [
        {
          "output_type": "execute_result",
          "data": {
            "text/plain": [
              "  publication_number                                              title  \\\n",
              "0         2002161646  Advertising campaign and business listing mana...   \n",
              "1         2016260049  Shopping facility assistance systems, devices,...   \n",
              "2         2016260145  Multi-shopper cooperative shopping experience ...   \n",
              "3            8175730  Device and method for analyzing an information...   \n",
              "4            7949529  Mobile systems and methods of supporting natur...   \n",
              "5            7869996    Recognition of speech in editable audio streams   \n",
              "6         2019156822       Multiple turn conversational task assistance   \n",
              "7         2018342256    System and Method for Voice-to-Voice Conversion   \n",
              "8         2018342256    System and Method for Voice-to-Voice Conversion   \n",
              "9            7475015  Semantic language modeling and confidence meas...   \n",
              "\n",
              "                                            abstract     cpc_code  \\\n",
              "0  The present invention discloses a method and s...     H04W4/20   \n",
              "1  A plurality of motorized terrestrial transport...    G06F3/017   \n",
              "2  Methods and apparatuses are provided for use i...    G10L15/22   \n",
              "3  In order to analyze an information signal, a s...    G10L25/48   \n",
              "4  A mobile system is provided that includes spee...  G10L15/1815   \n",
              "5  A speech processing system divides a spoken au...    G10L15/22   \n",
              "6  A technique for multiple turn conversational t...    G10L25/78   \n",
              "7  A method of building a speech conversion syste...    G10L15/22   \n",
              "8  A method of building a speech conversion syste...   G10L13/033   \n",
              "9  A system and method for speech recognition inc...  G10L15/1815   \n",
              "\n",
              "   cpc_inventive  cpc_first cited_by_publication_number  \\\n",
              "0           True      False                     9263039   \n",
              "1           True      False                    10570000   \n",
              "2           True      False                    10570000   \n",
              "3           True       True                    10318503   \n",
              "4           True       True                     8688099   \n",
              "5           True       True                    10665241   \n",
              "6           True      False                    10665241   \n",
              "7           True      False                    11600284   \n",
              "8           True      False                    11600284   \n",
              "9           True       True                    10810274   \n",
              "\n",
              "                                      cited_by_title  \\\n",
              "0  Systems and methods for responding to natural ...   \n",
              "1  Shopping facility assistance object detection ...   \n",
              "2  Shopping facility assistance object detection ...   \n",
              "3  Insight and algorithmic clustering for automat...   \n",
              "4  Open development system for access service pro...   \n",
              "5  Rapid frontend resolution of transcription-rel...   \n",
              "6  Rapid frontend resolution of transcription-rel...   \n",
              "7  Voice morphing apparatus having adjustable par...   \n",
              "8  Voice morphing apparatus having adjustable par...   \n",
              "9  Optimizing dialogue policy decisions for digit...   \n",
              "\n",
              "                                   cited_by_abstract cited_by_cpc_code  \\\n",
              "0  Systems and methods are provided for receiving...         G10L15/19   \n",
              "1  Some embodiments provide apparatuses and metho...         G10L15/22   \n",
              "2  Some embodiments provide apparatuses and metho...        G06F18/214   \n",
              "3  A decision support system and method, which re...        G06F16/248   \n",
              "4  A method comprising configuring and installing...         G06Q20/32   \n",
              "5  Being able to rapidly and accurately transcrib...         G10L15/22   \n",
              "6  Being able to rapidly and accurately transcrib...     G10L2015/0631   \n",
              "7  A voice morphing apparatus having adjustable p...          H04K1/04   \n",
              "8  A voice morphing apparatus having adjustable p...         G06N20/00   \n",
              "9  Systems and processes for optimizing dialogue ...      H04N21/42203   \n",
              "\n",
              "   cited_by_cpc_inventive  cited_by_cpc_first  \n",
              "0                    True               False  \n",
              "1                    True               False  \n",
              "2                    True               False  \n",
              "3                    True               False  \n",
              "4                    True               False  \n",
              "5                    True               False  \n",
              "6                   False               False  \n",
              "7                    True               False  \n",
              "8                    True               False  \n",
              "9                    True               False  "
            ],
            "text/html": [
              "\n",
              "  <div id=\"df-f625fce4-e784-4c48-87cb-6e2492dc6bc9\">\n",
              "    <div class=\"colab-df-container\">\n",
              "      <div>\n",
              "<style scoped>\n",
              "    .dataframe tbody tr th:only-of-type {\n",
              "        vertical-align: middle;\n",
              "    }\n",
              "\n",
              "    .dataframe tbody tr th {\n",
              "        vertical-align: top;\n",
              "    }\n",
              "\n",
              "    .dataframe thead th {\n",
              "        text-align: right;\n",
              "    }\n",
              "</style>\n",
              "<table border=\"1\" class=\"dataframe\">\n",
              "  <thead>\n",
              "    <tr style=\"text-align: right;\">\n",
              "      <th></th>\n",
              "      <th>publication_number</th>\n",
              "      <th>title</th>\n",
              "      <th>abstract</th>\n",
              "      <th>cpc_code</th>\n",
              "      <th>cpc_inventive</th>\n",
              "      <th>cpc_first</th>\n",
              "      <th>cited_by_publication_number</th>\n",
              "      <th>cited_by_title</th>\n",
              "      <th>cited_by_abstract</th>\n",
              "      <th>cited_by_cpc_code</th>\n",
              "      <th>cited_by_cpc_inventive</th>\n",
              "      <th>cited_by_cpc_first</th>\n",
              "    </tr>\n",
              "  </thead>\n",
              "  <tbody>\n",
              "    <tr>\n",
              "      <th>0</th>\n",
              "      <td>2002161646</td>\n",
              "      <td>Advertising campaign and business listing mana...</td>\n",
              "      <td>The present invention discloses a method and s...</td>\n",
              "      <td>H04W4/20</td>\n",
              "      <td>True</td>\n",
              "      <td>False</td>\n",
              "      <td>9263039</td>\n",
              "      <td>Systems and methods for responding to natural ...</td>\n",
              "      <td>Systems and methods are provided for receiving...</td>\n",
              "      <td>G10L15/19</td>\n",
              "      <td>True</td>\n",
              "      <td>False</td>\n",
              "    </tr>\n",
              "    <tr>\n",
              "      <th>1</th>\n",
              "      <td>2016260049</td>\n",
              "      <td>Shopping facility assistance systems, devices,...</td>\n",
              "      <td>A plurality of motorized terrestrial transport...</td>\n",
              "      <td>G06F3/017</td>\n",
              "      <td>True</td>\n",
              "      <td>False</td>\n",
              "      <td>10570000</td>\n",
              "      <td>Shopping facility assistance object detection ...</td>\n",
              "      <td>Some embodiments provide apparatuses and metho...</td>\n",
              "      <td>G10L15/22</td>\n",
              "      <td>True</td>\n",
              "      <td>False</td>\n",
              "    </tr>\n",
              "    <tr>\n",
              "      <th>2</th>\n",
              "      <td>2016260145</td>\n",
              "      <td>Multi-shopper cooperative shopping experience ...</td>\n",
              "      <td>Methods and apparatuses are provided for use i...</td>\n",
              "      <td>G10L15/22</td>\n",
              "      <td>True</td>\n",
              "      <td>False</td>\n",
              "      <td>10570000</td>\n",
              "      <td>Shopping facility assistance object detection ...</td>\n",
              "      <td>Some embodiments provide apparatuses and metho...</td>\n",
              "      <td>G06F18/214</td>\n",
              "      <td>True</td>\n",
              "      <td>False</td>\n",
              "    </tr>\n",
              "    <tr>\n",
              "      <th>3</th>\n",
              "      <td>8175730</td>\n",
              "      <td>Device and method for analyzing an information...</td>\n",
              "      <td>In order to analyze an information signal, a s...</td>\n",
              "      <td>G10L25/48</td>\n",
              "      <td>True</td>\n",
              "      <td>True</td>\n",
              "      <td>10318503</td>\n",
              "      <td>Insight and algorithmic clustering for automat...</td>\n",
              "      <td>A decision support system and method, which re...</td>\n",
              "      <td>G06F16/248</td>\n",
              "      <td>True</td>\n",
              "      <td>False</td>\n",
              "    </tr>\n",
              "    <tr>\n",
              "      <th>4</th>\n",
              "      <td>7949529</td>\n",
              "      <td>Mobile systems and methods of supporting natur...</td>\n",
              "      <td>A mobile system is provided that includes spee...</td>\n",
              "      <td>G10L15/1815</td>\n",
              "      <td>True</td>\n",
              "      <td>True</td>\n",
              "      <td>8688099</td>\n",
              "      <td>Open development system for access service pro...</td>\n",
              "      <td>A method comprising configuring and installing...</td>\n",
              "      <td>G06Q20/32</td>\n",
              "      <td>True</td>\n",
              "      <td>False</td>\n",
              "    </tr>\n",
              "    <tr>\n",
              "      <th>5</th>\n",
              "      <td>7869996</td>\n",
              "      <td>Recognition of speech in editable audio streams</td>\n",
              "      <td>A speech processing system divides a spoken au...</td>\n",
              "      <td>G10L15/22</td>\n",
              "      <td>True</td>\n",
              "      <td>True</td>\n",
              "      <td>10665241</td>\n",
              "      <td>Rapid frontend resolution of transcription-rel...</td>\n",
              "      <td>Being able to rapidly and accurately transcrib...</td>\n",
              "      <td>G10L15/22</td>\n",
              "      <td>True</td>\n",
              "      <td>False</td>\n",
              "    </tr>\n",
              "    <tr>\n",
              "      <th>6</th>\n",
              "      <td>2019156822</td>\n",
              "      <td>Multiple turn conversational task assistance</td>\n",
              "      <td>A technique for multiple turn conversational t...</td>\n",
              "      <td>G10L25/78</td>\n",
              "      <td>True</td>\n",
              "      <td>False</td>\n",
              "      <td>10665241</td>\n",
              "      <td>Rapid frontend resolution of transcription-rel...</td>\n",
              "      <td>Being able to rapidly and accurately transcrib...</td>\n",
              "      <td>G10L2015/0631</td>\n",
              "      <td>False</td>\n",
              "      <td>False</td>\n",
              "    </tr>\n",
              "    <tr>\n",
              "      <th>7</th>\n",
              "      <td>2018342256</td>\n",
              "      <td>System and Method for Voice-to-Voice Conversion</td>\n",
              "      <td>A method of building a speech conversion syste...</td>\n",
              "      <td>G10L15/22</td>\n",
              "      <td>True</td>\n",
              "      <td>False</td>\n",
              "      <td>11600284</td>\n",
              "      <td>Voice morphing apparatus having adjustable par...</td>\n",
              "      <td>A voice morphing apparatus having adjustable p...</td>\n",
              "      <td>H04K1/04</td>\n",
              "      <td>True</td>\n",
              "      <td>False</td>\n",
              "    </tr>\n",
              "    <tr>\n",
              "      <th>8</th>\n",
              "      <td>2018342256</td>\n",
              "      <td>System and Method for Voice-to-Voice Conversion</td>\n",
              "      <td>A method of building a speech conversion syste...</td>\n",
              "      <td>G10L13/033</td>\n",
              "      <td>True</td>\n",
              "      <td>False</td>\n",
              "      <td>11600284</td>\n",
              "      <td>Voice morphing apparatus having adjustable par...</td>\n",
              "      <td>A voice morphing apparatus having adjustable p...</td>\n",
              "      <td>G06N20/00</td>\n",
              "      <td>True</td>\n",
              "      <td>False</td>\n",
              "    </tr>\n",
              "    <tr>\n",
              "      <th>9</th>\n",
              "      <td>7475015</td>\n",
              "      <td>Semantic language modeling and confidence meas...</td>\n",
              "      <td>A system and method for speech recognition inc...</td>\n",
              "      <td>G10L15/1815</td>\n",
              "      <td>True</td>\n",
              "      <td>True</td>\n",
              "      <td>10810274</td>\n",
              "      <td>Optimizing dialogue policy decisions for digit...</td>\n",
              "      <td>Systems and processes for optimizing dialogue ...</td>\n",
              "      <td>H04N21/42203</td>\n",
              "      <td>True</td>\n",
              "      <td>False</td>\n",
              "    </tr>\n",
              "  </tbody>\n",
              "</table>\n",
              "</div>\n",
              "      <button class=\"colab-df-convert\" onclick=\"convertToInteractive('df-f625fce4-e784-4c48-87cb-6e2492dc6bc9')\"\n",
              "              title=\"Convert this dataframe to an interactive table.\"\n",
              "              style=\"display:none;\">\n",
              "        \n",
              "  <svg xmlns=\"http://www.w3.org/2000/svg\" height=\"24px\"viewBox=\"0 0 24 24\"\n",
              "       width=\"24px\">\n",
              "    <path d=\"M0 0h24v24H0V0z\" fill=\"none\"/>\n",
              "    <path d=\"M18.56 5.44l.94 2.06.94-2.06 2.06-.94-2.06-.94-.94-2.06-.94 2.06-2.06.94zm-11 1L8.5 8.5l.94-2.06 2.06-.94-2.06-.94L8.5 2.5l-.94 2.06-2.06.94zm10 10l.94 2.06.94-2.06 2.06-.94-2.06-.94-.94-2.06-.94 2.06-2.06.94z\"/><path d=\"M17.41 7.96l-1.37-1.37c-.4-.4-.92-.59-1.43-.59-.52 0-1.04.2-1.43.59L10.3 9.45l-7.72 7.72c-.78.78-.78 2.05 0 2.83L4 21.41c.39.39.9.59 1.41.59.51 0 1.02-.2 1.41-.59l7.78-7.78 2.81-2.81c.8-.78.8-2.07 0-2.86zM5.41 20L4 18.59l7.72-7.72 1.47 1.35L5.41 20z\"/>\n",
              "  </svg>\n",
              "      </button>\n",
              "      \n",
              "  <style>\n",
              "    .colab-df-container {\n",
              "      display:flex;\n",
              "      flex-wrap:wrap;\n",
              "      gap: 12px;\n",
              "    }\n",
              "\n",
              "    .colab-df-convert {\n",
              "      background-color: #E8F0FE;\n",
              "      border: none;\n",
              "      border-radius: 50%;\n",
              "      cursor: pointer;\n",
              "      display: none;\n",
              "      fill: #1967D2;\n",
              "      height: 32px;\n",
              "      padding: 0 0 0 0;\n",
              "      width: 32px;\n",
              "    }\n",
              "\n",
              "    .colab-df-convert:hover {\n",
              "      background-color: #E2EBFA;\n",
              "      box-shadow: 0px 1px 2px rgba(60, 64, 67, 0.3), 0px 1px 3px 1px rgba(60, 64, 67, 0.15);\n",
              "      fill: #174EA6;\n",
              "    }\n",
              "\n",
              "    [theme=dark] .colab-df-convert {\n",
              "      background-color: #3B4455;\n",
              "      fill: #D2E3FC;\n",
              "    }\n",
              "\n",
              "    [theme=dark] .colab-df-convert:hover {\n",
              "      background-color: #434B5C;\n",
              "      box-shadow: 0px 1px 3px 1px rgba(0, 0, 0, 0.15);\n",
              "      filter: drop-shadow(0px 1px 2px rgba(0, 0, 0, 0.3));\n",
              "      fill: #FFFFFF;\n",
              "    }\n",
              "  </style>\n",
              "\n",
              "      <script>\n",
              "        const buttonEl =\n",
              "          document.querySelector('#df-f625fce4-e784-4c48-87cb-6e2492dc6bc9 button.colab-df-convert');\n",
              "        buttonEl.style.display =\n",
              "          google.colab.kernel.accessAllowed ? 'block' : 'none';\n",
              "\n",
              "        async function convertToInteractive(key) {\n",
              "          const element = document.querySelector('#df-f625fce4-e784-4c48-87cb-6e2492dc6bc9');\n",
              "          const dataTable =\n",
              "            await google.colab.kernel.invokeFunction('convertToInteractive',\n",
              "                                                     [key], {});\n",
              "          if (!dataTable) return;\n",
              "\n",
              "          const docLinkHtml = 'Like what you see? Visit the ' +\n",
              "            '<a target=\"_blank\" href=https://colab.research.google.com/notebooks/data_table.ipynb>data table notebook</a>'\n",
              "            + ' to learn more about interactive tables.';\n",
              "          element.innerHTML = '';\n",
              "          dataTable['output_type'] = 'display_data';\n",
              "          await google.colab.output.renderOutput(dataTable, element);\n",
              "          const docLink = document.createElement('div');\n",
              "          docLink.innerHTML = docLinkHtml;\n",
              "          element.appendChild(docLink);\n",
              "        }\n",
              "      </script>\n",
              "    </div>\n",
              "  </div>\n",
              "  "
            ]
          },
          "metadata": {},
          "execution_count": 11
        }
      ]
    },
    {
      "cell_type": "code",
      "source": [
        "# df2=df"
      ],
      "metadata": {
        "id": "udiRLY_Cfs84"
      },
      "execution_count": null,
      "outputs": []
    },
    {
      "cell_type": "code",
      "source": [
        "# #filter to G10L?\n",
        "# #write function for HEC encoding function\n",
        "# def encode_hec(code):\n",
        "#     parts = code.split(' ')\n",
        "#     main_category = parts[0]\n",
        "#     sub_category = parts[1] if len(parts) > 1 else ''\n",
        "#     hierarchy_code = f'{main_category} - 100'\n",
        "\n",
        "#     if sub_category:\n",
        "#         sub_parts = sub_category.split('/')\n",
        "#         for i, sub_part in enumerate(sub_parts):\n",
        "#             hierarchy_code += f'\\n {sub_part} - {bin(i + 1)[2:].zfill(7)}'\n",
        "\n",
        "#     return hierarchy_code\n",
        "\n",
        "# # Apply HEC encoding to the classification_code column\n",
        "# df2['hec_encoding'] = df2['cpc_code'].apply(encode_hec)"
      ],
      "metadata": {
        "id": "7ecVJOmxPsIA",
        "colab": {
          "base_uri": "https://localhost:8080/",
          "height": 209
        },
        "outputId": "23fa4a66-2e45-4f39-a7bd-f11436ae4c98"
      },
      "execution_count": 12,
      "outputs": [
        {
          "output_type": "error",
          "ename": "NameError",
          "evalue": "ignored",
          "traceback": [
            "\u001b[0;31m---------------------------------------------------------------------------\u001b[0m",
            "\u001b[0;31mNameError\u001b[0m                                 Traceback (most recent call last)",
            "\u001b[0;32m<ipython-input-12-77b7ca7c7987>\u001b[0m in \u001b[0;36m<cell line: 17>\u001b[0;34m()\u001b[0m\n\u001b[1;32m     15\u001b[0m \u001b[0;34m\u001b[0m\u001b[0m\n\u001b[1;32m     16\u001b[0m \u001b[0;31m# Apply HEC encoding to the classification_code column\u001b[0m\u001b[0;34m\u001b[0m\u001b[0;34m\u001b[0m\u001b[0m\n\u001b[0;32m---> 17\u001b[0;31m \u001b[0mdf2\u001b[0m\u001b[0;34m[\u001b[0m\u001b[0;34m'hec_encoding'\u001b[0m\u001b[0;34m]\u001b[0m \u001b[0;34m=\u001b[0m \u001b[0mdf2\u001b[0m\u001b[0;34m[\u001b[0m\u001b[0;34m'cpc_code'\u001b[0m\u001b[0;34m]\u001b[0m\u001b[0;34m.\u001b[0m\u001b[0mapply\u001b[0m\u001b[0;34m(\u001b[0m\u001b[0mencode_hec\u001b[0m\u001b[0;34m)\u001b[0m\u001b[0;34m\u001b[0m\u001b[0;34m\u001b[0m\u001b[0m\n\u001b[0m",
            "\u001b[0;31mNameError\u001b[0m: name 'df2' is not defined"
          ]
        }
      ]
    },
    {
      "cell_type": "code",
      "source": [
        "#df2.head(10)"
      ],
      "metadata": {
        "id": "wA1j4p5Sf2Ff"
      },
      "execution_count": null,
      "outputs": []
    },
    {
      "cell_type": "code",
      "source": [
        "columns_to_check = ['title', 'abstract', 'cpc_code']\n",
        "missing_values = df[columns_to_check].isnull().sum()\n",
        "print(missing_values)"
      ],
      "metadata": {
        "colab": {
          "base_uri": "https://localhost:8080/"
        },
        "id": "mkuoTWan47oT",
        "outputId": "ef2289cb-c2ac-4400-cc26-05647efd8b19"
      },
      "execution_count": 13,
      "outputs": [
        {
          "output_type": "stream",
          "name": "stdout",
          "text": [
            "title       0\n",
            "abstract    0\n",
            "cpc_code    0\n",
            "dtype: int64\n"
          ]
        }
      ]
    },
    {
      "cell_type": "code",
      "source": [
        "%cd /content/drive/My Drive/"
      ],
      "metadata": {
        "colab": {
          "base_uri": "https://localhost:8080/"
        },
        "id": "ovCNnN-qpxG8",
        "outputId": "5432ecb4-dcbb-4365-d620-b80dd6312da7"
      },
      "execution_count": 25,
      "outputs": [
        {
          "output_type": "stream",
          "name": "stdout",
          "text": [
            "/content/drive/My Drive\n"
          ]
        }
      ]
    },
    {
      "cell_type": "code",
      "source": [
        "# Check if the data folder exists, create it if it doesn't\n",
        "if not os.path.exists('data'):\n",
        "    os.makedirs('data')"
      ],
      "metadata": {
        "id": "73vmYAhgpz3Y"
      },
      "execution_count": 14,
      "outputs": []
    },
    {
      "cell_type": "code",
      "source": [
        "# Define the path to the pickle file\n",
        "pickle_path = 'data/citation_sql_data.pickle'\n"
      ],
      "metadata": {
        "id": "i21g9qhdi7Qx"
      },
      "execution_count": 15,
      "outputs": []
    },
    {
      "cell_type": "code",
      "source": [
        "import torch\n",
        "from transformers import AutoTokenizer, AutoModel\n",
        "\n",
        "# Check if a GPU is available\n",
        "device = torch.device(\"cuda\" if torch.cuda.is_available() else \"cpu\")\n",
        "\n",
        "# Load the SciBERT model and tokenizer\n",
        "model_name = \"allenai/scibert_scivocab_uncased\"\n",
        "tokenizer = AutoTokenizer.from_pretrained(model_name)\n",
        "model = AutoModel.from_pretrained(model_name)\n",
        "\n",
        "# Move the model to the device\n",
        "model = model.to(device)\n",
        "\n",
        "# Batch size for generating embeddings\n",
        "batch_size = 32\n",
        "\n",
        "# Assuming you have a DataFrame named df with an 'abstract' column\n",
        "embeddings = []\n",
        "\n",
        "# Iterate over each batch of the DataFrame\n",
        "for batch_start in range(0, len(df), batch_size):\n",
        "    batch_df = df.iloc[batch_start:batch_start+batch_size]\n",
        "    batch_texts = batch_df['abstract'].tolist()\n",
        "\n",
        "    # Tokenize the batch texts\n",
        "    tokens = tokenizer.batch_encode_plus(batch_texts, truncation=True, padding=True, max_length=128, return_tensors='pt')\n",
        "    input_ids = tokens['input_ids'].to(device)\n",
        "    attention_mask = tokens['attention_mask'].to(device)\n",
        "\n",
        "    # Generate the embeddings\n",
        "    with torch.no_grad():\n",
        "        outputs = model(input_ids=input_ids, attention_mask=attention_mask)\n",
        "        batch_embeddings = outputs.pooler_output.cpu().numpy().tolist()\n",
        "\n",
        "    embeddings.extend(batch_embeddings)\n",
        "\n",
        "# Add the embeddings as a new column in the DataFrame\n",
        "df['abstract_embedding'] = embeddings\n",
        "\n",
        "\n",
        "\n",
        "\n",
        "cited_by_embeddings = []\n",
        "\n",
        "# Iterate over each batch of the DataFrame\n",
        "for batch_start in range(0, len(df), batch_size):\n",
        "    batch_df = df.iloc[batch_start:batch_start+batch_size]\n",
        "    batch_texts = batch_df['cited_by_abstract'].tolist()\n",
        "\n",
        "    # Tokenize the batch texts\n",
        "    tokens = tokenizer.batch_encode_plus(batch_texts, truncation=True, padding=True, max_length=128, return_tensors='pt')\n",
        "    input_ids = tokens['input_ids'].to(device)\n",
        "    attention_mask = tokens['attention_mask'].to(device)\n",
        "\n",
        "    # Generate the embeddings\n",
        "    with torch.no_grad():\n",
        "        outputs = model(input_ids=input_ids, attention_mask=attention_mask)\n",
        "        batch_embeddings = outputs.pooler_output.cpu().numpy().tolist()\n",
        "\n",
        "    cited_by_embeddings.extend(batch_embeddings)\n",
        "\n",
        "# Add the embeddings as a new column in the DataFrame\n",
        "df['cited_by_abstract_embedding'] = cited_by_embeddings\n",
        "\n"
      ],
      "metadata": {
        "colab": {
          "base_uri": "https://localhost:8080/",
          "height": 188,
          "referenced_widgets": [
            "4d98cd0ae41045fc8d1cc766735e6c78",
            "42927b9f72d145f9a2346873ad1c6bdf",
            "78f18f00868f4fcc918691a5427e6122",
            "56de51a0143e4f03875a9a5ec7b25b8d",
            "36b8ead637224e7f843c10f996d18b48",
            "faf9973105394da1a6987bc277d8914d",
            "6e6ea82afaee4202b9af7e18e312e484",
            "ade2563f09244ed5891319db2e25bd2c",
            "00c371ff96c84312b626d7eb9839a494",
            "de65f2697ee142b98f29fb837509a36c",
            "b00144a7fc0049b7952175c904bb7cee",
            "54557404c046464c88308638c47092fc",
            "07643ff286f7437f95566e84d2506491",
            "560ce0d8048542e7ba3b49b0c0f5ebfb",
            "f7f0355d553a4858979c5f974e1050f6",
            "043010f97d544efb873573c45ddaf3c5",
            "1ab2b4e61ed34f1db0563c101d4bd08c",
            "7dd0871cac4747918be199b62d5da86f",
            "10c749c7f8b7470594db3e6ef367cc75",
            "047ba5058fe843db9fea188a6ac837f9",
            "dc5b73d82cf241dba8ceeace44f63b0a",
            "7c51369e54f941faac179491fe25b56c",
            "5679d483bdbd43de83661ac11cf83546",
            "ca40baa5da8548b3903be1919bb9bfd5",
            "6f202f62a3f944fda875dde77a48533f",
            "9e10d38840104ae9bc1d854737caa927",
            "4387bf0d0c66496385a784afb5c76e8a",
            "ca17a5fdf1414d159ac9f80b0edfb099",
            "eb261085c29e4a92bac6f9c5d981b070",
            "b6763a5ee0804dd18c675896c6bb61ce",
            "791ac08de20441aabcee6a176d91e3a0",
            "964ade08e7c049b59cca1964e9fea2bf",
            "00359830585743e0ab9949958166aaaf"
          ]
        },
        "id": "_zu1Y-FXfwIn",
        "outputId": "3f5a00fa-7a82-4439-d9e4-13d2ef019b08"
      },
      "execution_count": 16,
      "outputs": [
        {
          "output_type": "display_data",
          "data": {
            "text/plain": [
              "Downloading (…)lve/main/config.json:   0%|          | 0.00/385 [00:00<?, ?B/s]"
            ],
            "application/vnd.jupyter.widget-view+json": {
              "version_major": 2,
              "version_minor": 0,
              "model_id": "4d98cd0ae41045fc8d1cc766735e6c78"
            }
          },
          "metadata": {}
        },
        {
          "output_type": "display_data",
          "data": {
            "text/plain": [
              "Downloading (…)solve/main/vocab.txt:   0%|          | 0.00/228k [00:00<?, ?B/s]"
            ],
            "application/vnd.jupyter.widget-view+json": {
              "version_major": 2,
              "version_minor": 0,
              "model_id": "54557404c046464c88308638c47092fc"
            }
          },
          "metadata": {}
        },
        {
          "output_type": "display_data",
          "data": {
            "text/plain": [
              "Downloading pytorch_model.bin:   0%|          | 0.00/442M [00:00<?, ?B/s]"
            ],
            "application/vnd.jupyter.widget-view+json": {
              "version_major": 2,
              "version_minor": 0,
              "model_id": "5679d483bdbd43de83661ac11cf83546"
            }
          },
          "metadata": {}
        },
        {
          "output_type": "stream",
          "name": "stderr",
          "text": [
            "Some weights of the model checkpoint at allenai/scibert_scivocab_uncased were not used when initializing BertModel: ['cls.predictions.decoder.weight', 'cls.seq_relationship.bias', 'cls.seq_relationship.weight', 'cls.predictions.bias', 'cls.predictions.transform.LayerNorm.weight', 'cls.predictions.transform.dense.weight', 'cls.predictions.transform.LayerNorm.bias', 'cls.predictions.decoder.bias', 'cls.predictions.transform.dense.bias']\n",
            "- This IS expected if you are initializing BertModel from the checkpoint of a model trained on another task or with another architecture (e.g. initializing a BertForSequenceClassification model from a BertForPreTraining model).\n",
            "- This IS NOT expected if you are initializing BertModel from the checkpoint of a model that you expect to be exactly identical (initializing a BertForSequenceClassification model from a BertForSequenceClassification model).\n"
          ]
        }
      ]
    },
    {
      "cell_type": "code",
      "source": [
        "device"
      ],
      "metadata": {
        "colab": {
          "base_uri": "https://localhost:8080/"
        },
        "id": "17J2pYUMfYKU",
        "outputId": "b8dc09af-f83e-4c4f-cc3e-29a446d9a5ae"
      },
      "execution_count": 82,
      "outputs": [
        {
          "output_type": "execute_result",
          "data": {
            "text/plain": [
              "device(type='cuda')"
            ]
          },
          "metadata": {},
          "execution_count": 82
        }
      ]
    },
    {
      "cell_type": "code",
      "source": [
        "# Initialize the title embeddings columns\n",
        "df['title_embedding'] = None\n",
        "df['cited_by_title_embedding'] = None\n",
        "\n",
        "# Prepare batches for the 'title' column\n",
        "for batch_start in range(0, len(df), batch_size):\n",
        "    batch_df = df.iloc[batch_start:batch_start+batch_size]\n",
        "    batch_texts = batch_df['title'].tolist()\n",
        "\n",
        "    # Tokenize the batch texts\n",
        "    tokens = tokenizer.batch_encode_plus(batch_texts, truncation=True, padding=True, max_length=64, return_tensors='pt')\n",
        "    input_ids = tokens['input_ids'].to(device)\n",
        "    attention_mask = tokens['attention_mask'].to(device)\n",
        "\n",
        "    # Generate the embeddings\n",
        "    with torch.no_grad():\n",
        "        outputs = model(input_ids=input_ids, attention_mask=attention_mask)\n",
        "        batch_embeddings = outputs.pooler_output.cpu().numpy()\n",
        "\n",
        "    # Add the embeddings to the DataFrame\n",
        "    for i, embedding in enumerate(batch_embeddings):\n",
        "        df.at[batch_start+i, 'title_embedding'] = embedding\n",
        "\n",
        "# Prepare batches for the 'cited_by_title' column\n",
        "for batch_start in range(0, len(df), batch_size):\n",
        "    batch_df = df.iloc[batch_start:batch_start+batch_size]\n",
        "    batch_texts = batch_df['cited_by_title'].tolist()\n",
        "\n",
        "    # Tokenize the batch texts\n",
        "    tokens = tokenizer.batch_encode_plus(batch_texts, truncation=True, padding=True, max_length=64, return_tensors='pt')\n",
        "    input_ids = tokens['input_ids'].to(device)\n",
        "    attention_mask = tokens['attention_mask'].to(device)\n",
        "\n",
        "    # Generate the embeddings\n",
        "    with torch.no_grad():\n",
        "        outputs = model(input_ids=input_ids, attention_mask=attention_mask)\n",
        "        batch_embeddings = outputs.pooler_output.cpu().numpy()\n",
        "\n",
        "    # Add the embeddings to the DataFrame\n",
        "    for i, embedding in enumerate(batch_embeddings):\n",
        "        df.at[batch_start+i, 'cited_by_title_embedding'] = embedding"
      ],
      "metadata": {
        "id": "WxpLXPbgCDHm"
      },
      "execution_count": 17,
      "outputs": []
    },
    {
      "cell_type": "code",
      "source": [
        "df.head(3)"
      ],
      "metadata": {
        "colab": {
          "base_uri": "https://localhost:8080/",
          "height": 450
        },
        "id": "ntzbW0OQL1Nd",
        "outputId": "9da92629-b2e5-4660-9075-9b6b3b670d2b"
      },
      "execution_count": 18,
      "outputs": [
        {
          "output_type": "execute_result",
          "data": {
            "text/plain": [
              "  publication_number                                              title  \\\n",
              "0         2002161646  Advertising campaign and business listing mana...   \n",
              "1         2016260049  Shopping facility assistance systems, devices,...   \n",
              "2         2016260145  Multi-shopper cooperative shopping experience ...   \n",
              "\n",
              "                                            abstract   cpc_code  \\\n",
              "0  The present invention discloses a method and s...   H04W4/20   \n",
              "1  A plurality of motorized terrestrial transport...  G06F3/017   \n",
              "2  Methods and apparatuses are provided for use i...  G10L15/22   \n",
              "\n",
              "   cpc_inventive  cpc_first cited_by_publication_number  \\\n",
              "0           True      False                     9263039   \n",
              "1           True      False                    10570000   \n",
              "2           True      False                    10570000   \n",
              "\n",
              "                                      cited_by_title  \\\n",
              "0  Systems and methods for responding to natural ...   \n",
              "1  Shopping facility assistance object detection ...   \n",
              "2  Shopping facility assistance object detection ...   \n",
              "\n",
              "                                   cited_by_abstract cited_by_cpc_code  \\\n",
              "0  Systems and methods are provided for receiving...         G10L15/19   \n",
              "1  Some embodiments provide apparatuses and metho...         G10L15/22   \n",
              "2  Some embodiments provide apparatuses and metho...        G06F18/214   \n",
              "\n",
              "   cited_by_cpc_inventive  cited_by_cpc_first  \\\n",
              "0                    True               False   \n",
              "1                    True               False   \n",
              "2                    True               False   \n",
              "\n",
              "                                  abstract_embedding  \\\n",
              "0  [0.005589909385889769, -0.09646502137184143, -...   \n",
              "1  [-0.17310114204883575, -0.3296165466308594, -0...   \n",
              "2  [0.053884685039520264, -0.20862428843975067, -...   \n",
              "\n",
              "                         cited_by_abstract_embedding  \\\n",
              "0  [0.10368426144123077, -0.11612911522388458, -0...   \n",
              "1  [0.06949799507856369, -0.07625707238912582, 0....   \n",
              "2  [0.06949799507856369, -0.07625707238912582, 0....   \n",
              "\n",
              "                                     title_embedding  \\\n",
              "0  [-0.021623997, -0.067425795, -0.3458059, 0.602...   \n",
              "1  [-0.0135331685, 0.1939859, 0.66813517, 0.93190...   \n",
              "2  [-0.39618537, -0.4554069, -0.92999244, 0.62208...   \n",
              "\n",
              "                            cited_by_title_embedding  \n",
              "0  [0.07478379, 0.04013107, 0.4316531, 0.99628156...  \n",
              "1  [-0.14899431, -0.01520236, -0.6003777, 0.66281...  \n",
              "2  [-0.14899431, -0.01520236, -0.6003777, 0.66281...  "
            ],
            "text/html": [
              "\n",
              "  <div id=\"df-059300d0-cc46-4f0a-aa7b-fefa2a2e8a2c\">\n",
              "    <div class=\"colab-df-container\">\n",
              "      <div>\n",
              "<style scoped>\n",
              "    .dataframe tbody tr th:only-of-type {\n",
              "        vertical-align: middle;\n",
              "    }\n",
              "\n",
              "    .dataframe tbody tr th {\n",
              "        vertical-align: top;\n",
              "    }\n",
              "\n",
              "    .dataframe thead th {\n",
              "        text-align: right;\n",
              "    }\n",
              "</style>\n",
              "<table border=\"1\" class=\"dataframe\">\n",
              "  <thead>\n",
              "    <tr style=\"text-align: right;\">\n",
              "      <th></th>\n",
              "      <th>publication_number</th>\n",
              "      <th>title</th>\n",
              "      <th>abstract</th>\n",
              "      <th>cpc_code</th>\n",
              "      <th>cpc_inventive</th>\n",
              "      <th>cpc_first</th>\n",
              "      <th>cited_by_publication_number</th>\n",
              "      <th>cited_by_title</th>\n",
              "      <th>cited_by_abstract</th>\n",
              "      <th>cited_by_cpc_code</th>\n",
              "      <th>cited_by_cpc_inventive</th>\n",
              "      <th>cited_by_cpc_first</th>\n",
              "      <th>abstract_embedding</th>\n",
              "      <th>cited_by_abstract_embedding</th>\n",
              "      <th>title_embedding</th>\n",
              "      <th>cited_by_title_embedding</th>\n",
              "    </tr>\n",
              "  </thead>\n",
              "  <tbody>\n",
              "    <tr>\n",
              "      <th>0</th>\n",
              "      <td>2002161646</td>\n",
              "      <td>Advertising campaign and business listing mana...</td>\n",
              "      <td>The present invention discloses a method and s...</td>\n",
              "      <td>H04W4/20</td>\n",
              "      <td>True</td>\n",
              "      <td>False</td>\n",
              "      <td>9263039</td>\n",
              "      <td>Systems and methods for responding to natural ...</td>\n",
              "      <td>Systems and methods are provided for receiving...</td>\n",
              "      <td>G10L15/19</td>\n",
              "      <td>True</td>\n",
              "      <td>False</td>\n",
              "      <td>[0.005589909385889769, -0.09646502137184143, -...</td>\n",
              "      <td>[0.10368426144123077, -0.11612911522388458, -0...</td>\n",
              "      <td>[-0.021623997, -0.067425795, -0.3458059, 0.602...</td>\n",
              "      <td>[0.07478379, 0.04013107, 0.4316531, 0.99628156...</td>\n",
              "    </tr>\n",
              "    <tr>\n",
              "      <th>1</th>\n",
              "      <td>2016260049</td>\n",
              "      <td>Shopping facility assistance systems, devices,...</td>\n",
              "      <td>A plurality of motorized terrestrial transport...</td>\n",
              "      <td>G06F3/017</td>\n",
              "      <td>True</td>\n",
              "      <td>False</td>\n",
              "      <td>10570000</td>\n",
              "      <td>Shopping facility assistance object detection ...</td>\n",
              "      <td>Some embodiments provide apparatuses and metho...</td>\n",
              "      <td>G10L15/22</td>\n",
              "      <td>True</td>\n",
              "      <td>False</td>\n",
              "      <td>[-0.17310114204883575, -0.3296165466308594, -0...</td>\n",
              "      <td>[0.06949799507856369, -0.07625707238912582, 0....</td>\n",
              "      <td>[-0.0135331685, 0.1939859, 0.66813517, 0.93190...</td>\n",
              "      <td>[-0.14899431, -0.01520236, -0.6003777, 0.66281...</td>\n",
              "    </tr>\n",
              "    <tr>\n",
              "      <th>2</th>\n",
              "      <td>2016260145</td>\n",
              "      <td>Multi-shopper cooperative shopping experience ...</td>\n",
              "      <td>Methods and apparatuses are provided for use i...</td>\n",
              "      <td>G10L15/22</td>\n",
              "      <td>True</td>\n",
              "      <td>False</td>\n",
              "      <td>10570000</td>\n",
              "      <td>Shopping facility assistance object detection ...</td>\n",
              "      <td>Some embodiments provide apparatuses and metho...</td>\n",
              "      <td>G06F18/214</td>\n",
              "      <td>True</td>\n",
              "      <td>False</td>\n",
              "      <td>[0.053884685039520264, -0.20862428843975067, -...</td>\n",
              "      <td>[0.06949799507856369, -0.07625707238912582, 0....</td>\n",
              "      <td>[-0.39618537, -0.4554069, -0.92999244, 0.62208...</td>\n",
              "      <td>[-0.14899431, -0.01520236, -0.6003777, 0.66281...</td>\n",
              "    </tr>\n",
              "  </tbody>\n",
              "</table>\n",
              "</div>\n",
              "      <button class=\"colab-df-convert\" onclick=\"convertToInteractive('df-059300d0-cc46-4f0a-aa7b-fefa2a2e8a2c')\"\n",
              "              title=\"Convert this dataframe to an interactive table.\"\n",
              "              style=\"display:none;\">\n",
              "        \n",
              "  <svg xmlns=\"http://www.w3.org/2000/svg\" height=\"24px\"viewBox=\"0 0 24 24\"\n",
              "       width=\"24px\">\n",
              "    <path d=\"M0 0h24v24H0V0z\" fill=\"none\"/>\n",
              "    <path d=\"M18.56 5.44l.94 2.06.94-2.06 2.06-.94-2.06-.94-.94-2.06-.94 2.06-2.06.94zm-11 1L8.5 8.5l.94-2.06 2.06-.94-2.06-.94L8.5 2.5l-.94 2.06-2.06.94zm10 10l.94 2.06.94-2.06 2.06-.94-2.06-.94-.94-2.06-.94 2.06-2.06.94z\"/><path d=\"M17.41 7.96l-1.37-1.37c-.4-.4-.92-.59-1.43-.59-.52 0-1.04.2-1.43.59L10.3 9.45l-7.72 7.72c-.78.78-.78 2.05 0 2.83L4 21.41c.39.39.9.59 1.41.59.51 0 1.02-.2 1.41-.59l7.78-7.78 2.81-2.81c.8-.78.8-2.07 0-2.86zM5.41 20L4 18.59l7.72-7.72 1.47 1.35L5.41 20z\"/>\n",
              "  </svg>\n",
              "      </button>\n",
              "      \n",
              "  <style>\n",
              "    .colab-df-container {\n",
              "      display:flex;\n",
              "      flex-wrap:wrap;\n",
              "      gap: 12px;\n",
              "    }\n",
              "\n",
              "    .colab-df-convert {\n",
              "      background-color: #E8F0FE;\n",
              "      border: none;\n",
              "      border-radius: 50%;\n",
              "      cursor: pointer;\n",
              "      display: none;\n",
              "      fill: #1967D2;\n",
              "      height: 32px;\n",
              "      padding: 0 0 0 0;\n",
              "      width: 32px;\n",
              "    }\n",
              "\n",
              "    .colab-df-convert:hover {\n",
              "      background-color: #E2EBFA;\n",
              "      box-shadow: 0px 1px 2px rgba(60, 64, 67, 0.3), 0px 1px 3px 1px rgba(60, 64, 67, 0.15);\n",
              "      fill: #174EA6;\n",
              "    }\n",
              "\n",
              "    [theme=dark] .colab-df-convert {\n",
              "      background-color: #3B4455;\n",
              "      fill: #D2E3FC;\n",
              "    }\n",
              "\n",
              "    [theme=dark] .colab-df-convert:hover {\n",
              "      background-color: #434B5C;\n",
              "      box-shadow: 0px 1px 3px 1px rgba(0, 0, 0, 0.15);\n",
              "      filter: drop-shadow(0px 1px 2px rgba(0, 0, 0, 0.3));\n",
              "      fill: #FFFFFF;\n",
              "    }\n",
              "  </style>\n",
              "\n",
              "      <script>\n",
              "        const buttonEl =\n",
              "          document.querySelector('#df-059300d0-cc46-4f0a-aa7b-fefa2a2e8a2c button.colab-df-convert');\n",
              "        buttonEl.style.display =\n",
              "          google.colab.kernel.accessAllowed ? 'block' : 'none';\n",
              "\n",
              "        async function convertToInteractive(key) {\n",
              "          const element = document.querySelector('#df-059300d0-cc46-4f0a-aa7b-fefa2a2e8a2c');\n",
              "          const dataTable =\n",
              "            await google.colab.kernel.invokeFunction('convertToInteractive',\n",
              "                                                     [key], {});\n",
              "          if (!dataTable) return;\n",
              "\n",
              "          const docLinkHtml = 'Like what you see? Visit the ' +\n",
              "            '<a target=\"_blank\" href=https://colab.research.google.com/notebooks/data_table.ipynb>data table notebook</a>'\n",
              "            + ' to learn more about interactive tables.';\n",
              "          element.innerHTML = '';\n",
              "          dataTable['output_type'] = 'display_data';\n",
              "          await google.colab.output.renderOutput(dataTable, element);\n",
              "          const docLink = document.createElement('div');\n",
              "          docLink.innerHTML = docLinkHtml;\n",
              "          element.appendChild(docLink);\n",
              "        }\n",
              "      </script>\n",
              "    </div>\n",
              "  </div>\n",
              "  "
            ]
          },
          "metadata": {},
          "execution_count": 18
        }
      ]
    },
    {
      "cell_type": "code",
      "source": [
        "# Assuming you have a DataFrame named df with 'cpc_code' and 'cited_by_cpc_code' columns\n",
        "\n",
        "# Define the hierarchical levels of CPC codes\n",
        "cpc_levels = ['section', 'class', 'subclass']\n",
        "\n",
        "# Function to split the CPC code into hierarchical levels\n",
        "def split_cpc_code(cpc_code):\n",
        "    if cpc_code is None:\n",
        "        return []  # Return an empty list or any other appropriate value for missing values\n",
        "    return cpc_code.split('/')\n",
        "\n",
        "# Create a list to hold the hierarchical embeddings\n",
        "cpc_embeddings = []\n",
        "cited_by_cpc_embeddings = []\n",
        "\n",
        "# Train embeddings for each level of the hierarchy\n",
        "for level in cpc_levels:\n",
        "    # Collect codes at the current level\n",
        "    cpc_codes = df['cpc_code'].apply(split_cpc_code).apply(lambda x: x[:cpc_levels.index(level) + 1]).values.tolist()\n",
        "    cited_by_cpc_codes = df['cited_by_cpc_code'].apply(split_cpc_code).apply(lambda x: x[:cpc_levels.index(level) + 1]).values.tolist()\n",
        "\n",
        "    # Train Word2Vec embeddings for the current level\n",
        "    embedding_dim = 100  # Adjust the dimensionality as needed\n",
        "    model = Word2Vec(sentences=cpc_codes + cited_by_cpc_codes, vector_size=embedding_dim, min_count=1)\n",
        "\n",
        "    # Extract embeddings for the codes at the current level\n",
        "    cpc_level_embeddings = np.array([model.wv[code[-1]] for code in cpc_codes])\n",
        "    cited_by_cpc_level_embeddings = np.array([model.wv[code[-1]] if code else np.zeros(embedding_dim) for code in cited_by_cpc_codes])\n",
        "\n",
        "\n",
        "    # Append the embeddings to the hierarchical embeddings list\n",
        "    cpc_embeddings.append(cpc_level_embeddings)\n",
        "    cited_by_cpc_embeddings.append(cited_by_cpc_level_embeddings)\n",
        "\n",
        "# Combine the hierarchical embeddings\n",
        "cpc_combined_embeddings = np.concatenate(cpc_embeddings, axis=1)\n",
        "cited_by_cpc_combined_embeddings = np.concatenate(cited_by_cpc_embeddings, axis=1)\n",
        "\n",
        "# Add the embeddings to the DataFrame\n",
        "for i, level in enumerate(cpc_levels):\n",
        "    df[f'cpc_embedding_{level}'] = cpc_combined_embeddings[:, i]\n",
        "    df[f'cited_by_cpc_embedding_{level}'] = cited_by_cpc_combined_embeddings[:, i]\n"
      ],
      "metadata": {
        "id": "mz1pu7iYgj9L"
      },
      "execution_count": 19,
      "outputs": []
    },
    {
      "cell_type": "code",
      "source": [
        "df.head(3)"
      ],
      "metadata": {
        "id": "Jw2sHGtKzf6w",
        "colab": {
          "base_uri": "https://localhost:8080/",
          "height": 480
        },
        "outputId": "19808fb7-3341-42d2-b450-2b09d5df8ae6"
      },
      "execution_count": 20,
      "outputs": [
        {
          "output_type": "execute_result",
          "data": {
            "text/plain": [
              "  publication_number                                              title  \\\n",
              "0         2002161646  Advertising campaign and business listing mana...   \n",
              "1         2016260049  Shopping facility assistance systems, devices,...   \n",
              "2         2016260145  Multi-shopper cooperative shopping experience ...   \n",
              "\n",
              "                                            abstract   cpc_code  \\\n",
              "0  The present invention discloses a method and s...   H04W4/20   \n",
              "1  A plurality of motorized terrestrial transport...  G06F3/017   \n",
              "2  Methods and apparatuses are provided for use i...  G10L15/22   \n",
              "\n",
              "   cpc_inventive  cpc_first cited_by_publication_number  \\\n",
              "0           True      False                     9263039   \n",
              "1           True      False                    10570000   \n",
              "2           True      False                    10570000   \n",
              "\n",
              "                                      cited_by_title  \\\n",
              "0  Systems and methods for responding to natural ...   \n",
              "1  Shopping facility assistance object detection ...   \n",
              "2  Shopping facility assistance object detection ...   \n",
              "\n",
              "                                   cited_by_abstract cited_by_cpc_code  ...  \\\n",
              "0  Systems and methods are provided for receiving...         G10L15/19  ...   \n",
              "1  Some embodiments provide apparatuses and metho...         G10L15/22  ...   \n",
              "2  Some embodiments provide apparatuses and metho...        G06F18/214  ...   \n",
              "\n",
              "                                  abstract_embedding  \\\n",
              "0  [0.005589909385889769, -0.09646502137184143, -...   \n",
              "1  [-0.17310114204883575, -0.3296165466308594, -0...   \n",
              "2  [0.053884685039520264, -0.20862428843975067, -...   \n",
              "\n",
              "                         cited_by_abstract_embedding  \\\n",
              "0  [0.10368426144123077, -0.11612911522388458, -0...   \n",
              "1  [0.06949799507856369, -0.07625707238912582, 0....   \n",
              "2  [0.06949799507856369, -0.07625707238912582, 0....   \n",
              "\n",
              "                                     title_embedding  \\\n",
              "0  [-0.021623997, -0.067425795, -0.3458059, 0.602...   \n",
              "1  [-0.0135331685, 0.1939859, 0.66813517, 0.93190...   \n",
              "2  [-0.39618537, -0.4554069, -0.92999244, 0.62208...   \n",
              "\n",
              "                            cited_by_title_embedding cpc_embedding_section  \\\n",
              "0  [0.07478379, 0.04013107, 0.4316531, 0.99628156...              0.005627   \n",
              "1  [-0.14899431, -0.01520236, -0.6003777, 0.66281...              0.008132   \n",
              "2  [-0.14899431, -0.01520236, -0.6003777, 0.66281...             -0.000536   \n",
              "\n",
              "  cited_by_cpc_embedding_section  cpc_embedding_class  \\\n",
              "0                      -0.000536             0.005497   \n",
              "1                      -0.000536            -0.004457   \n",
              "2                      -0.006155             0.000236   \n",
              "\n",
              "   cited_by_cpc_embedding_class  cpc_embedding_subclass  \\\n",
              "0                      0.000236                0.001829   \n",
              "1                      0.000236               -0.001068   \n",
              "2                      0.004668                0.005103   \n",
              "\n",
              "   cited_by_cpc_embedding_subclass  \n",
              "0                         0.005103  \n",
              "1                         0.005103  \n",
              "2                        -0.009071  \n",
              "\n",
              "[3 rows x 22 columns]"
            ],
            "text/html": [
              "\n",
              "  <div id=\"df-c48b21ce-875f-4233-8363-af0846d52c85\">\n",
              "    <div class=\"colab-df-container\">\n",
              "      <div>\n",
              "<style scoped>\n",
              "    .dataframe tbody tr th:only-of-type {\n",
              "        vertical-align: middle;\n",
              "    }\n",
              "\n",
              "    .dataframe tbody tr th {\n",
              "        vertical-align: top;\n",
              "    }\n",
              "\n",
              "    .dataframe thead th {\n",
              "        text-align: right;\n",
              "    }\n",
              "</style>\n",
              "<table border=\"1\" class=\"dataframe\">\n",
              "  <thead>\n",
              "    <tr style=\"text-align: right;\">\n",
              "      <th></th>\n",
              "      <th>publication_number</th>\n",
              "      <th>title</th>\n",
              "      <th>abstract</th>\n",
              "      <th>cpc_code</th>\n",
              "      <th>cpc_inventive</th>\n",
              "      <th>cpc_first</th>\n",
              "      <th>cited_by_publication_number</th>\n",
              "      <th>cited_by_title</th>\n",
              "      <th>cited_by_abstract</th>\n",
              "      <th>cited_by_cpc_code</th>\n",
              "      <th>...</th>\n",
              "      <th>abstract_embedding</th>\n",
              "      <th>cited_by_abstract_embedding</th>\n",
              "      <th>title_embedding</th>\n",
              "      <th>cited_by_title_embedding</th>\n",
              "      <th>cpc_embedding_section</th>\n",
              "      <th>cited_by_cpc_embedding_section</th>\n",
              "      <th>cpc_embedding_class</th>\n",
              "      <th>cited_by_cpc_embedding_class</th>\n",
              "      <th>cpc_embedding_subclass</th>\n",
              "      <th>cited_by_cpc_embedding_subclass</th>\n",
              "    </tr>\n",
              "  </thead>\n",
              "  <tbody>\n",
              "    <tr>\n",
              "      <th>0</th>\n",
              "      <td>2002161646</td>\n",
              "      <td>Advertising campaign and business listing mana...</td>\n",
              "      <td>The present invention discloses a method and s...</td>\n",
              "      <td>H04W4/20</td>\n",
              "      <td>True</td>\n",
              "      <td>False</td>\n",
              "      <td>9263039</td>\n",
              "      <td>Systems and methods for responding to natural ...</td>\n",
              "      <td>Systems and methods are provided for receiving...</td>\n",
              "      <td>G10L15/19</td>\n",
              "      <td>...</td>\n",
              "      <td>[0.005589909385889769, -0.09646502137184143, -...</td>\n",
              "      <td>[0.10368426144123077, -0.11612911522388458, -0...</td>\n",
              "      <td>[-0.021623997, -0.067425795, -0.3458059, 0.602...</td>\n",
              "      <td>[0.07478379, 0.04013107, 0.4316531, 0.99628156...</td>\n",
              "      <td>0.005627</td>\n",
              "      <td>-0.000536</td>\n",
              "      <td>0.005497</td>\n",
              "      <td>0.000236</td>\n",
              "      <td>0.001829</td>\n",
              "      <td>0.005103</td>\n",
              "    </tr>\n",
              "    <tr>\n",
              "      <th>1</th>\n",
              "      <td>2016260049</td>\n",
              "      <td>Shopping facility assistance systems, devices,...</td>\n",
              "      <td>A plurality of motorized terrestrial transport...</td>\n",
              "      <td>G06F3/017</td>\n",
              "      <td>True</td>\n",
              "      <td>False</td>\n",
              "      <td>10570000</td>\n",
              "      <td>Shopping facility assistance object detection ...</td>\n",
              "      <td>Some embodiments provide apparatuses and metho...</td>\n",
              "      <td>G10L15/22</td>\n",
              "      <td>...</td>\n",
              "      <td>[-0.17310114204883575, -0.3296165466308594, -0...</td>\n",
              "      <td>[0.06949799507856369, -0.07625707238912582, 0....</td>\n",
              "      <td>[-0.0135331685, 0.1939859, 0.66813517, 0.93190...</td>\n",
              "      <td>[-0.14899431, -0.01520236, -0.6003777, 0.66281...</td>\n",
              "      <td>0.008132</td>\n",
              "      <td>-0.000536</td>\n",
              "      <td>-0.004457</td>\n",
              "      <td>0.000236</td>\n",
              "      <td>-0.001068</td>\n",
              "      <td>0.005103</td>\n",
              "    </tr>\n",
              "    <tr>\n",
              "      <th>2</th>\n",
              "      <td>2016260145</td>\n",
              "      <td>Multi-shopper cooperative shopping experience ...</td>\n",
              "      <td>Methods and apparatuses are provided for use i...</td>\n",
              "      <td>G10L15/22</td>\n",
              "      <td>True</td>\n",
              "      <td>False</td>\n",
              "      <td>10570000</td>\n",
              "      <td>Shopping facility assistance object detection ...</td>\n",
              "      <td>Some embodiments provide apparatuses and metho...</td>\n",
              "      <td>G06F18/214</td>\n",
              "      <td>...</td>\n",
              "      <td>[0.053884685039520264, -0.20862428843975067, -...</td>\n",
              "      <td>[0.06949799507856369, -0.07625707238912582, 0....</td>\n",
              "      <td>[-0.39618537, -0.4554069, -0.92999244, 0.62208...</td>\n",
              "      <td>[-0.14899431, -0.01520236, -0.6003777, 0.66281...</td>\n",
              "      <td>-0.000536</td>\n",
              "      <td>-0.006155</td>\n",
              "      <td>0.000236</td>\n",
              "      <td>0.004668</td>\n",
              "      <td>0.005103</td>\n",
              "      <td>-0.009071</td>\n",
              "    </tr>\n",
              "  </tbody>\n",
              "</table>\n",
              "<p>3 rows × 22 columns</p>\n",
              "</div>\n",
              "      <button class=\"colab-df-convert\" onclick=\"convertToInteractive('df-c48b21ce-875f-4233-8363-af0846d52c85')\"\n",
              "              title=\"Convert this dataframe to an interactive table.\"\n",
              "              style=\"display:none;\">\n",
              "        \n",
              "  <svg xmlns=\"http://www.w3.org/2000/svg\" height=\"24px\"viewBox=\"0 0 24 24\"\n",
              "       width=\"24px\">\n",
              "    <path d=\"M0 0h24v24H0V0z\" fill=\"none\"/>\n",
              "    <path d=\"M18.56 5.44l.94 2.06.94-2.06 2.06-.94-2.06-.94-.94-2.06-.94 2.06-2.06.94zm-11 1L8.5 8.5l.94-2.06 2.06-.94-2.06-.94L8.5 2.5l-.94 2.06-2.06.94zm10 10l.94 2.06.94-2.06 2.06-.94-2.06-.94-.94-2.06-.94 2.06-2.06.94z\"/><path d=\"M17.41 7.96l-1.37-1.37c-.4-.4-.92-.59-1.43-.59-.52 0-1.04.2-1.43.59L10.3 9.45l-7.72 7.72c-.78.78-.78 2.05 0 2.83L4 21.41c.39.39.9.59 1.41.59.51 0 1.02-.2 1.41-.59l7.78-7.78 2.81-2.81c.8-.78.8-2.07 0-2.86zM5.41 20L4 18.59l7.72-7.72 1.47 1.35L5.41 20z\"/>\n",
              "  </svg>\n",
              "      </button>\n",
              "      \n",
              "  <style>\n",
              "    .colab-df-container {\n",
              "      display:flex;\n",
              "      flex-wrap:wrap;\n",
              "      gap: 12px;\n",
              "    }\n",
              "\n",
              "    .colab-df-convert {\n",
              "      background-color: #E8F0FE;\n",
              "      border: none;\n",
              "      border-radius: 50%;\n",
              "      cursor: pointer;\n",
              "      display: none;\n",
              "      fill: #1967D2;\n",
              "      height: 32px;\n",
              "      padding: 0 0 0 0;\n",
              "      width: 32px;\n",
              "    }\n",
              "\n",
              "    .colab-df-convert:hover {\n",
              "      background-color: #E2EBFA;\n",
              "      box-shadow: 0px 1px 2px rgba(60, 64, 67, 0.3), 0px 1px 3px 1px rgba(60, 64, 67, 0.15);\n",
              "      fill: #174EA6;\n",
              "    }\n",
              "\n",
              "    [theme=dark] .colab-df-convert {\n",
              "      background-color: #3B4455;\n",
              "      fill: #D2E3FC;\n",
              "    }\n",
              "\n",
              "    [theme=dark] .colab-df-convert:hover {\n",
              "      background-color: #434B5C;\n",
              "      box-shadow: 0px 1px 3px 1px rgba(0, 0, 0, 0.15);\n",
              "      filter: drop-shadow(0px 1px 2px rgba(0, 0, 0, 0.3));\n",
              "      fill: #FFFFFF;\n",
              "    }\n",
              "  </style>\n",
              "\n",
              "      <script>\n",
              "        const buttonEl =\n",
              "          document.querySelector('#df-c48b21ce-875f-4233-8363-af0846d52c85 button.colab-df-convert');\n",
              "        buttonEl.style.display =\n",
              "          google.colab.kernel.accessAllowed ? 'block' : 'none';\n",
              "\n",
              "        async function convertToInteractive(key) {\n",
              "          const element = document.querySelector('#df-c48b21ce-875f-4233-8363-af0846d52c85');\n",
              "          const dataTable =\n",
              "            await google.colab.kernel.invokeFunction('convertToInteractive',\n",
              "                                                     [key], {});\n",
              "          if (!dataTable) return;\n",
              "\n",
              "          const docLinkHtml = 'Like what you see? Visit the ' +\n",
              "            '<a target=\"_blank\" href=https://colab.research.google.com/notebooks/data_table.ipynb>data table notebook</a>'\n",
              "            + ' to learn more about interactive tables.';\n",
              "          element.innerHTML = '';\n",
              "          dataTable['output_type'] = 'display_data';\n",
              "          await google.colab.output.renderOutput(dataTable, element);\n",
              "          const docLink = document.createElement('div');\n",
              "          docLink.innerHTML = docLinkHtml;\n",
              "          element.appendChild(docLink);\n",
              "        }\n",
              "      </script>\n",
              "    </div>\n",
              "  </div>\n",
              "  "
            ]
          },
          "metadata": {},
          "execution_count": 20
        }
      ]
    },
    {
      "cell_type": "code",
      "source": [
        "# Save the data to the pickle file\n",
        "with open(pickle_path, 'wb') as f:\n",
        "    pickle.dump(df, f)"
      ],
      "metadata": {
        "id": "IGautHyBp7nm"
      },
      "execution_count": 21,
      "outputs": []
    },
    {
      "cell_type": "code",
      "source": [
        "with open(pickle_path, 'rb') as f:\n",
        "    data = pickle.load(f)"
      ],
      "metadata": {
        "id": "5UcEW_3AonT-"
      },
      "execution_count": 22,
      "outputs": []
    },
    {
      "cell_type": "code",
      "source": [
        "G = nx.Graph()\n",
        "# df = pd.DataFrame(data)"
      ],
      "metadata": {
        "id": "Q0T5KvHwztfi"
      },
      "execution_count": 23,
      "outputs": []
    },
    {
      "cell_type": "code",
      "source": [
        "df.columns"
      ],
      "metadata": {
        "id": "7olA0WI4P_dE",
        "colab": {
          "base_uri": "https://localhost:8080/"
        },
        "outputId": "90824036-2c5a-4af7-a38b-7109df4b2e93"
      },
      "execution_count": 24,
      "outputs": [
        {
          "output_type": "execute_result",
          "data": {
            "text/plain": [
              "Index(['publication_number', 'title', 'abstract', 'cpc_code', 'cpc_inventive',\n",
              "       'cpc_first', 'cited_by_publication_number', 'cited_by_title',\n",
              "       'cited_by_abstract', 'cited_by_cpc_code', 'cited_by_cpc_inventive',\n",
              "       'cited_by_cpc_first', 'abstract_embedding',\n",
              "       'cited_by_abstract_embedding', 'title_embedding',\n",
              "       'cited_by_title_embedding', 'cpc_embedding_section',\n",
              "       'cited_by_cpc_embedding_section', 'cpc_embedding_class',\n",
              "       'cited_by_cpc_embedding_class', 'cpc_embedding_subclass',\n",
              "       'cited_by_cpc_embedding_subclass'],\n",
              "      dtype='object')"
            ]
          },
          "metadata": {},
          "execution_count": 24
        }
      ]
    },
    {
      "cell_type": "code",
      "source": [
        "for index, row in df.iterrows():\n",
        "    # Add/Update the 'publication_number' node with attributes\n",
        "    G.add_node(row['publication_number'],\n",
        "               title_embedding=row['title_embedding'],\n",
        "               abstract_embedding=row['abstract_embedding'],\n",
        "               cpc_embedding_section=row['cpc_embedding_section'],\n",
        "               cpc_embedding_class=row['cpc_embedding_class'],\n",
        "               cpc_embedding_subclass=row['cpc_embedding_subclass'])\n",
        "\n",
        "    # Add 'cited_by_publication_number' node, with attributes\n",
        "    G.add_node(row['cited_by_publication_number'],\n",
        "               title_embedding=row['cited_by_title_embedding'],\n",
        "               abstract_embedding=row['cited_by_abstract_embedding'],\n",
        "               cpc_embedding_section=row['cited_by_cpc_embedding_section'],\n",
        "               cpc_embedding_class=row['cited_by_cpc_embedding_class'],\n",
        "               cpc_embedding_subclass=row['cited_by_cpc_embedding_subclass'])\n",
        "\n",
        "    # Add an edge between 'publication_number' and 'cited_by_publication_number'\n",
        "    G.add_edge(row['publication_number'], row['cited_by_publication_number'])\n"
      ],
      "metadata": {
        "id": "bcTwgrj5-Kqr"
      },
      "execution_count": 25,
      "outputs": []
    },
    {
      "cell_type": "code",
      "source": [
        "# Save the graph to a pickle file\n",
        "with open('graph.pickle', 'wb') as f:\n",
        "    pickle.dump(G, f)"
      ],
      "metadata": {
        "id": "n9kAC-AEH3zL"
      },
      "execution_count": 26,
      "outputs": []
    },
    {
      "cell_type": "code",
      "source": [
        "#load graph from pickle file\n",
        "with open('graph.pickle', 'rb') as f:\n",
        "    G = pickle.load(f)\n"
      ],
      "metadata": {
        "id": "R1DPXpaJH7g8"
      },
      "execution_count": 27,
      "outputs": []
    },
    {
      "cell_type": "code",
      "source": [
        "#check a node to see if graph is good\n",
        "node_id='2016260145'\n",
        "G.has_node(node_id)\n",
        "attrs = G.nodes[node_id]\n",
        "print(f\"Node {node_id} Attributes: {attrs}\")"
      ],
      "metadata": {
        "colab": {
          "base_uri": "https://localhost:8080/"
        },
        "id": "7VL8SsDaXsoY",
        "outputId": "b2790641-c066-4d0e-ce67-97ecd0d1dcdb"
      },
      "execution_count": 49,
      "outputs": [
        {
          "output_type": "stream",
          "name": "stdout",
          "text": [
            "Node 2016260145 Attributes: {'title_embedding': array([-0.39618585, -0.45540705, -0.9299923 ,  0.6220836 ,  0.25978002,\n",
            "        0.99968153,  0.20933196, -0.9974765 ,  0.53605914,  0.18715121,\n",
            "        0.17151648,  0.13014339,  0.9894276 ,  0.06817875, -0.19469558,\n",
            "        0.20862944, -0.17747048, -0.25118774, -0.20682316, -0.602822  ,\n",
            "       -0.31031564,  0.405848  ,  0.87640905,  0.29180655, -0.9674287 ,\n",
            "        0.9838087 , -0.25083825,  0.31712335, -0.18120505,  0.5302158 ,\n",
            "        0.15454932,  0.3369794 ,  0.1941378 ,  0.06280427,  0.8532592 ,\n",
            "        0.16565974,  0.9995285 ,  0.20269758,  0.17377299,  0.8689562 ,\n",
            "       -0.09373106,  0.2999521 , -0.1301769 , -0.08186144,  0.13658533,\n",
            "       -0.2858503 , -0.3040646 ,  0.27025738,  0.04794158, -0.96505266,\n",
            "        0.02201525, -0.48025256, -0.20818433, -0.8423846 ,  0.61962014,\n",
            "       -0.485169  , -0.36312923,  0.57681274, -0.93235147,  0.93130434,\n",
            "        0.01297793, -0.62802064,  0.0728514 ,  0.96604943,  0.27863955,\n",
            "       -0.10085566, -0.15240234, -0.21453975, -0.36677584,  0.1060192 ,\n",
            "        0.990197  ,  0.35241553,  0.11634664, -0.9806753 , -0.6302173 ,\n",
            "        0.01589715, -0.36617044, -0.14290792, -0.04414913,  0.41850254,\n",
            "        0.33001295, -0.150327  , -0.09992009, -0.9934817 , -0.09697723,\n",
            "        0.13224734,  0.08927775, -0.9525916 ,  0.9899605 , -0.78644955,\n",
            "       -0.13171944, -0.17075373, -0.20953111, -0.22961508, -0.14575486,\n",
            "        0.07498306, -0.07981874,  0.9459734 ,  0.26970753, -0.08862559,\n",
            "       -0.14186819,  0.19156392,  0.3202676 , -0.5712291 , -0.3129445 ,\n",
            "       -0.20083408, -0.07458086, -0.0538306 , -0.1841211 , -0.5048406 ,\n",
            "       -0.13161887, -0.00633681,  0.05394615, -0.44040114, -0.26819775,\n",
            "        0.6153276 ,  0.9481559 ,  0.5799241 , -0.5652517 ,  0.12824374,\n",
            "        0.6087301 ,  0.19867054,  0.02149594, -0.15619953, -0.53140694,\n",
            "        0.21018037, -0.20028391,  0.19348252, -0.36814743, -0.06727743,\n",
            "       -0.15382653,  0.76526785, -0.9985545 , -0.30080086, -0.03302193,\n",
            "       -0.18455538,  0.21561056, -0.44221324,  0.04853967, -0.14220895,\n",
            "       -0.21799001, -0.33051983,  0.10253748,  0.13222021,  0.82365763,\n",
            "       -0.88565844,  0.3483944 ,  0.10903323,  0.34471792,  0.29599616,\n",
            "        0.16206586, -0.27911627,  0.2455987 ,  0.9995065 , -0.1905947 ,\n",
            "       -0.00869994, -0.9826248 ,  0.98921627,  0.9984336 ,  0.28571913,\n",
            "        0.13951348,  0.05929451,  0.02480371, -0.37341765,  0.08629666,\n",
            "        0.05927155,  0.21707825,  0.14434184,  0.01353984, -0.94396347,\n",
            "       -0.2567409 , -0.27294418,  0.41512585, -0.31966445, -0.7498996 ,\n",
            "       -0.3145972 , -0.9947072 , -0.29316562,  0.17124414,  0.1291249 ,\n",
            "        0.10448471,  0.45091578, -0.25032607, -0.0395507 , -0.1158919 ,\n",
            "       -0.8316617 , -0.38383684,  0.6485139 , -0.3969444 ,  0.0055508 ,\n",
            "        0.14150615,  0.66991544,  0.29359764,  0.37155753, -0.9994609 ,\n",
            "        0.13620351,  0.15131298,  0.05513915,  0.11437929,  0.3536657 ,\n",
            "       -0.03698031, -0.10106807,  0.24955766, -0.27412772,  0.19785812,\n",
            "        0.3072182 ,  0.40869015,  0.13655904, -0.99758166, -0.19233564,\n",
            "        0.08465443, -0.9745847 , -0.13957162, -0.0936125 ,  0.70309216,\n",
            "        0.38734108, -0.9351935 , -0.986059  , -0.2672938 ,  0.12686002,\n",
            "        0.22829382, -0.14584397, -0.44364133,  0.9393618 , -0.8348945 ,\n",
            "       -0.62927294, -0.42711306,  0.31954   , -0.30040953,  0.9256032 ,\n",
            "       -0.03525422, -0.9978955 , -0.03757718, -0.06899617, -0.11350639,\n",
            "        0.08795504,  0.17601033,  0.24467441,  0.05865499, -0.13100496,\n",
            "       -0.04718455,  0.96644276, -0.23384017, -0.60158247, -0.62896484,\n",
            "        0.99881977,  0.18046889,  0.11225508,  0.20562874, -0.97864133,\n",
            "        0.3323313 , -0.380151  , -0.73627806, -0.05719537, -0.21317273,\n",
            "       -0.31277195,  0.95334655, -0.9226384 ,  0.6454302 , -0.38115752,\n",
            "       -0.36326492,  0.73057777,  0.951957  ,  0.3802156 , -0.9722773 ,\n",
            "       -0.30501962, -0.84645474, -0.15317142, -0.14762151, -0.9346204 ,\n",
            "       -0.03992004, -0.9763805 , -0.92439693,  0.52004236,  0.00289025,\n",
            "        0.71350217,  0.09233283,  0.93254364,  0.4475894 , -0.00139531,\n",
            "       -0.03367482, -0.30804077,  0.30536222, -0.98377544,  0.05040717,\n",
            "       -0.12348002,  0.1239037 , -0.9898313 , -0.25199828,  0.30252898,\n",
            "        0.9986701 ,  0.14595693, -0.41377845, -0.98691595, -0.21007521,\n",
            "        0.91901153, -0.9726046 , -0.8326934 , -0.8384545 ,  0.8932638 ,\n",
            "       -0.48261285, -0.29451117,  0.43284935, -0.9388114 ,  0.50210863,\n",
            "        0.38972148, -0.9424556 , -0.22227517,  0.35474655, -0.9850645 ,\n",
            "       -0.99649453,  0.10431296, -0.22969446, -0.23960662, -0.36997893,\n",
            "       -0.1682082 ,  0.27099445, -0.04828927,  0.9906792 , -0.6566342 ,\n",
            "        0.12288936, -0.41516048, -0.18483405,  0.37947634, -0.7056012 ,\n",
            "        0.23058477,  0.30001187,  0.19276026, -0.22580726, -0.9843583 ,\n",
            "       -0.20200357,  0.633324  , -0.9731452 ,  0.3938184 , -0.4271846 ,\n",
            "       -0.15283039,  0.9681759 , -0.10849353, -0.9497084 , -0.17798924,\n",
            "       -0.0268465 ,  0.92150235, -0.05876168, -0.34582898,  0.0280141 ,\n",
            "        0.9626647 , -0.24135439, -0.08728699, -0.28777996, -0.27990037,\n",
            "       -0.24946196, -0.5082998 , -0.9298952 , -0.2082152 , -0.04645927,\n",
            "       -0.51542944, -0.09521638, -0.74894   , -0.10877301, -0.18470962,\n",
            "        0.00986281, -0.22535348, -0.03004513,  0.76217276, -0.89838344,\n",
            "        0.3533204 , -0.9514422 ,  0.3960472 ,  0.39926204,  0.08152235,\n",
            "        0.46938038, -0.18443926, -0.00124937, -0.08471679,  0.90341175,\n",
            "       -0.4148801 , -0.34265828,  0.39164418, -0.2230586 ,  0.45301569,\n",
            "        0.40072134, -0.42506248, -0.55428004,  0.8542101 ,  0.9262423 ,\n",
            "       -0.07544228,  0.00261771, -0.41048574,  0.6695631 ,  0.9460883 ,\n",
            "        0.35304046,  0.42520416,  0.35936958,  0.9064527 ,  0.296043  ,\n",
            "        0.13037735, -0.12163807,  0.97218794, -0.17285271, -0.05840241,\n",
            "       -0.99690974, -0.27031225,  0.11610017, -0.08866258, -0.33732888,\n",
            "       -0.31448105,  0.8911709 , -0.97331625, -0.47356796,  0.39132157,\n",
            "        0.45789924,  0.9564378 ,  0.7900134 , -0.22890034,  0.8636037 ,\n",
            "       -0.12144503,  0.05381145, -0.42485684, -0.16477874,  0.5614418 ,\n",
            "        0.38302833,  0.09452804, -0.4386568 ,  0.94736415, -0.43420684,\n",
            "       -0.04675881, -0.06141037,  0.41133043, -0.13253498, -0.05620751,\n",
            "        0.2758649 ,  0.96271193, -0.95091456,  0.9997563 ,  0.79519635,\n",
            "        0.1901693 , -0.33585656,  0.02091063, -0.4478701 ,  0.5324044 ,\n",
            "       -0.13626887,  0.24433193, -0.9881332 ,  0.98716176,  0.06772617,\n",
            "        0.28939632, -0.9641191 ,  0.20545445, -0.9892719 , -0.45833704,\n",
            "       -0.79248965,  0.16267467, -0.21780393,  0.97927594, -0.26023442,\n",
            "       -0.35223195, -0.06616855, -0.97064716, -0.20525037,  0.07865357,\n",
            "        0.05427709,  0.2983399 , -0.00278886,  0.9803525 ,  0.09894159,\n",
            "       -0.9829303 , -0.10482239, -0.3763195 ,  0.32345152,  0.9158288 ,\n",
            "        0.6387509 , -0.18505728, -0.75109434,  0.06714086,  0.6188992 ,\n",
            "       -0.26159102, -0.39860412,  0.0529488 , -0.03266582, -0.6623264 ,\n",
            "       -0.21852383, -0.23764135, -0.55410624,  0.1592173 ,  0.24430019,\n",
            "       -0.37609455, -0.5337746 , -0.94646966,  0.9918193 ,  0.32972634,\n",
            "       -0.73161656,  0.03890597, -0.00651479, -0.3812431 , -0.95526344,\n",
            "        0.31004003, -0.9635121 ,  0.4344303 ,  0.92068803, -0.06086584,\n",
            "       -0.9945084 , -0.99728113,  0.94522494,  0.29644522, -0.43345672,\n",
            "        0.9824742 , -0.87957823, -0.4658031 ,  0.9497823 , -0.17229147,\n",
            "       -0.91999286,  0.1866715 ,  0.989912  ,  0.05760833,  0.20166256,\n",
            "       -0.19245987,  0.16202463,  0.95535207,  0.45592788,  0.15566966,\n",
            "        0.05666665, -0.10558777,  0.98994315,  0.9470846 ,  0.02143285,\n",
            "       -0.26981753, -0.00445185,  0.9995215 , -0.6702428 , -0.00698703,\n",
            "       -0.9590165 , -0.29341805, -0.15811606,  0.03300082, -0.22605826,\n",
            "        0.01548323,  0.34355643, -0.32868522, -0.80755687, -0.10599896,\n",
            "        0.40160957,  0.80282235,  0.40318066,  0.05868204, -0.2093203 ,\n",
            "       -0.14879127, -0.48543146, -0.30693674, -0.03135508,  0.2524528 ,\n",
            "        0.16176802,  0.48891187, -0.22593361,  0.81531346, -0.6251811 ,\n",
            "       -0.04490339,  0.23631299,  0.11292715,  0.25955427,  0.997738  ,\n",
            "       -0.36637068,  0.47112092,  0.9623898 ,  0.09542898,  0.99254996,\n",
            "        0.38852528, -0.94938856,  0.92703086, -0.34095654, -0.15073532,\n",
            "       -0.223376  , -0.97096837,  0.14026193,  0.9876374 ,  0.89300865,\n",
            "       -0.2196955 ,  0.18515927,  0.98476094,  0.49913684, -0.26394597,\n",
            "        0.8643662 ,  0.97568315,  0.9864886 , -0.8496516 ,  0.15441702,\n",
            "        0.75170135, -0.25508043, -0.4168086 ,  0.96583235,  0.4479026 ,\n",
            "        0.23569027,  0.901319  ,  0.9727214 , -0.28505415,  0.13616306,\n",
            "        0.9583641 , -0.32469767,  0.33131176, -0.30608478, -0.08602426,\n",
            "       -0.21301943,  0.2018816 , -0.55696297, -0.42776555, -0.38982186,\n",
            "        0.9450308 , -0.09761925, -0.30053368, -0.40882838,  0.9191468 ,\n",
            "       -0.9899023 , -0.18369573,  0.02383788, -0.4067299 ,  0.51654   ,\n",
            "        0.73055667, -0.3606444 ,  0.11899824, -0.3938778 , -0.4013061 ,\n",
            "        0.26005048, -0.14057952, -0.00494669, -0.33453128, -0.43740767,\n",
            "       -0.33345377, -0.9174351 , -0.98769104,  0.37715802,  0.97235256,\n",
            "       -0.9980422 , -0.36991346, -0.49368417,  0.3894264 ,  0.52766335,\n",
            "       -0.5669124 , -0.97697264,  0.06344164,  0.2764189 , -0.9992773 ,\n",
            "        0.3605043 , -0.997277  ,  0.28669912, -0.5862603 ,  0.17761466,\n",
            "       -0.9650781 ,  0.58104026,  0.53494436,  0.9212977 ,  0.08043139,\n",
            "       -0.04218908,  0.83753866,  0.07485601, -0.09556491, -0.3634785 ,\n",
            "       -0.23925108,  0.22827208,  0.14177252, -0.10922967, -0.7937436 ,\n",
            "        0.40291023, -0.08545935,  0.04674555,  0.8590822 ,  0.03865739,\n",
            "        0.95840824, -0.19039823, -0.8599589 , -0.2893799 , -0.08198926,\n",
            "       -0.30068007,  0.94190186, -0.24404037, -0.8546568 , -0.00329329,\n",
            "        0.38423017, -0.9769818 , -0.3576589 ,  0.02731068, -0.8009312 ,\n",
            "       -0.92519206, -0.84635556,  0.41809982, -0.52663577,  0.9544596 ,\n",
            "       -0.32702622,  0.68659353,  0.4198952 ,  0.13164653, -0.99991584,\n",
            "        0.09484835,  0.35636216, -0.66680175, -0.4587401 ,  0.7007873 ,\n",
            "        0.30551192, -0.49842787, -0.24525884,  0.14168365, -0.3654051 ,\n",
            "        0.5605861 ,  0.9988905 , -0.75184166,  0.66605747, -0.10561895,\n",
            "       -0.11504699,  0.23154172, -0.85287404, -0.3676273 ,  0.24542616,\n",
            "       -0.05487121,  0.03721427,  0.9649775 , -0.25493547, -0.10016636,\n",
            "        0.1233961 , -0.5813005 , -0.28109556, -0.71634257, -0.9967489 ,\n",
            "       -0.26262102,  0.07387081,  0.91087526,  0.39425793, -0.8162296 ,\n",
            "       -0.4521282 ,  0.03916125, -0.12977639, -0.02549453, -0.9739972 ,\n",
            "       -0.16280681,  0.12042639,  0.9025787 ,  0.11972971,  0.9556212 ,\n",
            "        0.9916934 , -0.08650558, -0.37523276, -0.11882868, -0.8191018 ,\n",
            "        0.10789713,  0.9985924 , -0.05923824, -0.05812583,  0.21624376,\n",
            "        0.9911554 , -0.03777979,  0.46797618, -0.29816306,  0.9854497 ,\n",
            "       -0.01338733,  0.84232336,  0.6422478 , -0.9273495 ,  0.18380262,\n",
            "        0.05433071, -0.05211358,  0.9636497 , -0.18243256, -0.48134038,\n",
            "       -0.9369298 ,  0.24871719,  0.40221176, -0.14278899,  0.2189279 ,\n",
            "       -0.39987224, -0.96386564,  0.03612819], dtype=float32), 'abstract_embedding': [0.053884685039520264, -0.20862428843975067, -0.8990824818611145, 0.6604839563369751, 0.32893529534339905, 0.9993377327919006, 0.4865390360355377, -0.9971082210540771, 0.18020160496234894, 0.7699013948440552, 0.15635846555233002, 0.22950991988182068, 0.7817795276641846, -0.12841841578483582, 0.0015062147285789251, -0.24614672362804413, -0.3347935676574707, -0.33077239990234375, -0.31499528884887695, -0.7882866263389587, 0.04272512346506119, 0.24362622201442719, 0.39410296082496643, 0.3073541820049286, -0.636405348777771, 0.7623814940452576, -0.4906288981437683, 0.08524750918149948, -0.06958933174610138, 0.38166722655296326, 0.16147121787071228, -0.6981766819953918, 0.09092878550291061, -0.06790105253458023, -0.20864538848400116, 0.06645890325307846, 0.9954075217247009, -0.14283423125743866, 0.26471927762031555, 0.8423956632614136, -0.3023061454296112, 0.31152281165122986, 0.019322143867611885, 0.1323716938495636, 0.33284512162208557, -0.2672613859176636, -0.31038638949394226, 0.23769930005073547, -0.14892379939556122, -0.3392862379550934, 0.11669842898845673, -0.4604243040084839, 0.23237918317317963, 0.9647054076194763, 0.9489112496376038, -0.2817161977291107, -0.02721562422811985, 0.391544908285141, -0.2585562765598297, 0.2766032814979553, 0.09188403189182281, -0.10891599953174591, 0.27310192584991455, 0.757129967212677, 0.28658780455589294, -0.19883766770362854, -0.44852033257484436, -0.10919380933046341, 0.4249211549758911, 0.4555858373641968, 0.9995712041854858, 0.10577583312988281, 0.3055059015750885, -0.8819935321807861, 0.498504102230072, 0.25594615936279297, -0.1457068771123886, -0.14805172383785248, 0.14316874742507935, -0.005929334554821253, 0.16721555590629578, -0.03628479689359665, -0.131783589720726, -0.6818689107894897, -0.1263999193906784, -0.29787710309028625, 0.13951478898525238, -0.6392256617546082, 0.926293134689331, -0.9559429883956909, 0.345725417137146, -0.32271286845207214, -0.03605737164616585, -0.24749748408794403, -0.195325568318367, 0.21465077996253967, -0.3142010271549225, 0.9229224324226379, 0.1062309741973877, -0.27209317684173584, -0.3136350214481354, 0.2246333658695221, 0.3339315354824066, -0.17122885584831238, 0.06575120985507965, -0.15979373455047607, -0.34920376539230347, -0.36000776290893555, -0.4388582110404968, 0.3170318901538849, 0.006038055755198002, -0.14372512698173523, 0.22192570567131042, -0.35765379667282104, 0.14280585944652557, 0.4994642436504364, 0.7075164318084717, 0.20104561746120453, -0.25779619812965393, 0.14087848365306854, 0.4403919279575348, -0.7775751948356628, 0.697684645652771, -0.1518726646900177, -0.017052870243787766, 0.31036022305488586, -0.25558170676231384, 0.3841499388217926, 0.2320028692483902, -0.01635565795004368, -0.37125375866889954, 0.7021646499633789, -0.9534009695053101, 0.1773853600025177, -0.18555255234241486, -0.027189841493964195, 0.21081891655921936, -0.2029254287481308, -0.6407277584075928, -0.00642221886664629, -0.19543011486530304, -0.25103920698165894, -0.005890215747058392, -0.11260827630758286, 0.6217312812805176, 0.26275137066841125, -0.007713671308010817, 0.03979647904634476, 0.3138889968395233, 0.15316754579544067, -0.2949352264404297, -0.45367133617401123, -0.4933673143386841, 0.9989228248596191, 0.19702869653701782, 0.2360583245754242, -0.7902397513389587, 0.8023443222045898, 0.7891619205474854, 0.6111564636230469, -0.03863983228802681, -0.18522606790065765, 0.07213924825191498, -0.2118484526872635, 0.3194701373577118, 0.13393935561180115, -0.006589609198272228, 0.6373028755187988, 0.5960709452629089, -0.7968142628669739, -0.18411944806575775, 0.7867446541786194, -0.2703803479671478, -0.3209126591682434, -0.06166931986808777, 0.15705378353595734, -0.8096636533737183, -0.4229287803173065, -0.8312402963638306, 0.9705344438552856, -0.11729186028242111, 0.7994476556777954, -0.32809770107269287, 0.15513257682323456, 0.03172961622476578, 0.06639669835567474, -0.11403694748878479, 0.20137514173984528, -0.24634869396686554, 0.3984527885913849, -0.1297397017478943, 0.2835836112499237, 0.06631632149219513, 0.09440741688013077, -0.9984099268913269, 0.03969613090157509, 0.43625807762145996, -0.17400772869586945, 0.032954007387161255, 0.17814518511295319, 0.17370475828647614, 0.02407524734735489, 0.3425752818584442, -0.39383208751678467, 0.23225310444831848, 0.2970094084739685, -0.1001344546675682, 0.43890443444252014, -0.9936271905899048, 0.7070958614349365, 0.07938870787620544, -0.807505190372467, -0.10402248054742813, 0.17969579994678497, 0.8855175375938416, 0.32528942823410034, -0.3653084337711334, -0.9953449964523315, -0.1258247196674347, 0.18692384660243988, 0.21608437597751617, 0.7323670387268066, -0.40077224373817444, 0.6011008024215698, -0.6555571556091309, 0.35716500878334045, -0.26932790875434875, 0.3020923137664795, -0.341150164604187, 0.3203086256980896, 0.025645248591899872, -0.9946168065071106, -0.2665376365184784, -0.4816257655620575, -0.19111214578151703, 0.19503925740718842, 0.4469608962535858, 0.25529947876930237, -0.2811581492424011, -0.10887296497821808, 0.29185813665390015, 0.6252825260162354, -0.22919444739818573, -0.740713357925415, -0.38876309990882874, 0.9647212624549866, -0.2606695592403412, 0.3214423656463623, 0.648064374923706, 0.751158595085144, 0.13705788552761078, -0.30621084570884705, 0.4709453284740448, -0.43827521800994873, -0.15943412482738495, -0.264386385679245, 0.7972539663314819, -0.45961734652519226, 0.28708454966545105, -0.0005700494511984289, -0.028751086443662643, 0.7305091619491577, 0.21320092678070068, 0.06758836656808853, -0.7721928358078003, 0.06379025429487228, -0.6038737297058105, 0.6068251132965088, -0.311472088098526, -0.717613697052002, -0.17716148495674133, -0.0631917268037796, -0.7898507118225098, 0.4623974561691284, -0.12393416464328766, 0.6366926431655884, -0.35032349824905396, 0.8279110193252563, 0.5856568813323975, -0.3598295748233795, 0.25469499826431274, -0.46433722972869873, 0.36968547105789185, -0.8628279566764832, 0.235032320022583, -0.35846027731895447, 0.122709259390831, -0.7266997694969177, -0.22490696609020233, 0.30860790610313416, 0.9904444217681885, 0.7783647775650024, -0.31149545311927795, -0.8564535975456238, -0.2143099308013916, 0.9332407116889954, -0.7608770132064819, 0.6089262366294861, -0.5455523133277893, 0.9432581663131714, -0.37571197748184204, -0.17383341491222382, 0.23988188803195953, -0.7047090530395508, -0.8397902846336365, -0.23680523037910461, -0.8812573552131653, -0.0609273724257946, 0.12522552907466888, -0.9247760772705078, -0.9494718313217163, 0.18788568675518036, -0.24745428562164307, -0.6382742524147034, -0.4955509603023529, 0.184180349111557, 0.20007726550102234, -0.04058833792805672, 0.9406041502952576, 0.6068588495254517, -0.1391158550977707, -0.28057315945625305, 0.17665642499923706, 0.23810268938541412, 0.8224736452102661, 0.0866759642958641, 0.15440036356449127, -0.10390318930149078, 0.10332382470369339, -0.7503008246421814, -0.29127469658851624, -0.023552214726805687, -0.2586233615875244, 0.0013553788885474205, -0.023025773465633392, -0.20645979046821594, 0.9138460755348206, -0.1431172639131546, -0.8899720907211304, -0.07286231964826584, -0.24929815530776978, 0.7145986557006836, -0.10207591205835342, -0.5480152368545532, 0.09197396039962769, 0.6023100018501282, -0.16556468605995178, -0.10921506583690643, -0.0878196433186531, -0.31589365005493164, -0.06314114481210709, -0.08253517001867294, -0.9752199649810791, -0.3529820144176483, 0.2841642200946808, 0.10668893903493881, 0.009192299097776413, 0.5448348522186279, -0.1446080207824707, -0.019621314480900764, -0.152799591422081, -0.24367886781692505, 0.19838325679302216, 0.2329230010509491, -0.7265922427177429, 0.33553457260131836, -0.4485546052455902, 0.08692823350429535, 0.1385064572095871, 0.14958150684833527, 0.310407817363739, -0.2524433434009552, 0.05096539482474327, -0.07720460742712021, 0.9250534176826477, 0.11054734885692596, -0.36349251866340637, -0.07120555639266968, -0.25787144899368286, 0.2667131721973419, 0.3917801082134247, -0.2746017277240753, -0.4521420896053314, 0.3999256491661072, 0.6918272972106934, 0.18405316770076752, -0.26889243721961975, -0.21318161487579346, 0.9075173139572144, 0.8551710844039917, 0.2636115550994873, 0.23317262530326843, 0.10457267612218857, 0.3676486909389496, 0.20469067990779877, 0.215855211019516, -0.15669357776641846, 0.9353743195533752, -0.1491355299949646, -0.19910795986652374, -0.990241289138794, -0.6431651711463928, 0.3169998824596405, 0.27397531270980835, -0.1765400916337967, 0.10069196671247482, 0.8446898460388184, -0.656501054763794, -0.17488256096839905, 0.230580136179924, 0.1752220094203949, 0.9596371650695801, 0.09893103688955307, -0.2419128268957138, -0.1198030412197113, -0.4079919457435608, -0.06684621423482895, -0.41212737560272217, -0.31272977590560913, 0.18910327553749084, 0.14460131525993347, -0.401352196931839, -0.1397215873003006, 0.4345962405204773, -0.06777998059988022, -0.3180244266986847, -0.011794389225542545, 0.3592880070209503, -0.2758195102214813, -0.2682141065597534, 0.30100905895233154, 0.7938246726989746, -0.9796857237815857, 0.9840613603591919, 0.8263260126113892, 0.42377835512161255, -0.42238649725914, 0.08459047228097916, -0.34318894147872925, -0.4721803665161133, -0.13495352864265442, -0.15834246575832367, -0.9110040068626404, 0.8004383444786072, -0.28989461064338684, 0.02482520416378975, -0.7554535269737244, 0.33175480365753174, -0.9062589406967163, -0.2059350311756134, -0.5299839377403259, -0.03572607412934303, 0.10442151129245758, 0.957835853099823, 0.5101755261421204, -0.1558152735233307, -0.21940264105796814, -0.9425880908966064, -0.09125848859548569, -0.19386610388755798, -0.23826976120471954, 0.04453764483332634, 0.3503277599811554, 0.7232287526130676, -0.21503928303718567, -0.9519261717796326, -0.10812979191541672, -0.2381315380334854, 0.2561313509941101, 0.8274956345558167, 0.9214010834693909, -0.2392350435256958, -0.4389377236366272, 0.282745361328125, 0.9854123592376709, -0.25070345401763916, 0.32319992780685425, 0.14304757118225098, 0.23426899313926697, -0.20682232081890106, -0.3471435010433197, -0.24626579880714417, 0.07367870956659317, 0.16190221905708313, 0.2791450619697571, -0.18360787630081177, -0.2889055907726288, -0.11546061187982559, 0.8584703207015991, 0.027152014896273613, -0.7404372692108154, 0.0806165486574173, -0.19486694037914276, -0.20773197710514069, -0.686642587184906, 0.2594379484653473, -0.5447078347206116, 0.30914580821990967, 0.6601818799972534, 0.14708751440048218, -0.586185097694397, -0.9876879453659058, 0.9356503486633301, -0.2718201279640198, -0.11798287183046341, -0.005262598395347595, -0.9761418700218201, -0.33947521448135376, 0.8961747288703918, -0.05248560011386871, -0.9817458987236023, 0.17696832120418549, 0.9727338552474976, 0.32083645462989807, 0.060230303555727005, -0.009394577704370022, 0.2640515863895416, 0.7174742221832275, -0.0380515530705452, -0.2170863151550293, -0.2677534818649292, -0.4490433931350708, 0.9875763654708862, 0.7333818674087524, -0.15429487824440002, -0.03534553200006485, 0.042278144508600235, 0.9999638795852661, 0.8357193470001221, -0.19899658858776093, -0.8783466219902039, -0.14388282597064972, -0.12507100403308868, 0.032098378986120224, -0.23183266818523407, -0.18074804544448853, 0.42811399698257446, 0.19229675829410553, 0.6214284896850586, -0.4560990631580353, 0.3812543451786041, -0.47780176997184753, 0.4724397361278534, 0.1551503837108612, 0.4486134350299835, -0.2641277313232422, -0.9898103475570679, 0.3669637441635132, -0.05388839915394783, 0.3611390292644501, -0.36818957328796387, 0.48325228691101074, -0.2967679500579834, -0.8067864179611206, -0.5151320695877075, -0.2190333604812622, -0.07722532749176025, 0.14827565848827362, 0.0355181060731411, 0.6911278963088989, -0.049644194543361664, 0.39801234006881714, 0.6874108910560608, 0.33403217792510986, 0.9926490783691406, 0.3778029978275299, -0.7331191897392273, 0.90121990442276, -0.46456292271614075, 0.3315148651599884, -0.05493001267313957, -0.9514383673667908, -0.06298380345106125, 0.7089509963989258, 0.37610340118408203, -0.347766250371933, 0.18029415607452393, 0.8403492569923401, 0.2990306317806244, -0.22020377218723297, 0.9081589579582214, 0.9941360354423523, 0.9976860284805298, -0.8879776000976562, 0.21709322929382324, 0.4805585741996765, -0.37593206763267517, -0.5704394578933716, 0.667698085308075, 0.29217901825904846, 0.3154389560222626, 0.5423131585121155, 0.10345958918333054, -0.15671412646770477, 0.044880371540784836, -0.6176795959472656, -0.18473882973194122, 0.06651119142770767, -0.22705405950546265, -0.014003212563693523, -0.5480347871780396, 0.13093161582946777, -0.2840830683708191, -0.2699347138404846, -0.08387360721826553, 0.6575123071670532, 0.08537614345550537, -0.227585569024086, -0.23440131545066833, 0.8314071893692017, -0.980400562286377, 0.08801590651273727, 0.14328938722610474, -0.23763808608055115, 0.08866648375988007, 0.7527247071266174, -0.10810349136590958, 0.09013743698596954, 0.24460428953170776, -0.10936082899570465, 0.028390103951096535, -0.5092179179191589, -0.010115334764122963, -0.17430710792541504, -0.06775123625993729, -0.4309285581111908, -0.7988638877868652, -0.8981069922447205, 0.010189780034124851, 0.9378653168678284, -0.9978492259979248, -0.21860751509666443, -0.21000808477401733, 0.0761670395731926, 0.12848812341690063, -0.8437819480895996, -0.032112717628479004, 0.24891212582588196, 0.3262907564640045, -0.9942530989646912, 0.24352282285690308, -0.9533550143241882, 0.07999226450920105, -0.3109888434410095, 0.3138829171657562, -0.9848300218582153, 0.21574647724628448, 0.17348185181617737, -0.21700987219810486, -0.07309845834970474, -0.22023741900920868, 0.9074543714523315, 0.9596715569496155, -0.198714017868042, -0.2655256986618042, -0.12722210586071014, -0.024949070066213608, 0.1525953710079193, -0.04296909645199776, -0.9396031498908997, 0.48412126302719116, -0.2855362594127655, 0.08644908666610718, 0.8725709915161133, -0.28982412815093994, 0.1265726536512375, -0.2367444485425949, 0.5418707728385925, -0.4495142996311188, 0.1760508120059967, -0.3435682952404022, 0.8046867251396179, -0.14981891214847565, -0.958044171333313, 0.48894065618515015, 0.8383027911186218, -0.931537389755249, -0.38181883096694946, -0.09875446557998657, -0.15721207857131958, -0.10997232794761658, -0.8049055337905884, 0.1024484783411026, -0.4615941047668457, 0.6592892408370972, -0.24308334290981293, 0.4625125527381897, 0.1941579282283783, 0.13734474778175354, -0.9997702836990356, 0.23411187529563904, 0.2416527420282364, -0.5003385543823242, -0.1773560494184494, 0.605695366859436, -0.06467331945896149, -0.4495562016963959, -0.1367187201976776, -0.01199817843735218, 0.03165431320667267, 0.5620419979095459, 0.9939582347869873, 0.5754627585411072, 0.4190272390842438, -0.1621314287185669, 0.1742054522037506, 0.2511700689792633, -0.41060706973075867, -0.347356379032135, 0.34829485416412354, 0.053259823471307755, 0.2869701683521271, 0.6303263306617737, -0.548254132270813, -0.12068604677915573, 0.18794415891170502, -0.9097833037376404, -0.13669359683990479, -0.6410166621208191, -0.9709452986717224, -0.1378699243068695, 0.010313157923519611, 0.9117821455001831, 0.09933830052614212, -0.8014076948165894, -0.875917911529541, -0.01827785186469555, -0.10364729166030884, -0.1530163288116455, -0.6287515759468079, 0.07367276400327682, 0.1344074010848999, 0.5960626602172852, 0.02562829852104187, 0.8975992202758789, 0.8922275304794312, 0.12053009122610092, -0.4284606873989105, -0.13510358333587646, -0.9700939059257507, 0.2633587419986725, 0.9977406859397888, 0.0952843651175499, 0.6250786781311035, 0.12703190743923187, 0.9906054735183716, -0.1516549289226532, -0.04765835776925087, 0.19469015300273895, 0.8661526441574097, -0.8126497864723206, 0.6796313524246216, 0.3507454991340637, -0.3600098788738251, -0.14064231514930725, 0.08360643684864044, -0.33076873421669006, 0.4121972918510437, -0.3123478889465332, -0.5714501142501831, -0.8933414220809937, 0.07289618998765945, 0.27586039900779724, 0.25006425380706787, 0.13424532115459442, -0.34831058979034424, 0.9612076878547668, -0.6132471561431885], 'cpc_embedding_section': 0.009770292788743973, 'cpc_embedding_class': 0.008165113627910614, 'cpc_embedding_subclass': 0.0012809718027710915}\n"
          ]
        }
      ]
    },
    {
      "cell_type": "code",
      "source": [
        "# Convert NetworkX graph to DGL graph\n",
        "dgl_graph = dgl.from_networkx(G, node_attrs=['cpc_embedding_section', 'cpc_embedding_class', 'abstract_embedding', 'cpc_embedding_subclass', 'title_embedding'], edge_attrs= None, device='cuda')"
      ],
      "metadata": {
        "id": "SC4BCbkKKb3h",
        "colab": {
          "base_uri": "https://localhost:8080/",
          "height": 657
        },
        "outputId": "bccb394b-8101-4ac3-9157-4c5a65aaf550"
      },
      "execution_count": 83,
      "outputs": [
        {
          "output_type": "error",
          "ename": "DGLError",
          "evalue": "ignored",
          "traceback": [
            "\u001b[0;31m---------------------------------------------------------------------------\u001b[0m",
            "\u001b[0;31mDGLError\u001b[0m                                  Traceback (most recent call last)",
            "\u001b[0;32m<ipython-input-83-fb91f4e06982>\u001b[0m in \u001b[0;36m<cell line: 2>\u001b[0;34m()\u001b[0m\n\u001b[1;32m      1\u001b[0m \u001b[0;31m# Convert NetworkX graph to DGL graph\u001b[0m\u001b[0;34m\u001b[0m\u001b[0;34m\u001b[0m\u001b[0m\n\u001b[0;32m----> 2\u001b[0;31m \u001b[0mdgl_graph\u001b[0m \u001b[0;34m=\u001b[0m \u001b[0mdgl\u001b[0m\u001b[0;34m.\u001b[0m\u001b[0mfrom_networkx\u001b[0m\u001b[0;34m(\u001b[0m\u001b[0mG\u001b[0m\u001b[0;34m,\u001b[0m \u001b[0mnode_attrs\u001b[0m\u001b[0;34m=\u001b[0m\u001b[0;34m[\u001b[0m\u001b[0;34m'cpc_embedding_section'\u001b[0m\u001b[0;34m,\u001b[0m \u001b[0;34m'cpc_embedding_class'\u001b[0m\u001b[0;34m,\u001b[0m \u001b[0;34m'abstract_embedding'\u001b[0m\u001b[0;34m,\u001b[0m \u001b[0;34m'cpc_embedding_subclass'\u001b[0m\u001b[0;34m,\u001b[0m \u001b[0;34m'title_embedding'\u001b[0m\u001b[0;34m]\u001b[0m\u001b[0;34m,\u001b[0m \u001b[0medge_attrs\u001b[0m\u001b[0;34m=\u001b[0m \u001b[0;32mNone\u001b[0m\u001b[0;34m,\u001b[0m \u001b[0mdevice\u001b[0m\u001b[0;34m=\u001b[0m\u001b[0;34m'cuda'\u001b[0m\u001b[0;34m)\u001b[0m\u001b[0;34m\u001b[0m\u001b[0;34m\u001b[0m\u001b[0m\n\u001b[0m",
            "\u001b[0;32m/usr/local/lib/python3.10/dist-packages/dgl/convert.py\u001b[0m in \u001b[0;36mfrom_networkx\u001b[0;34m(nx_graph, node_attrs, edge_attrs, edge_id_attr_name, idtype, device)\u001b[0m\n\u001b[1;32m   1414\u001b[0m             \u001b[0mg\u001b[0m\u001b[0;34m.\u001b[0m\u001b[0medata\u001b[0m\u001b[0;34m[\u001b[0m\u001b[0mattr\u001b[0m\u001b[0;34m]\u001b[0m \u001b[0;34m=\u001b[0m \u001b[0mF\u001b[0m\u001b[0;34m.\u001b[0m\u001b[0mcopy_to\u001b[0m\u001b[0;34m(\u001b[0m\u001b[0m_batcher\u001b[0m\u001b[0;34m(\u001b[0m\u001b[0mattr_dict\u001b[0m\u001b[0;34m[\u001b[0m\u001b[0mattr\u001b[0m\u001b[0;34m]\u001b[0m\u001b[0;34m)\u001b[0m\u001b[0;34m,\u001b[0m \u001b[0mg\u001b[0m\u001b[0;34m.\u001b[0m\u001b[0mdevice\u001b[0m\u001b[0;34m)\u001b[0m\u001b[0;34m\u001b[0m\u001b[0;34m\u001b[0m\u001b[0m\n\u001b[1;32m   1415\u001b[0m \u001b[0;34m\u001b[0m\u001b[0m\n\u001b[0;32m-> 1416\u001b[0;31m     \u001b[0;32mreturn\u001b[0m \u001b[0mg\u001b[0m\u001b[0;34m.\u001b[0m\u001b[0mto\u001b[0m\u001b[0;34m(\u001b[0m\u001b[0mdevice\u001b[0m\u001b[0;34m)\u001b[0m\u001b[0;34m\u001b[0m\u001b[0;34m\u001b[0m\u001b[0m\n\u001b[0m\u001b[1;32m   1417\u001b[0m \u001b[0;34m\u001b[0m\u001b[0m\n\u001b[1;32m   1418\u001b[0m \u001b[0;34m\u001b[0m\u001b[0m\n",
            "\u001b[0;32m/usr/local/lib/python3.10/dist-packages/dgl/heterograph.py\u001b[0m in \u001b[0;36mto\u001b[0;34m(self, device, **kwargs)\u001b[0m\n\u001b[1;32m   5707\u001b[0m \u001b[0;34m\u001b[0m\u001b[0m\n\u001b[1;32m   5708\u001b[0m         \u001b[0;31m# 1. Copy graph structure\u001b[0m\u001b[0;34m\u001b[0m\u001b[0;34m\u001b[0m\u001b[0m\n\u001b[0;32m-> 5709\u001b[0;31m         \u001b[0mret\u001b[0m\u001b[0;34m.\u001b[0m\u001b[0m_graph\u001b[0m \u001b[0;34m=\u001b[0m \u001b[0mself\u001b[0m\u001b[0;34m.\u001b[0m\u001b[0m_graph\u001b[0m\u001b[0;34m.\u001b[0m\u001b[0mcopy_to\u001b[0m\u001b[0;34m(\u001b[0m\u001b[0mutils\u001b[0m\u001b[0;34m.\u001b[0m\u001b[0mto_dgl_context\u001b[0m\u001b[0;34m(\u001b[0m\u001b[0mdevice\u001b[0m\u001b[0;34m)\u001b[0m\u001b[0;34m)\u001b[0m\u001b[0;34m\u001b[0m\u001b[0;34m\u001b[0m\u001b[0m\n\u001b[0m\u001b[1;32m   5710\u001b[0m \u001b[0;34m\u001b[0m\u001b[0m\n\u001b[1;32m   5711\u001b[0m         \u001b[0;31m# 2. Copy features\u001b[0m\u001b[0;34m\u001b[0m\u001b[0;34m\u001b[0m\u001b[0m\n",
            "\u001b[0;32m/usr/local/lib/python3.10/dist-packages/dgl/heterograph_index.py\u001b[0m in \u001b[0;36mcopy_to\u001b[0;34m(self, ctx)\u001b[0m\n\u001b[1;32m    253\u001b[0m             \u001b[0mThe\u001b[0m \u001b[0mgraph\u001b[0m \u001b[0mindex\u001b[0m \u001b[0mon\u001b[0m \u001b[0mthe\u001b[0m \u001b[0mgiven\u001b[0m \u001b[0mdevice\u001b[0m \u001b[0mcontext\u001b[0m\u001b[0;34m.\u001b[0m\u001b[0;34m\u001b[0m\u001b[0;34m\u001b[0m\u001b[0m\n\u001b[1;32m    254\u001b[0m         \"\"\"\n\u001b[0;32m--> 255\u001b[0;31m         \u001b[0;32mreturn\u001b[0m \u001b[0m_CAPI_DGLHeteroCopyTo\u001b[0m\u001b[0;34m(\u001b[0m\u001b[0mself\u001b[0m\u001b[0;34m,\u001b[0m \u001b[0mctx\u001b[0m\u001b[0;34m.\u001b[0m\u001b[0mdevice_type\u001b[0m\u001b[0;34m,\u001b[0m \u001b[0mctx\u001b[0m\u001b[0;34m.\u001b[0m\u001b[0mdevice_id\u001b[0m\u001b[0;34m)\u001b[0m\u001b[0;34m\u001b[0m\u001b[0;34m\u001b[0m\u001b[0m\n\u001b[0m\u001b[1;32m    256\u001b[0m \u001b[0;34m\u001b[0m\u001b[0m\n\u001b[1;32m    257\u001b[0m     \u001b[0;32mdef\u001b[0m \u001b[0mpin_memory\u001b[0m\u001b[0;34m(\u001b[0m\u001b[0mself\u001b[0m\u001b[0;34m)\u001b[0m\u001b[0;34m:\u001b[0m\u001b[0;34m\u001b[0m\u001b[0;34m\u001b[0m\u001b[0m\n",
            "\u001b[0;32mdgl/_ffi/_cython/./function.pxi\u001b[0m in \u001b[0;36mdgl._ffi._cy3.core.FunctionBase.__call__\u001b[0;34m()\u001b[0m\n",
            "\u001b[0;32mdgl/_ffi/_cython/./function.pxi\u001b[0m in \u001b[0;36mdgl._ffi._cy3.core.FuncCall\u001b[0;34m()\u001b[0m\n",
            "\u001b[0;32mdgl/_ffi/_cython/./function.pxi\u001b[0m in \u001b[0;36mdgl._ffi._cy3.core.FuncCall3\u001b[0;34m()\u001b[0m\n",
            "\u001b[0;31mDGLError\u001b[0m: [06:00:48] /opt/dgl/src/runtime/c_runtime_api.cc:82: Check failed: allow_missing: Device API cuda is not enabled. Please install the cuda version of dgl.\nStack trace:\n  [bt] (0) /usr/local/lib/python3.10/dist-packages/dgl/libdgl.so(dmlc::LogMessageFatal::~LogMessageFatal()+0x75) [0x7fe12619ce55]\n  [bt] (1) /usr/local/lib/python3.10/dist-packages/dgl/libdgl.so(dgl::runtime::DeviceAPIManager::GetAPI(std::string, bool)+0x1f2) [0x7fe12651c5f2]\n  [bt] (2) /usr/local/lib/python3.10/dist-packages/dgl/libdgl.so(dgl::runtime::DeviceAPI::Get(DGLContext, bool)+0x1e1) [0x7fe126516ba1]\n  [bt] (3) /usr/local/lib/python3.10/dist-packages/dgl/libdgl.so(dgl::runtime::NDArray::Empty(std::vector<long, std::allocator<long> >, DGLDataType, DGLContext)+0x13b) [0x7fe126539acb]\n  [bt] (4) /usr/local/lib/python3.10/dist-packages/dgl/libdgl.so(dgl::runtime::NDArray::CopyTo(DGLContext const&) const+0xc3) [0x7fe126573e23]\n  [bt] (5) /usr/local/lib/python3.10/dist-packages/dgl/libdgl.so(dgl::UnitGraph::CopyTo(std::shared_ptr<dgl::BaseHeteroGraph>, DGLContext const&)+0x3ef) [0x7fe12668179f]\n  [bt] (6) /usr/local/lib/python3.10/dist-packages/dgl/libdgl.so(dgl::HeteroGraph::CopyTo(std::shared_ptr<dgl::BaseHeteroGraph>, DGLContext const&)+0xf6) [0x7fe126585286]\n  [bt] (7) /usr/local/lib/python3.10/dist-packages/dgl/libdgl.so(+0x52cbb6) [0x7fe126594bb6]\n  [bt] (8) /usr/local/lib/python3.10/dist-packages/dgl/libdgl.so(DGLFuncCall+0x48) [0x7fe12651bbb8]\n\n"
          ]
        }
      ]
    },
    {
      "cell_type": "code",
      "source": [
        "# # Get a list of attribute names from the NetworkX graph\n",
        "# attribute_names = []\n",
        "# for node in G.nodes:\n",
        "#     attribute_names.extend(list(G.nodes[node].keys()))\n",
        "# attribute_names = list(set(attribute_names))\n",
        "\n",
        "# # Transfer node attributes from NetworkX graph to DGL graph\n",
        "# for attr_name in attribute_names:\n",
        "#     attr_values = [G.nodes[node][attr_name] for node in G.nodes]\n",
        "#     dgl_graph.ndata[attr_name] = torch.tensor(attr_values)\n"
      ],
      "metadata": {
        "colab": {
          "base_uri": "https://localhost:8080/"
        },
        "id": "UPB9aQ6objjw",
        "outputId": "44dcac03-7a69-4d0f-d668-59298846096f"
      },
      "execution_count": 54,
      "outputs": [
        {
          "output_type": "stream",
          "name": "stderr",
          "text": [
            "<ipython-input-54-8ccdf544c5fb>:10: UserWarning: Creating a tensor from a list of numpy.ndarrays is extremely slow. Please consider converting the list to a single numpy.ndarray with numpy.array() before converting to a tensor. (Triggered internally at ../torch/csrc/utils/tensor_new.cpp:245.)\n",
            "  dgl_graph.ndata[attr_name] = torch.tensor(attr_values)\n"
          ]
        }
      ]
    },
    {
      "cell_type": "code",
      "source": [
        "# print(attribute_names)"
      ],
      "metadata": {
        "colab": {
          "base_uri": "https://localhost:8080/"
        },
        "id": "_GREx_DrcOOv",
        "outputId": "8f2fe01e-a6ae-4c2d-bf8a-8a6c9f569842"
      },
      "execution_count": 55,
      "outputs": [
        {
          "output_type": "stream",
          "name": "stdout",
          "text": [
            "['cpc_embedding_section', 'cpc_embedding_class', 'abstract_embedding', 'cpc_embedding_subclass', 'title_embedding']\n"
          ]
        }
      ]
    },
    {
      "cell_type": "code",
      "source": [
        "num_nodes = dgl_graph.num_nodes()\n",
        "print(\"Number of nodes:\", num_nodes)"
      ],
      "metadata": {
        "colab": {
          "base_uri": "https://localhost:8080/"
        },
        "id": "xM9nQmwmZ4XO",
        "outputId": "56259b1c-f2d7-4fd6-ef2a-c28925a7f288"
      },
      "execution_count": 78,
      "outputs": [
        {
          "output_type": "stream",
          "name": "stdout",
          "text": [
            "Number of nodes: 6459\n"
          ]
        }
      ]
    },
    {
      "cell_type": "code",
      "source": [
        "num_nodes = len(G.nodes)\n",
        "print(\"Number of nodes:\", num_nodes)"
      ],
      "metadata": {
        "colab": {
          "base_uri": "https://localhost:8080/"
        },
        "id": "EogPXgkjZ43B",
        "outputId": "6849c6c6-c0c0-4ef7-9079-143c07ed36e2"
      },
      "execution_count": 79,
      "outputs": [
        {
          "output_type": "stream",
          "name": "stdout",
          "text": [
            "Number of nodes: 6459\n"
          ]
        }
      ]
    },
    {
      "cell_type": "code",
      "source": [
        "num_edges_networkx = G.number_of_edges()\n",
        "print(\"Number of edges in NetworkX graph:\", num_edges_networkx)"
      ],
      "metadata": {
        "colab": {
          "base_uri": "https://localhost:8080/"
        },
        "id": "goQQefBVdPyM",
        "outputId": "b27f01a6-1333-49ed-9a5b-980f5808a3f2"
      },
      "execution_count": 80,
      "outputs": [
        {
          "output_type": "stream",
          "name": "stdout",
          "text": [
            "Number of edges in NetworkX graph: 4932\n"
          ]
        }
      ]
    },
    {
      "cell_type": "code",
      "source": [
        "num_edges_dgl = dgl_graph.number_of_edges()\n",
        "print(\"Number of edges in DGL graph:\", num_edges_dgl)"
      ],
      "metadata": {
        "colab": {
          "base_uri": "https://localhost:8080/"
        },
        "id": "7n2zozI5dSZp",
        "outputId": "f5e98611-1f39-4292-ff3c-de6b73fa8c97"
      },
      "execution_count": 81,
      "outputs": [
        {
          "output_type": "stream",
          "name": "stdout",
          "text": [
            "Number of edges in DGL graph: 9864\n"
          ]
        }
      ]
    },
    {
      "cell_type": "code",
      "source": [
        "# Access the node attributes in the DGL graph\n",
        "node_attributes = dgl_graph.ndata\n",
        "print(node_attributes)\n"
      ],
      "metadata": {
        "colab": {
          "base_uri": "https://localhost:8080/"
        },
        "id": "dgG171d7cpwT",
        "outputId": "2368902d-6144-41ab-8c28-728a9c524a8b"
      },
      "execution_count": 61,
      "outputs": [
        {
          "output_type": "stream",
          "name": "stdout",
          "text": [
            "{'cpc_embedding_section': tensor([-0.0053, -0.0005,  0.0081,  ..., -0.0005, -0.0043, -0.0005]), 'cpc_embedding_class': tensor([-0.0021,  0.0002, -0.0045,  ...,  0.0002, -0.0093,  0.0002]), 'abstract_embedding': tensor([[ 0.0056, -0.0965, -0.5627,  ..., -0.4930,  0.8543, -0.9500],\n",
            "        [ 0.1037, -0.1161, -0.9476,  ..., -0.5556,  0.9956, -0.9666],\n",
            "        [-0.1731, -0.3296, -0.1335,  ..., -0.3297,  0.8403, -0.2837],\n",
            "        ...,\n",
            "        [ 0.0257, -0.3962, -0.9080,  ..., -0.4149,  0.9888,  0.5013],\n",
            "        [ 0.2807,  0.2665,  0.5572,  ..., -0.4100,  0.8826, -0.9831],\n",
            "        [-0.1060, -0.2139,  0.5024,  ..., -0.4412,  0.9821,  0.7310]]), 'cpc_embedding_subclass': tensor([ 0.0041,  0.0051, -0.0011,  ...,  0.0051, -0.0019,  0.0051]), 'title_embedding': tensor([[-0.0216, -0.0674, -0.3458,  ..., -0.3294, -0.9059, -0.0875],\n",
            "        [ 0.0748,  0.0401,  0.4317,  ..., -0.0502,  0.9913,  0.0979],\n",
            "        [-0.0135,  0.1940,  0.6681,  ..., -0.3304,  0.9898, -0.8934],\n",
            "        ...,\n",
            "        [ 0.2723, -0.1870,  0.2311,  ..., -0.0392,  0.9903,  0.7638],\n",
            "        [-0.3842, -0.0075, -0.5590,  ..., -0.1825,  0.6526,  0.6833],\n",
            "        [-0.0720,  0.1742,  0.8072,  ..., -0.3850,  0.9753, -0.3486]])}\n"
          ]
        }
      ]
    },
    {
      "cell_type": "code",
      "source": [],
      "metadata": {
        "id": "hdduEOLhWIAm"
      },
      "execution_count": 32,
      "outputs": []
    },
    {
      "cell_type": "code",
      "source": [
        "# Step 1: Randomly select a subset of nodes for labeling\n",
        "num_labeled_nodes = 100  # Number of nodes to be labeled\n",
        "labeled_nodes = np.random.choice(dgl_graph.num_nodes(), size=num_labeled_nodes, replace=False)\n",
        "\n",
        "# Step 2: Define the number of classes\n",
        "num_classes = 10  # Replace with the actual number of classes\n",
        "\n",
        "# Step 3: Generate random labels for the labeled nodes\n",
        "labels = np.random.randint(low=0, high=num_classes, size=num_labeled_nodes)\n",
        "\n",
        "# Step 4: Split labeled nodes into training and validation sets\n",
        "train_nodes, val_nodes, train_labels, val_labels = train_test_split(labeled_nodes, labels, test_size=0.2, random_state=42)\n",
        "\n",
        "# Step 5: Assign node labels in the DGL graph\n",
        "dgl_graph.ndata['labels'] = torch.zeros(dgl_graph.num_nodes(), dtype=torch.long)  # Initialize labels with zeros\n",
        "dgl_graph.ndata['labels'][train_nodes] = torch.tensor(train_labels, dtype=torch.long)\n",
        "dgl_graph.ndata['labels'][val_nodes] = torch.tensor(val_labels, dtype=torch.long)\n"
      ],
      "metadata": {
        "id": "VY3AsIv_KYfV"
      },
      "execution_count": 62,
      "outputs": []
    },
    {
      "cell_type": "code",
      "source": [
        "# Accessing node properties\n",
        "print(dgl_graph.ndata['title_embedding'][1])\n"
      ],
      "metadata": {
        "colab": {
          "base_uri": "https://localhost:8080/"
        },
        "id": "qLaTscaHbE-D",
        "outputId": "ccb4b09e-cf9c-4e1c-be54-d9275414cc65"
      },
      "execution_count": 64,
      "outputs": [
        {
          "output_type": "stream",
          "name": "stdout",
          "text": [
            "tensor([ 7.4784e-02,  4.0131e-02,  4.3165e-01,  9.9628e-01,  2.9517e-01,\n",
            "         9.9816e-01,  1.6048e-01, -9.9654e-01,  2.7007e-01, -3.4464e-01,\n",
            "        -1.0792e-02,  4.6950e-01, -2.3674e-01,  7.1440e-01, -4.0233e-01,\n",
            "         2.6059e-01, -9.5225e-02, -6.0671e-01,  7.5124e-02, -9.7876e-01,\n",
            "         1.0006e-02,  4.8181e-02, -9.1596e-01,  9.4549e-02,  7.4210e-01,\n",
            "        -4.0864e-01, -9.9208e-01,  1.5792e-01,  3.7125e-02,  1.2753e-01,\n",
            "         5.2912e-01, -9.8088e-01,  3.2101e-01, -5.8896e-01, -5.8496e-01,\n",
            "        -4.3342e-02,  9.9854e-01, -9.3180e-02,  2.2086e-01,  4.3807e-01,\n",
            "        -4.4054e-01,  2.7001e-01,  8.5079e-01, -4.5571e-01,  2.6710e-01,\n",
            "        -1.0918e-01, -3.5952e-01,  1.2994e-01, -9.8074e-01,  9.7509e-01,\n",
            "         2.4020e-01, -3.3806e-01, -4.6676e-02,  7.4940e-01,  9.9945e-01,\n",
            "        -3.1942e-02, -4.5082e-01,  2.0103e-01, -9.9130e-01,  3.8543e-01,\n",
            "        -2.0011e-02, -9.9519e-01,  4.3981e-01, -3.2887e-01,  1.1757e-01,\n",
            "        -1.8621e-01, -4.0621e-01, -2.9184e-01,  9.0177e-01,  5.9279e-02,\n",
            "         9.9593e-01,  1.1439e-01, -1.6118e-01,  5.0981e-01,  9.6843e-01,\n",
            "        -2.7619e-02, -2.3255e-01, -3.1728e-01,  5.0192e-01, -8.5717e-02,\n",
            "         3.1812e-01,  2.4953e-01, -6.8937e-02, -9.8500e-01, -3.6308e-01,\n",
            "        -5.0987e-01, -2.1503e-02,  5.8053e-01,  9.7674e-01, -6.7426e-01,\n",
            "        -7.2891e-01, -2.3201e-01, -1.7648e-01, -5.7884e-02, -5.3612e-01,\n",
            "         1.9189e-01, -1.4317e-01,  5.7960e-01,  2.1410e-01, -5.1298e-01,\n",
            "         5.7537e-03, -2.0682e-03,  1.9049e-01, -5.1828e-01, -1.6218e-01,\n",
            "         2.8461e-02, -1.9171e-02, -3.4462e-01, -3.2479e-02,  8.2858e-01,\n",
            "        -1.1448e-01,  1.6380e-01,  2.1654e-01, -1.8901e-01, -1.4790e-02,\n",
            "         5.4782e-01,  8.0463e-01,  4.6081e-01, -1.3889e-01,  2.1721e-01,\n",
            "         3.8798e-01,  7.5801e-01,  8.5742e-01, -5.7970e-01, -1.6295e-01,\n",
            "        -2.3262e-01, -3.4486e-01,  2.4554e-01,  9.3939e-02,  1.9320e-01,\n",
            "        -4.6675e-01,  2.2781e-01, -6.9400e-01, -4.4898e-01,  1.5851e-02,\n",
            "         2.8249e-01,  4.3277e-01, -1.5994e-01,  8.8593e-01, -2.2050e-01,\n",
            "        -2.0927e-01, -3.7586e-01,  3.5259e-01,  1.4127e-01, -2.3364e-01,\n",
            "        -8.8709e-01,  9.5292e-01,  2.3647e-01,  2.8523e-01,  5.6596e-01,\n",
            "        -1.2400e-01, -4.3836e-02, -5.0305e-01,  9.9908e-01, -1.3049e-01,\n",
            "         9.3082e-02,  5.6735e-01,  3.2854e-01,  5.2444e-01,  1.3993e-01,\n",
            "        -3.1022e-03,  4.5415e-02, -1.3118e-01,  1.2545e-01,  3.1573e-01,\n",
            "         9.1638e-01,  1.1978e-01,  8.7534e-01,  3.6892e-01,  2.8000e-01,\n",
            "        -2.7290e-01,  8.8289e-01,  1.6484e-01, -3.7086e-01,  7.2091e-01,\n",
            "         4.0408e-01,  2.4486e-02, -2.9007e-01, -9.9381e-01,  9.8173e-01,\n",
            "         1.7369e-01,  9.6046e-01,  1.7201e-03,  3.6006e-01, -1.1593e-01,\n",
            "        -8.9184e-01, -1.6372e-01,  3.3177e-01, -5.3438e-02,  3.4317e-01,\n",
            "         1.0771e-01,  5.1854e-01, -4.9285e-01,  6.2383e-02, -9.9966e-01,\n",
            "         4.0458e-01,  4.6270e-01, -8.2188e-02,  2.0490e-01,  2.5772e-02,\n",
            "         3.5785e-01, -9.9768e-01,  1.7672e-01, -6.5472e-01,  5.4778e-01,\n",
            "         2.8541e-01, -4.5206e-01,  3.2578e-01, -9.9115e-01,  7.3749e-01,\n",
            "         6.2884e-01, -8.5032e-01,  9.6055e-02,  4.6452e-02,  1.9456e-01,\n",
            "         7.8911e-02, -9.4166e-01, -9.7090e-01, -1.7191e-01, -3.1432e-02,\n",
            "         2.8504e-02, -2.2795e-01, -1.0993e-01, -5.6714e-01,  4.8332e-01,\n",
            "         8.9997e-01, -5.2979e-01,  2.9548e-01, -3.3164e-01, -7.8028e-01,\n",
            "         3.8595e-01, -9.9963e-01,  9.1639e-03,  9.7668e-01, -3.3760e-01,\n",
            "         3.5540e-01,  4.4384e-01,  8.6837e-02, -1.9237e-01,  2.1975e-02,\n",
            "         1.6759e-01,  9.7636e-01, -2.4873e-01,  3.4580e-01,  3.3662e-01,\n",
            "         9.8798e-01, -1.5522e-01,  7.0479e-02, -7.9703e-01, -9.4654e-01,\n",
            "         2.1414e-01, -7.0458e-01, -6.6738e-01, -4.8090e-01, -1.6664e-01,\n",
            "        -5.9409e-01,  9.3948e-01, -9.8742e-01,  9.7693e-01, -9.0226e-02,\n",
            "        -4.3290e-01,  5.0723e-01, -7.4655e-01,  2.8660e-01,  7.7263e-02,\n",
            "         2.2235e-01, -9.9169e-01,  6.7159e-01, -3.5459e-01,  5.3785e-01,\n",
            "         7.6205e-02, -7.5097e-01, -9.9620e-01, -8.6313e-01, -7.4364e-02,\n",
            "        -7.2915e-01, -2.8023e-01, -7.1051e-01,  3.1069e-01, -2.7988e-01,\n",
            "         3.6384e-01, -2.8583e-01,  2.9074e-01,  5.0937e-01,  2.8722e-01,\n",
            "         2.7671e-02, -3.9864e-02,  1.3868e-01, -3.6524e-01,  1.2338e-01,\n",
            "         9.9248e-01,  7.6405e-01, -6.4034e-01,  2.6812e-01, -4.4107e-01,\n",
            "         9.2003e-01,  4.9012e-01,  8.9462e-01,  1.8215e-01,  9.1377e-01,\n",
            "        -3.1732e-01, -8.1936e-01,  8.2051e-02,  3.6984e-01, -7.0630e-01,\n",
            "         6.2119e-02,  6.0848e-01, -1.5279e-01, -1.8563e-01, -9.9424e-01,\n",
            "        -9.7763e-01,  3.6688e-01, -2.7202e-01, -1.2609e-01, -2.2691e-01,\n",
            "         9.6111e-01,  1.6711e-01, -2.5856e-01,  9.8273e-01,  5.9635e-01,\n",
            "        -6.9492e-02, -6.4003e-02,  8.1204e-02,  2.7477e-01,  9.1957e-01,\n",
            "         4.8032e-01,  2.4127e-02,  5.8016e-02, -9.8982e-01,  4.3421e-01,\n",
            "        -1.4802e-02, -3.7220e-01,  4.0008e-01,  9.0719e-02, -3.8444e-01,\n",
            "        -6.4080e-01,  9.9001e-01, -2.0163e-01, -9.5729e-01, -2.7019e-03,\n",
            "        -1.8092e-01, -5.5615e-01,  1.7792e-01, -5.5126e-01, -5.8144e-02,\n",
            "        -5.4029e-02, -4.5570e-01, -2.7458e-01, -2.1368e-01, -1.1803e-01,\n",
            "        -4.2087e-01, -1.7644e-01, -9.9318e-01, -1.9033e-01,  1.0558e-01,\n",
            "         9.6808e-02,  1.8354e-02,  8.3943e-01, -1.5497e-01, -2.6740e-01,\n",
            "        -3.5966e-01, -1.2803e-01,  2.5319e-01, -4.3489e-01,  2.2899e-01,\n",
            "         1.1151e-01,  6.0955e-01, -1.1143e-01,  4.5607e-01,  2.2453e-01,\n",
            "         3.1903e-01, -3.8283e-01, -1.5178e-02,  1.6440e-01,  5.2300e-01,\n",
            "         9.6578e-01, -2.3717e-01,  6.3870e-01, -4.4804e-01, -2.5360e-02,\n",
            "         1.1244e-01,  1.7222e-01, -2.8203e-01, -2.9674e-01,  1.9010e-01,\n",
            "        -1.1064e-01,  7.2676e-03, -2.4503e-01,  9.5635e-01,  9.5989e-01,\n",
            "         2.9426e-01, -2.2475e-02,  2.4592e-02,  9.6623e-01,  3.9481e-01,\n",
            "         8.5175e-02,  1.8920e-01,  9.9564e-01, -5.6538e-02, -1.1798e-01,\n",
            "        -9.9082e-01, -1.6972e-01, -2.0331e-01,  2.7427e-01, -5.5460e-02,\n",
            "        -4.6365e-02,  5.2610e-01, -4.3081e-01, -1.4262e-01,  9.8320e-02,\n",
            "         2.7989e-01,  4.3273e-01,  5.5590e-01, -2.5123e-01,  5.6393e-01,\n",
            "         1.9112e-01, -3.3150e-01, -1.7189e-01, -3.8012e-01,  8.9769e-02,\n",
            "         4.8930e-01, -2.5896e-01, -1.8694e-01,  9.7663e-01, -6.4991e-01,\n",
            "        -4.4718e-01, -1.8633e-01,  4.5880e-01, -1.5429e-02,  2.0563e-01,\n",
            "         5.5476e-01,  7.3223e-01, -5.4808e-01,  9.9969e-01, -5.7329e-01,\n",
            "         4.5060e-01,  2.7973e-01,  1.0568e-01,  1.4233e-01, -9.1301e-01,\n",
            "        -1.8404e-01, -2.5697e-01, -4.0595e-01, -2.7083e-01,  2.6716e-01,\n",
            "         2.3272e-02,  5.8965e-01,  2.6114e-01, -9.9427e-01, -3.0897e-01,\n",
            "        -6.5648e-01,  8.1813e-02,  1.7343e-01,  7.5433e-01,  6.6534e-01,\n",
            "        -4.4769e-02, -1.0691e-01, -9.9729e-01,  9.7019e-02,  1.2693e-01,\n",
            "        -2.0134e-02, -3.5067e-01,  1.4358e-01,  9.2152e-01, -7.7882e-02,\n",
            "        -9.3488e-01,  2.3789e-01, -3.8099e-01, -1.5518e-02, -4.3654e-01,\n",
            "         9.7478e-01, -4.6779e-01, -9.3449e-01, -5.2831e-02,  9.9268e-01,\n",
            "        -3.9360e-01,  7.3285e-02, -2.8659e-01,  1.5688e-02, -1.5917e-01,\n",
            "        -2.0354e-01, -3.0286e-01, -3.9924e-02, -5.0421e-02, -5.2386e-03,\n",
            "        -5.3235e-01, -7.5658e-02, -9.6748e-01,  2.3230e-01, -2.8956e-01,\n",
            "        -9.7996e-01,  8.2436e-02, -1.8196e-01, -5.4021e-01, -1.9044e-01,\n",
            "         4.3328e-01,  3.4377e-01,  4.0878e-02, -2.3980e-02,  2.7288e-01,\n",
            "        -9.6498e-01, -9.9832e-01,  9.6355e-01,  1.3032e-01, -2.5184e-01,\n",
            "        -9.7178e-01, -9.4736e-01, -3.7406e-01,  9.8546e-01, -3.5526e-01,\n",
            "        -9.8336e-01, -2.1947e-01,  8.4623e-01,  4.3308e-03,  3.9649e-01,\n",
            "        -2.7104e-01,  1.6828e-01, -4.5033e-01,  4.2109e-01, -4.5951e-02,\n",
            "        -4.8855e-01, -9.3391e-02,  9.3413e-01, -1.1549e-01, -6.5158e-01,\n",
            "        -5.1062e-02, -1.5521e-01,  9.9999e-01,  7.5314e-02, -5.5134e-01,\n",
            "        -9.9493e-01,  1.1385e-01,  1.0771e-01,  1.0197e-01, -5.1864e-01,\n",
            "         5.5295e-01,  3.5168e-01, -1.6936e-01, -9.4628e-01, -1.9200e-01,\n",
            "         2.4511e-01,  9.8045e-01,  5.9560e-01, -9.8081e-01,  2.7075e-01,\n",
            "         8.9141e-02, -8.7781e-01,  9.3074e-01,  1.9368e-02,  2.4175e-01,\n",
            "         3.6627e-02,  3.8877e-01, -1.1736e-01, -1.0917e-01,  9.0064e-01,\n",
            "        -1.8875e-01,  3.9606e-02,  2.6326e-01, -2.2978e-01,  9.9908e-01,\n",
            "        -2.9834e-01,  2.5291e-01, -5.7995e-01,  6.0497e-01,  8.7812e-01,\n",
            "         1.8320e-01,  5.6321e-03,  9.0065e-01, -1.9817e-01,  1.1311e-01,\n",
            "        -4.3970e-01, -9.5255e-01,  1.6141e-01, -6.1457e-01, -2.7508e-02,\n",
            "         8.2264e-02,  1.1418e-01, -7.8920e-01,  2.7101e-01, -5.4568e-02,\n",
            "         4.8862e-01,  9.9978e-01,  9.9979e-01,  3.4088e-02, -4.3187e-02,\n",
            "         1.9328e-01, -2.3721e-01, -2.2388e-01, -5.4029e-01,  2.9138e-01,\n",
            "        -1.7089e-02,  8.1560e-01, -4.8280e-01, -1.4458e-02, -4.4863e-02,\n",
            "        -9.8815e-01, -3.6804e-01,  3.9039e-01, -2.9012e-01,  2.7690e-01,\n",
            "        -2.7089e-01,  2.0625e-01,  9.8567e-01, -4.7532e-01, -3.5065e-02,\n",
            "        -3.2468e-01,  2.2101e-01, -2.2074e-01,  1.9934e-01, -5.6484e-01,\n",
            "        -9.2295e-01,  1.0584e-01,  1.5125e-01, -5.4977e-01,  2.1458e-01,\n",
            "         9.7695e-01,  1.7490e-01, -3.0989e-01,  8.8797e-01, -3.8001e-01,\n",
            "         3.3965e-01, -5.5979e-01,  5.0591e-02, -2.1581e-01, -1.8327e-01,\n",
            "        -4.5802e-01,  9.7120e-01, -8.9603e-01,  1.3731e-01,  7.4612e-01,\n",
            "        -9.9964e-01, -3.6589e-01, -1.3635e-01,  7.8581e-02,  2.8569e-01,\n",
            "        -9.3054e-01,  8.6140e-01,  2.9223e-02, -5.8717e-02, -9.9709e-01,\n",
            "         9.9455e-01, -9.9953e-01,  3.9847e-01, -3.1397e-02,  3.8632e-01,\n",
            "        -9.9169e-01,  1.5797e-01,  8.1224e-02, -4.1650e-01,  1.5386e-02,\n",
            "        -2.9681e-02,  9.9616e-01,  9.9663e-01, -4.3874e-01, -2.6133e-01,\n",
            "        -4.1092e-01, -2.7680e-02,  9.8425e-02,  3.6506e-01, -7.9161e-01,\n",
            "        -8.3969e-01,  5.2546e-01,  3.4164e-02,  5.7912e-01,  4.3895e-02,\n",
            "         7.4273e-01, -3.7426e-01,  9.5433e-01, -2.6444e-01, -4.8201e-02,\n",
            "        -5.4288e-01,  8.1023e-01, -3.3692e-01, -9.2379e-01,  2.2229e-01,\n",
            "         9.1671e-01, -7.0672e-01, -1.8669e-01, -5.0811e-01,  1.8005e-01,\n",
            "         4.5062e-01, -9.8808e-01,  2.5932e-01,  9.8648e-02, -3.9367e-01,\n",
            "         3.6022e-01, -8.0244e-01,  1.5214e-01,  5.5444e-01, -9.9889e-01,\n",
            "         3.5371e-01,  5.6634e-02, -4.4984e-02, -2.9828e-01,  9.3511e-01,\n",
            "         2.2898e-01, -3.5349e-01, -2.9338e-03, -9.9855e-01,  5.9931e-02,\n",
            "         3.9167e-01,  9.7317e-01,  8.4174e-01, -7.7278e-01, -1.1389e-01,\n",
            "         9.3078e-02,  5.6717e-02, -9.3015e-01,  2.8609e-02,  1.5416e-01,\n",
            "        -3.8668e-01,  7.0295e-02,  7.0726e-01, -1.9509e-01, -4.1003e-01,\n",
            "         1.6965e-01, -9.9128e-01, -7.2315e-02, -9.9160e-01, -9.9622e-01,\n",
            "        -4.2076e-01,  1.1162e-01,  9.9851e-01,  5.0072e-01,  3.6727e-01,\n",
            "        -9.9405e-01,  8.1785e-02,  1.8725e-01, -1.0801e-01, -2.2627e-01,\n",
            "        -3.5122e-01,  1.7795e-01,  1.4041e-02, -9.4801e-02,  4.5121e-01,\n",
            "         6.4161e-01,  7.8243e-02, -3.7758e-01,  6.4448e-02, -9.9422e-01,\n",
            "        -1.4563e-01,  9.9887e-01, -6.6329e-02,  1.3026e-01, -6.7337e-02,\n",
            "         9.7409e-01,  8.0713e-02,  2.6399e-01,  4.9746e-02, -6.0435e-01,\n",
            "        -9.9695e-01,  9.8478e-01,  3.2420e-02,  4.4741e-01,  1.9307e-01,\n",
            "         4.0669e-01, -3.8137e-04,  9.4356e-01, -4.6124e-01, -5.3539e-01,\n",
            "        -9.9033e-01,  4.4954e-01,  4.2259e-01, -4.8909e-01, -5.9576e-02,\n",
            "        -5.0248e-02,  9.9128e-01,  9.7878e-02])\n"
          ]
        }
      ]
    },
    {
      "cell_type": "code",
      "source": [
        "print(df['title_embedding'].dtype)"
      ],
      "metadata": {
        "colab": {
          "base_uri": "https://localhost:8080/"
        },
        "id": "mNQcJplLXdQT",
        "outputId": "c3c34b26-f903-4caa-8598-378e6aa5b624"
      },
      "execution_count": 65,
      "outputs": [
        {
          "output_type": "stream",
          "name": "stdout",
          "text": [
            "object\n"
          ]
        }
      ]
    },
    {
      "cell_type": "code",
      "source": [
        "# Get the embeddings as arrays from the DataFrame\n",
        "title_embeddings = df['title_embedding'].values\n",
        "abstract_embeddings = df['abstract_embedding'].values\n",
        "cpc_section_embeddings = df['cpc_embedding_section'].values\n",
        "cpc_class_embeddings = df['cpc_embedding_class'].values\n",
        "cpc_subclass_embeddings = df['cpc_embedding_subclass'].values\n",
        "\n",
        "# Convert the array embeddings to numerical tensors\n",
        "title_embeddings = torch.from_numpy(np.stack(title_embeddings))\n",
        "abstract_embeddings = torch.from_numpy(np.stack(abstract_embeddings))\n",
        "cpc_section_embeddings = torch.from_numpy(np.stack(cpc_section_embeddings))\n",
        "cpc_class_embeddings = torch.from_numpy(np.stack(cpc_class_embeddings))\n",
        "cpc_subclass_embeddings = torch.from_numpy(np.stack(cpc_subclass_embeddings))\n",
        "\n",
        "# Verify the data type and shape of the tensors\n",
        "print(title_embeddings.dtype)\n",
        "print(title_embeddings.shape)\n",
        "# Repeat the same for other embeddings\n",
        "\n",
        "# Assign node features in the DGL graph\n",
        "dgl_graph.ndata['title_embedding'] = title_embeddings\n",
        "dgl_graph.ndata['abstract_embedding'] = abstract_embeddings\n",
        "dgl_graph.ndata['cpc_embedding_section'] = cpc_section_embeddings\n",
        "dgl_graph.ndata['cpc_embedding_class'] = cpc_class_embeddings\n",
        "dgl_graph.ndata['cpc_embedding_subclass'] = cpc_subclass_embeddings\n",
        "\n",
        "\n"
      ],
      "metadata": {
        "colab": {
          "base_uri": "https://localhost:8080/",
          "height": 436
        },
        "id": "uS8EF85MXJLL",
        "outputId": "de0fa913-63f9-4a88-95bc-fb25128e1fce"
      },
      "execution_count": 66,
      "outputs": [
        {
          "output_type": "stream",
          "name": "stdout",
          "text": [
            "torch.float32\n",
            "torch.Size([5000, 768])\n"
          ]
        },
        {
          "output_type": "error",
          "ename": "DGLError",
          "evalue": "ignored",
          "traceback": [
            "\u001b[0;31m---------------------------------------------------------------------------\u001b[0m",
            "\u001b[0;31mDGLError\u001b[0m                                  Traceback (most recent call last)",
            "\u001b[0;32m<ipython-input-66-cd80a35ef308>\u001b[0m in \u001b[0;36m<cell line: 21>\u001b[0;34m()\u001b[0m\n\u001b[1;32m     19\u001b[0m \u001b[0;34m\u001b[0m\u001b[0m\n\u001b[1;32m     20\u001b[0m \u001b[0;31m# Assign node features in the DGL graph\u001b[0m\u001b[0;34m\u001b[0m\u001b[0;34m\u001b[0m\u001b[0m\n\u001b[0;32m---> 21\u001b[0;31m \u001b[0mdgl_graph\u001b[0m\u001b[0;34m.\u001b[0m\u001b[0mndata\u001b[0m\u001b[0;34m[\u001b[0m\u001b[0;34m'title_embedding'\u001b[0m\u001b[0;34m]\u001b[0m \u001b[0;34m=\u001b[0m \u001b[0mtitle_embeddings\u001b[0m\u001b[0;34m\u001b[0m\u001b[0;34m\u001b[0m\u001b[0m\n\u001b[0m\u001b[1;32m     22\u001b[0m \u001b[0mdgl_graph\u001b[0m\u001b[0;34m.\u001b[0m\u001b[0mndata\u001b[0m\u001b[0;34m[\u001b[0m\u001b[0;34m'abstract_embedding'\u001b[0m\u001b[0;34m]\u001b[0m \u001b[0;34m=\u001b[0m \u001b[0mabstract_embeddings\u001b[0m\u001b[0;34m\u001b[0m\u001b[0;34m\u001b[0m\u001b[0m\n\u001b[1;32m     23\u001b[0m \u001b[0mdgl_graph\u001b[0m\u001b[0;34m.\u001b[0m\u001b[0mndata\u001b[0m\u001b[0;34m[\u001b[0m\u001b[0;34m'cpc_embedding_section'\u001b[0m\u001b[0;34m]\u001b[0m \u001b[0;34m=\u001b[0m \u001b[0mcpc_section_embeddings\u001b[0m\u001b[0;34m\u001b[0m\u001b[0;34m\u001b[0m\u001b[0m\n",
            "\u001b[0;32m/usr/local/lib/python3.10/dist-packages/dgl/view.py\u001b[0m in \u001b[0;36m__setitem__\u001b[0;34m(self, key, val)\u001b[0m\n\u001b[1;32m     97\u001b[0m                 \u001b[0;34m\"please pass a tensor directly\"\u001b[0m\u001b[0;34m\u001b[0m\u001b[0;34m\u001b[0m\u001b[0m\n\u001b[1;32m     98\u001b[0m             )\n\u001b[0;32m---> 99\u001b[0;31m             \u001b[0mself\u001b[0m\u001b[0;34m.\u001b[0m\u001b[0m_graph\u001b[0m\u001b[0;34m.\u001b[0m\u001b[0m_set_n_repr\u001b[0m\u001b[0;34m(\u001b[0m\u001b[0mself\u001b[0m\u001b[0;34m.\u001b[0m\u001b[0m_ntid\u001b[0m\u001b[0;34m,\u001b[0m \u001b[0mself\u001b[0m\u001b[0;34m.\u001b[0m\u001b[0m_nodes\u001b[0m\u001b[0;34m,\u001b[0m \u001b[0;34m{\u001b[0m\u001b[0mkey\u001b[0m\u001b[0;34m:\u001b[0m \u001b[0mval\u001b[0m\u001b[0;34m}\u001b[0m\u001b[0;34m)\u001b[0m\u001b[0;34m\u001b[0m\u001b[0;34m\u001b[0m\u001b[0m\n\u001b[0m\u001b[1;32m    100\u001b[0m \u001b[0;34m\u001b[0m\u001b[0m\n\u001b[1;32m    101\u001b[0m     \u001b[0;32mdef\u001b[0m \u001b[0m__delitem__\u001b[0m\u001b[0;34m(\u001b[0m\u001b[0mself\u001b[0m\u001b[0;34m,\u001b[0m \u001b[0mkey\u001b[0m\u001b[0;34m)\u001b[0m\u001b[0;34m:\u001b[0m\u001b[0;34m\u001b[0m\u001b[0;34m\u001b[0m\u001b[0m\n",
            "\u001b[0;32m/usr/local/lib/python3.10/dist-packages/dgl/heterograph.py\u001b[0m in \u001b[0;36m_set_n_repr\u001b[0;34m(self, ntid, u, data)\u001b[0m\n\u001b[1;32m   4340\u001b[0m             \u001b[0mnfeats\u001b[0m \u001b[0;34m=\u001b[0m \u001b[0mF\u001b[0m\u001b[0;34m.\u001b[0m\u001b[0mshape\u001b[0m\u001b[0;34m(\u001b[0m\u001b[0mval\u001b[0m\u001b[0;34m)\u001b[0m\u001b[0;34m[\u001b[0m\u001b[0;36m0\u001b[0m\u001b[0;34m]\u001b[0m\u001b[0;34m\u001b[0m\u001b[0;34m\u001b[0m\u001b[0m\n\u001b[1;32m   4341\u001b[0m             \u001b[0;32mif\u001b[0m \u001b[0mnfeats\u001b[0m \u001b[0;34m!=\u001b[0m \u001b[0mnum_nodes\u001b[0m\u001b[0;34m:\u001b[0m\u001b[0;34m\u001b[0m\u001b[0;34m\u001b[0m\u001b[0m\n\u001b[0;32m-> 4342\u001b[0;31m                 raise DGLError(\n\u001b[0m\u001b[1;32m   4343\u001b[0m                     \u001b[0;34m\"Expect number of features to match number of nodes (len(u)).\"\u001b[0m\u001b[0;34m\u001b[0m\u001b[0;34m\u001b[0m\u001b[0m\n\u001b[1;32m   4344\u001b[0m                     \u001b[0;34m\" Got %d and %d instead.\"\u001b[0m \u001b[0;34m%\u001b[0m \u001b[0;34m(\u001b[0m\u001b[0mnfeats\u001b[0m\u001b[0;34m,\u001b[0m \u001b[0mnum_nodes\u001b[0m\u001b[0;34m)\u001b[0m\u001b[0;34m\u001b[0m\u001b[0;34m\u001b[0m\u001b[0m\n",
            "\u001b[0;31mDGLError\u001b[0m: Expect number of features to match number of nodes (len(u)). Got 5000 and 6459 instead."
          ]
        }
      ]
    },
    {
      "cell_type": "code",
      "source": [
        "dgl_graph.num_nodes()"
      ],
      "metadata": {
        "colab": {
          "base_uri": "https://localhost:8080/"
        },
        "id": "pxjzVYv6XwKY",
        "outputId": "1ab5781b-cb52-4e70-c476-5ee44b9e2ac9"
      },
      "execution_count": 67,
      "outputs": [
        {
          "output_type": "execute_result",
          "data": {
            "text/plain": [
              "6459"
            ]
          },
          "metadata": {},
          "execution_count": 67
        }
      ]
    },
    {
      "cell_type": "code",
      "source": [
        "# Save the graph to a GraphML file\n",
        "#nx.write_graphml(G, \"test.graphml\")"
      ],
      "metadata": {
        "id": "Utr4TuAoIrRb"
      },
      "execution_count": null,
      "outputs": []
    },
    {
      "cell_type": "code",
      "source": [
        "all_have_title = all('title_embedding' in data for node, data in G.nodes(data=True))\n",
        "print(all_have_title)"
      ],
      "metadata": {
        "colab": {
          "base_uri": "https://localhost:8080/"
        },
        "id": "eGxy3rO7mFyn",
        "outputId": "673e5859-368b-4c31-b437-766733053b19"
      },
      "execution_count": null,
      "outputs": [
        {
          "output_type": "stream",
          "name": "stdout",
          "text": [
            "True\n"
          ]
        }
      ]
    },
    {
      "cell_type": "code",
      "source": [
        "count_without_title = sum(1 for node, data in G.nodes(data=True) if 'title_embedding' not in data)\n",
        "print(count_without_title)"
      ],
      "metadata": {
        "colab": {
          "base_uri": "https://localhost:8080/"
        },
        "id": "BZQ3Q7BMmk_M",
        "outputId": "98a55376-69d6-4f99-87c9-bd0273513214"
      },
      "execution_count": null,
      "outputs": [
        {
          "output_type": "stream",
          "name": "stdout",
          "text": [
            "0\n"
          ]
        }
      ]
    },
    {
      "cell_type": "code",
      "source": [
        "# Convert to a DGL graph\n",
        "# D = dgl.from_networkx(G, node_attrs=['title_embedding', 'cpc', 'abstract_embedding'])\n",
        "D = dgl.from_networkx(G, node_attrs=['title_embedding', 'abstract_embedding'])"
      ],
      "metadata": {
        "id": "YjJOMhLtKRai"
      },
      "execution_count": null,
      "outputs": []
    },
    {
      "cell_type": "code",
      "source": [
        "num_edges = G.degree['6329925']\n",
        "num_edges"
      ],
      "metadata": {
        "colab": {
          "base_uri": "https://localhost:8080/"
        },
        "id": "dWx_w28yX5tW",
        "outputId": "b324a94a-1038-46a8-d44c-264ff06b57d9"
      },
      "execution_count": null,
      "outputs": [
        {
          "output_type": "execute_result",
          "data": {
            "text/plain": [
              "99"
            ]
          },
          "metadata": {},
          "execution_count": 16
        }
      ]
    },
    {
      "cell_type": "code",
      "source": [
        "# num_edges_total = G.edges()\n",
        "# num_edges_total\n",
        "# spits out long code"
      ],
      "metadata": {
        "id": "4B3Lj0jEYsKo"
      },
      "execution_count": null,
      "outputs": []
    },
    {
      "cell_type": "code",
      "source": [
        "#take a look at the graph\n",
        "n=5\n",
        "degree_centrality = nx.degree_centrality(G)\n",
        "\n",
        "# Sort the nodes by degree centrality in descending order\n",
        "sorted_nodes = sorted(degree_centrality, key=degree_centrality.get, reverse=True)\n",
        "\n",
        "# Print the top n nodes with highest degree centrality\n",
        "for node in sorted_nodes[:n]:\n",
        "    centrality = degree_centrality[node]\n",
        "    print(f\"Node {node}: Degree Centrality = {centrality}\")\n"
      ],
      "metadata": {
        "colab": {
          "base_uri": "https://localhost:8080/"
        },
        "id": "yFObzLQYWm1a",
        "outputId": "03ba2478-75ba-4a98-91f9-7432744381ca"
      },
      "execution_count": null,
      "outputs": [
        {
          "output_type": "stream",
          "name": "stdout",
          "text": [
            "Node 2012016678: Degree Centrality = 0.006694450432324975\n",
            "Node 11405466: Degree Centrality = 0.004089722401858638\n",
            "Node 11152002: Degree Centrality = 0.0040777466407990225\n",
            "Node 11500672: Degree Centrality = 0.004011879954971139\n",
            "Node 11423886: Degree Centrality = 0.003963976910732677\n"
          ]
        }
      ]
    },
    {
      "cell_type": "code",
      "source": [
        "# Create an empty subgraph\n",
        "subgraph = nx.Graph()\n",
        "\n",
        "# Create a queue for BFS traversal\n",
        "queue = deque()\n",
        "\n",
        "# Add the starting node to the subgraph and enqueue it\n",
        "subgraph.add_node(start_node)\n",
        "queue.append((start_node, 0))\n",
        "\n",
        "# Perform BFS up to three levels\n",
        "while queue:\n",
        "    node, level = queue.popleft()\n",
        "\n",
        "    # Stop traversing further if reached the desired level (3 in this case)\n",
        "    if level == 3:\n",
        "        continue\n",
        "\n",
        "    # Enqueue neighboring nodes at the next level\n",
        "    for neighbor in G.neighbors(node):\n",
        "        if neighbor not in subgraph:\n",
        "            subgraph.add_node(neighbor)\n",
        "            subgraph.add_edge(node, neighbor)\n",
        "            queue.append((neighbor, level + 1))\n",
        "\n",
        "# Visualize the subgraph\n",
        "plt.figure(figsize=(8, 8))\n",
        "nx.draw_networkx(subgraph)\n",
        "plt.title(\"Connected Subgraph up to Three Levels\")\n",
        "plt.axis(\"off\")\n",
        "plt.show()"
      ],
      "metadata": {
        "colab": {
          "base_uri": "https://localhost:8080/",
          "height": 235
        },
        "id": "qBzKq14OJ95e",
        "outputId": "679fb3e5-09b6-4583-f663-234c97cd6c17"
      },
      "execution_count": null,
      "outputs": [
        {
          "output_type": "error",
          "ename": "NameError",
          "evalue": "ignored",
          "traceback": [
            "\u001b[0;31m---------------------------------------------------------------------------\u001b[0m",
            "\u001b[0;31mNameError\u001b[0m                                 Traceback (most recent call last)",
            "\u001b[0;32m<ipython-input-70-7fdd153081f5>\u001b[0m in \u001b[0;36m<cell line: 5>\u001b[0;34m()\u001b[0m\n\u001b[1;32m      3\u001b[0m \u001b[0;34m\u001b[0m\u001b[0m\n\u001b[1;32m      4\u001b[0m \u001b[0;31m# Create a queue for BFS traversal\u001b[0m\u001b[0;34m\u001b[0m\u001b[0;34m\u001b[0m\u001b[0m\n\u001b[0;32m----> 5\u001b[0;31m \u001b[0mqueue\u001b[0m \u001b[0;34m=\u001b[0m \u001b[0mdeque\u001b[0m\u001b[0;34m(\u001b[0m\u001b[0;34m)\u001b[0m\u001b[0;34m\u001b[0m\u001b[0;34m\u001b[0m\u001b[0m\n\u001b[0m\u001b[1;32m      6\u001b[0m \u001b[0;34m\u001b[0m\u001b[0m\n\u001b[1;32m      7\u001b[0m \u001b[0;31m# Add the starting node to the subgraph and enqueue it\u001b[0m\u001b[0;34m\u001b[0m\u001b[0;34m\u001b[0m\u001b[0m\n",
            "\u001b[0;31mNameError\u001b[0m: name 'deque' is not defined"
          ]
        }
      ]
    },
    {
      "cell_type": "code",
      "source": [
        "#for undirected graphs\n",
        "# Get the connected components\n",
        "connected_components = list(nx.connected_components(G))\n",
        "\n",
        "# Sort the connected components by size in descending order\n",
        "connected_components.sort(key=len, reverse=True)\n",
        "\n",
        "# Get the largest subgraph\n",
        "largest_subgraph = connected_components[0]\n",
        "\n",
        "# Calculate statistics\n",
        "num_nodes = len(largest_subgraph)\n",
        "largest_subgraph_view = G.subgraph(largest_subgraph)\n",
        "num_edges = largest_subgraph_view.number_of_edges()\n",
        "average_degree = sum(dict(largest_subgraph_view.degree()).values()) / num_nodes\n",
        "\n",
        "# Print statistics\n",
        "print(\"Statistics of the Largest Subgraph:\")\n",
        "print(f\"Number of Nodes: {num_nodes}\")\n",
        "print(f\"Number of Edges: {num_edges}\")\n",
        "\n",
        "print(f\"Average Degree: {average_degree}\")"
      ],
      "metadata": {
        "id": "c5Sz4fCAw9ur",
        "colab": {
          "base_uri": "https://localhost:8080/"
        },
        "outputId": "47a1b81d-ab6f-4d3c-dca7-49f60223fb71"
      },
      "execution_count": null,
      "outputs": [
        {
          "output_type": "stream",
          "name": "stdout",
          "text": [
            "Statistics of the Largest Subgraph:\n",
            "Number of Nodes: 46887\n",
            "Number of Edges: 82540\n",
            "Average Degree: 3.520805340499499\n"
          ]
        }
      ]
    },
    {
      "cell_type": "code",
      "source": [
        "# # load word2vec model\n",
        "# w2v_model = model = api.load('word2vec-google-news-300')\n",
        "# # w2v_model = model = api.load('biowordvec-pubmed-and-wikipedia-50')\n",
        "\n",
        "# # Iterate through each row in the DataFrame\n",
        "# for index, row in df.iterrows():\n",
        "#     abstract_text = row['abstract']\n",
        "#     words = abstract_text.split()\n",
        "\n",
        "#     # Retrieve the word2vec embeddings for each word in the abstract\n",
        "#     embeddings = []\n",
        "#     for word in words:\n",
        "#         if word in model.key_to_index:\n",
        "#             embeddings.append(model.get_vector(word))\n",
        "\n",
        "#     # Average the embeddings to get a single embedding for the abstract\n",
        "#     if embeddings:\n",
        "#         abstract_embedding = np.mean(embeddings, axis=0)\n",
        "#     else:\n",
        "#         abstract_embedding = None\n",
        "\n",
        "#     # Add the abstract_embedding as a new column in the DataFrame\n",
        "#     df.at[index, 'abstract_embedding'] = abstract_embedding"
      ],
      "metadata": {
        "id": "QaVFHPjP_Fuh"
      },
      "execution_count": null,
      "outputs": []
    },
    {
      "cell_type": "code",
      "source": [
        "# #for directed graphs\n",
        "# # perform the weakly connected component analysis\n",
        "# weak_ccs = nx.weakly_connected_components(G)\n",
        "\n",
        "# # get the largest connected component subgraphs by size\n",
        "# largest_weak_ccs = sorted(weak_ccs, key=len, reverse=True)[:20]\n",
        "\n",
        "# # print the size and nodes of each largest subgraph\n",
        "# for i, cc in enumerate(largest_weak_ccs):\n",
        "#     print(f\"Largest subgraph #{i+1} has {len(cc)} nodes: {cc}\")"
      ],
      "metadata": {
        "id": "IM09xmMtDUz_"
      },
      "execution_count": null,
      "outputs": []
    },
    {
      "cell_type": "code",
      "source": [
        "# nx.draw(G, with_labels=True)\n",
        "# plt.show()"
      ],
      "metadata": {
        "id": "ylv8N55hCMMD"
      },
      "execution_count": null,
      "outputs": []
    },
    {
      "cell_type": "code",
      "source": [
        "# # Find the connected components in the graph\n",
        "# connected_components = nx.connected_components(G)\n",
        "\n",
        "# # Iterate over each connected component\n",
        "# nodes_with_longest_chain = []\n",
        "# for component in connected_components:\n",
        "#     subgraph = G.subgraph(component)\n",
        "#     diameter = nx.diameter(subgraph)\n",
        "\n",
        "#     for node in subgraph.nodes():\n",
        "#         shortest_path_length = nx.single_source_shortest_path_length(subgraph, node)\n",
        "#         longest_path_length = max(shortest_path_length.values())\n",
        "#         if longest_path_length == diameter:\n",
        "#             nodes_with_longest_chain.append(node)\n",
        "\n",
        "# print(\"Node(s) with the longest chain of edges:\", nodes_with_longest_chain)\n"
      ],
      "metadata": {
        "id": "Rfh1CempLEjm"
      },
      "execution_count": null,
      "outputs": []
    },
    {
      "cell_type": "code",
      "source": [],
      "metadata": {
        "id": "el2Qmcw_C-yy"
      },
      "execution_count": null,
      "outputs": []
    }
  ]
}