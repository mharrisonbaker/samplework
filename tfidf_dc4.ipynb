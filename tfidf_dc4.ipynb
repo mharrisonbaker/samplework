{
 "cells": [
  {
   "cell_type": "code",
   "execution_count": 189,
   "id": "2e60a6ae-caa2-4e35-979c-e346b4192760",
   "metadata": {
    "tags": []
   },
   "outputs": [],
   "source": [
    "import os\n",
    "import re\n",
    "import string\n",
    "import pandas as pd\n",
    "from sklearn.feature_extraction.text import TfidfVectorizer"
   ]
  },
  {
   "cell_type": "code",
   "execution_count": 190,
   "id": "a3b87afb-590b-467f-8660-de0f912b0a9f",
   "metadata": {
    "tags": []
   },
   "outputs": [],
   "source": [
    "#base file path\n",
    "base_path = '/home/ec2-user/SageMaker/data/apps_pc_ocr/'"
   ]
  },
  {
   "cell_type": "code",
   "execution_count": 191,
   "id": "032f0090-065a-49e6-8e54-6160858bb8c6",
   "metadata": {
    "tags": []
   },
   "outputs": [],
   "source": [
    "# data dict stores doc labels and text of txt docs\n",
    "data = {}"
   ]
  },
  {
   "cell_type": "code",
   "execution_count": 213,
   "id": "10531f70-b6c0-44a9-8505-32191d991410",
   "metadata": {
    "tags": []
   },
   "outputs": [],
   "source": [
    "#given that the path follows the following format: apps_pc_ocr/APP_NUMBER/DOCUMENT_LABEL/DOC_SOURCE/file.txt' \n",
    "\n",
    "# iterate over each APP_NUMBER folder\n",
    "for app_number in os.listdir(base_path):\n",
    "    app_path = os.path.join(base_path, app_number)\n",
    "   \n",
    "    # iterate over each DOCUMENT_LABEL folder\n",
    "    for document_label in os.listdir(app_path):\n",
    "        doc_label_path = os.path.join(app_path, document_label)\n",
    "       \n",
    "        # iterate over each DOC_SOURCE folder\n",
    "        for doc_source in os.listdir(doc_label_path):\n",
    "            doc_source_path = os.path.join(doc_label_path, doc_source)\n",
    "           \n",
    "            # get the first text file in the DOC_SOURCE folder\n",
    "            text_files = [f for f in os.listdir(doc_source_path) if f.endswith('.txt')]\n",
    "            if text_files:\n",
    "                first_text_file = text_files[0]\n",
    "                with open(os.path.join(doc_source_path, first_text_file), 'r', encoding='utf-8', errors='ignore') as file:\n",
    "                    lines = file.readlines()\n",
    "                    # strip newline characters and join all lines\n",
    "                    text = ' '.join([line.strip() for line in lines])\n",
    "                    # strip punctuation\n",
    "                    text = text.translate(str.maketrans('', '', string.punctuation))\n",
    "                    # strip numbers with fewer than 3 digits\n",
    "                    text = re.sub(r'\\b\\d{1,2}\\b', '', text)\n",
    "                    # Limit the text to the first 100 char and last 100 char\n",
    "                    first100 = text[:100]\n",
    "                    last100 = text[-100:]\n",
    "                    text = first100 + last100\n",
    "                    \n",
    "                    #code below is combining all of the text docs from each doc-label-class into one doc\n",
    "                    #effectively diminishes the IDF\n",
    "                    #should drop each doc into df first, then run TF-IDF on the df\n",
    "                    \n",
    "                    # append the text to the corresponding document label in the dictionary\n",
    "                    if document_label in data:\n",
    "                        data[document_label].append(text)\n",
    "                    else:\n",
    "                        data[document_label] = [text]"
   ]
  },
  {
   "cell_type": "code",
   "execution_count": 214,
   "id": "9e725b1d-f9aa-40bb-9f3f-2f0fe6a64a31",
   "metadata": {
    "tags": []
   },
   "outputs": [],
   "source": [
    "# dict to df\n",
    "df = pd.DataFrame([(label, len(texts), ' '.join(texts)) for label, texts in data.items()], columns=['Document Label', 'Count', 'Texts'])"
   ]
  },
  {
   "cell_type": "code",
   "execution_count": 215,
   "id": "87d6826b-8159-425c-ba21-a4a5a5bc58db",
   "metadata": {
    "tags": []
   },
   "outputs": [],
   "source": [
    "#list of custom stop words\n",
    "stop_words = ['united', 'states', 'trademark' , 'office', 'patent', 'the', 'and', 'in', 're', 'docket', 'us', 'page']"
   ]
  },
  {
   "cell_type": "code",
   "execution_count": 216,
   "id": "359b9363-2b29-493a-8a24-e977b7981c0d",
   "metadata": {
    "tags": []
   },
   "outputs": [],
   "source": [
    "# initialize the tfidf\n",
    "vectorizer = TfidfVectorizer(ngram_range=(3,7), stop_words=stop_words)"
   ]
  },
  {
   "cell_type": "code",
   "execution_count": 217,
   "id": "5921be50-f0b6-48d5-859f-7f6fb4ab8a66",
   "metadata": {
    "tags": []
   },
   "outputs": [],
   "source": [
    "# list to store the representative words for each document label\n",
    "representative_words = []"
   ]
  },
  {
   "cell_type": "code",
   "execution_count": 218,
   "id": "897335e6-37b4-4970-9f08-22a2c5b6e180",
   "metadata": {
    "tags": []
   },
   "outputs": [],
   "source": [
    "#num of words/phrases for each doc label\n",
    "n=5\n",
    "\n",
    "# Perform TF-IDF analysis for each group of texts\n",
    "for texts in df['Texts']:\n",
    "    X = vectorizer.fit_transform([texts])\n",
    "    feature_names = vectorizer.get_feature_names_out()\n",
    "    # Get the top n phrases for each group of texts\n",
    "    top_phrases = [feature_names[i] for i in X.sum(axis=0).A1.argsort()[-n:]]\n",
    "    representative_words.append(top_phrases)"
   ]
  },
  {
   "cell_type": "code",
   "execution_count": 209,
   "id": "83f3c1d0-e6da-4708-85c7-c10c26029be6",
   "metadata": {
    "tags": []
   },
   "outputs": [],
   "source": [
    "# add representative words to the df\n",
    "df['Representative Words'] = representative_words"
   ]
  },
  {
   "cell_type": "code",
   "execution_count": 210,
   "id": "bb095ef0-1b6f-4903-9f69-b3ac15a07175",
   "metadata": {
    "tags": []
   },
   "outputs": [],
   "source": [
    "#split the n phrases into separate columns\n",
    "df2 = pd.concat([df[['Document Label','Count']], pd.DataFrame(df['Representative Words'].to_list(), columns=[f'Phrase {i+1}' for i in range(n)])], axis=1)"
   ]
  },
  {
   "cell_type": "code",
   "execution_count": 211,
   "id": "52b710cf-2ce7-4436-8dc8-d1e5a15d7869",
   "metadata": {
    "tags": []
   },
   "outputs": [
    {
     "name": "stdout",
     "output_type": "stream",
     "text": [
      "   Document Label  Count                                        Phrase 1  \\\n",
      "0            A.NE  21862                                begin on of this   \n",
      "1             ADS   3682                                approved for use   \n",
      "2            A.PE   2872                        commissioner for patents   \n",
      "3            ABST  12878                                of disclosure an   \n",
      "4          (A...)   7936                                begin on of this   \n",
      "5              XT  16360                             box 1450 alexandria   \n",
      "6            WFEE   4020  application fee transmittal application number   \n",
      "7            A.NA   8168                                begin on of this   \n",
      "8            OATH   3094                                  filing date of   \n",
      "9             DRW   1298                                   seq id seq id   \n",
      "10           TRNA   3132                              deposit account no   \n",
      "11         (PA..)   3348                                approved for use   \n",
      "12       P.210.IN    594                report international application   \n",
      "13           IFEE   1710                          certificate of mailing   \n",
      "14            NPL    734                       international filing date   \n",
      "15            IDS   2286                               copy of this form   \n",
      "16           AMSB   1512                                begin on of this   \n",
      "17            CLM    832                              claim wherein said   \n",
      "18            REM    836                                  under usc 103a   \n",
      "19           SPEC    552                 access authentication component   \n",
      "20       P.237.IN    328                    international application no   \n",
      "21   P.N.101.CONV    430  pct request print out original electronic form   \n",
      "22          R3.73    438                                 was recorded at   \n",
      "23           RCEX    524                                  of records may   \n",
      "24       TRAN.LET    326                              1450 alexandria va   \n",
      "25           FRPR     48                                 number of cells   \n",
      "26           371P     38                  communication of international   \n",
      "27      REF.OTHER    100                              written opinion of   \n",
      "\n",
      "                                      Phrase 2  \\\n",
      "0                                  begin on of   \n",
      "1                              for use through   \n",
      "2                       application as follows   \n",
      "3                         invention relates to   \n",
      "4                                  begin on of   \n",
      "5                                  po box 1450   \n",
      "6                  application fee transmittal   \n",
      "7                                  begin on of   \n",
      "8                     willful false statements   \n",
      "9                                   seq id seq   \n",
      "10                                 fee fee fee   \n",
      "11                    statement under cfr 373b   \n",
      "12  search report international application no   \n",
      "13                    change of correspondence   \n",
      "14                              with regard to   \n",
      "15                     with next communication   \n",
      "16                                 begin on of   \n",
      "17                             method of claim   \n",
      "18                     condition for allowance   \n",
      "19             embodiment of present invention   \n",
      "20            written opinion of international   \n",
      "21   pct request print out original electronic   \n",
      "22                       which copy thereof is   \n",
      "23                              as routine use   \n",
      "24                         box 1450 alexandria   \n",
      "25                       image or part thereof   \n",
      "26                     limit under article 221   \n",
      "27           international searching authority   \n",
      "\n",
      "                                      Phrase 3  \\\n",
      "0                             on of this paper   \n",
      "1                             may be disclosed   \n",
      "2                             on of this paper   \n",
      "3                                  one or more   \n",
      "4                             on of this paper   \n",
      "5                         authorized to charge   \n",
      "6                  fee transmittal application   \n",
      "7                             on of this paper   \n",
      "8                     that all statements made   \n",
      "9                                    id seq id   \n",
      "10                         oath or declaration   \n",
      "11                              under cfr 373b   \n",
      "12                 search report international   \n",
      "13                           entity status see   \n",
      "14                            considered to be   \n",
      "15                                of this form   \n",
      "16                            on of this paper   \n",
      "17                                at least one   \n",
      "18                             reply to action   \n",
      "19                       embodiment of present   \n",
      "20                    opinion of international   \n",
      "21                       pct request print out   \n",
      "22                          which copy thereof   \n",
      "23                           of records may be   \n",
      "24                     alexandria va 223131450   \n",
      "25                               image or part   \n",
      "26  communication of international application   \n",
      "27                              with regard to   \n",
      "\n",
      "                          Phrase 4                            Phrase 5  \n",
      "0                    of this paper                          on of this  \n",
      "1               of mailing address              application data sheet  \n",
      "2                    of this paper                          on of this  \n",
      "3                     at least one              abstract of disclosure  \n",
      "4                    of this paper                          on of this  \n",
      "5               to deposit account                   extension of time  \n",
      "6   transmittal application number  fee transmittal application number  \n",
      "7                    of this paper                          on of this  \n",
      "8              that all statements                 all statements made  \n",
      "9                         ee ee ee               substitute sheet rule  \n",
      "10             washington dc 20231            commissioner for patents  \n",
      "11             statement under cfr                   power of attorney  \n",
      "12    international application no         international search report  \n",
      "13                     be used for                 micro entity status  \n",
      "14             best available copy         international search report  \n",
      "15                    copy of this    information disclosure statement  \n",
      "16                   of this paper                          on of this  \n",
      "17              according to claim                    of claim wherein  \n",
      "18       is respectfully requested                  rejected under usc  \n",
      "19                     one or more                of present invention  \n",
      "20              written opinion of   international searching authority  \n",
      "21                 name last first                      this person is  \n",
      "22                 copy thereof is                      for which copy  \n",
      "23                  records may be                    may be disclosed  \n",
      "24        commissioner for patents    information disclosure statement  \n",
      "25                 or part thereof                         one or more  \n",
      "26     international search report        of international application  \n",
      "27    international application no         international search report  \n"
     ]
    }
   ],
   "source": [
    "print(df2)"
   ]
  },
  {
   "cell_type": "code",
   "execution_count": 212,
   "id": "76aebdd3-0e48-47b9-90ae-fade457bf1d3",
   "metadata": {
    "tags": []
   },
   "outputs": [],
   "source": [
    "df2.to_csv('tfidf_doc_phrases.csv', index=False)"
   ]
  },
  {
   "cell_type": "code",
   "execution_count": 178,
   "id": "98adeea7-7a37-475f-b351-2401f702120e",
   "metadata": {
    "tags": []
   },
   "outputs": [
    {
     "name": "stdout",
     "output_type": "stream",
     "text": [
      "Looking in indexes: https://pypi.org/simple, https://pip.repos.neuron.amazonaws.com\n",
      "Collecting xlwt\n",
      "  Downloading xlwt-1.3.0-py2.py3-none-any.whl (99 kB)\n",
      "\u001b[2K     \u001b[90m━━━━━━━━━━━━━━━━━━━━━━━━━━━━━━━━━━━━━━\u001b[0m \u001b[32m100.0/100.0 kB\u001b[0m \u001b[31m19.0 MB/s\u001b[0m eta \u001b[36m0:00:00\u001b[0m\n",
      "\u001b[?25hInstalling collected packages: xlwt\n",
      "Successfully installed xlwt-1.3.0\n"
     ]
    }
   ],
   "source": [
    "!pip install xlwt\n",
    "import xlwt"
   ]
  },
  {
   "cell_type": "code",
   "execution_count": 201,
   "id": "d54eb778-232f-48e2-b29a-73d1563390f9",
   "metadata": {},
   "outputs": [],
   "source": [
    "df2.to_excel('tfidf_doc_phrases.xlsx', index=False)"
   ]
  },
  {
   "cell_type": "code",
   "execution_count": null,
   "id": "d0c08359-6f80-4be6-8a86-5bae28ce391d",
   "metadata": {},
   "outputs": [],
   "source": [
    "#reverse order of words?\n",
    "#last 100?\n"
   ]
  }
 ],
 "metadata": {
  "kernelspec": {
   "display_name": "conda_amazonei_pytorch_latest_p37",
   "language": "python",
   "name": "conda_amazonei_pytorch_latest_p37"
  },
  "language_info": {
   "codemirror_mode": {
    "name": "ipython",
    "version": 3
   },
   "file_extension": ".py",
   "mimetype": "text/x-python",
   "name": "python",
   "nbconvert_exporter": "python",
   "pygments_lexer": "ipython3",
   "version": "3.7.10"
  }
 },
 "nbformat": 4,
 "nbformat_minor": 5
}
