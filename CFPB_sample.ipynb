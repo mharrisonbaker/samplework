{
  "nbformat": 4,
  "nbformat_minor": 0,
  "metadata": {
    "colab": {
      "provenance": [],
      "authorship_tag": "ABX9TyPJlYEK4Sr4b4fXDP+IZGdt",
      "include_colab_link": true
    },
    "kernelspec": {
      "name": "python3",
      "display_name": "Python 3"
    },
    "language_info": {
      "name": "python"
    }
  },
  "cells": [
    {
      "cell_type": "markdown",
      "metadata": {
        "id": "view-in-github",
        "colab_type": "text"
      },
      "source": [
        "<a href=\"https://colab.research.google.com/github/mharrisonbaker/samplework/blob/master/CFPB_sample.ipynb\" target=\"_parent\"><img src=\"https://colab.research.google.com/assets/colab-badge.svg\" alt=\"Open In Colab\"/></a>"
      ]
    },
    {
      "cell_type": "code",
      "source": [
        "!pip install faker"
      ],
      "metadata": {
        "colab": {
          "base_uri": "https://localhost:8080/"
        },
        "id": "TkLjlC432wxn",
        "outputId": "f106240a-37d2-4224-fe3f-b80dcfdc3cf8"
      },
      "execution_count": 1,
      "outputs": [
        {
          "output_type": "stream",
          "name": "stdout",
          "text": [
            "Looking in indexes: https://pypi.org/simple, https://us-python.pkg.dev/colab-wheels/public/simple/\n",
            "Requirement already satisfied: faker in /usr/local/lib/python3.7/dist-packages (15.0.0)\n",
            "Requirement already satisfied: typing-extensions>=3.7.4.3 in /usr/local/lib/python3.7/dist-packages (from faker) (4.1.1)\n",
            "Requirement already satisfied: python-dateutil>=2.4 in /usr/local/lib/python3.7/dist-packages (from faker) (2.8.2)\n",
            "Requirement already satisfied: six>=1.5 in /usr/local/lib/python3.7/dist-packages (from python-dateutil>=2.4->faker) (1.15.0)\n"
          ]
        }
      ]
    },
    {
      "cell_type": "code",
      "source": [
        "from faker import Faker\n",
        "import pandas as pd\n",
        "import numpy as np"
      ],
      "metadata": {
        "id": "A6yyhuxY6j8c"
      },
      "execution_count": 2,
      "outputs": []
    },
    {
      "cell_type": "code",
      "execution_count": 26,
      "metadata": {
        "id": "bfhEzcET2pH0"
      },
      "outputs": [],
      "source": [
        "#intialize dummy dataset\n",
        "fake = Faker()\n",
        "profileData = [fake.profile() for i in range(10000)]\n",
        "df = pd.DataFrame(profileData)"
      ]
    },
    {
      "cell_type": "code",
      "source": [
        "#drop unrelated\n",
        "df = df.drop(columns=['blood_group', 'website','username', 'mail', 'birthdate', 'residence'])"
      ],
      "metadata": {
        "id": "J7ChTabr2wKL"
      },
      "execution_count": 27,
      "outputs": []
    },
    {
      "cell_type": "code",
      "source": [
        "#rename unrelated\n",
        "df.rename(columns={'address': 'business_address'}, inplace=True)"
      ],
      "metadata": {
        "id": "zHQeQKGH2p7n"
      },
      "execution_count": 28,
      "outputs": []
    },
    {
      "cell_type": "code",
      "source": [
        "#add data\n",
        "ethnicity = ['Asian', 'Black', 'Hispanic', 'White']\n",
        "df['Ethnicity'] = np.random.choice(list(ethnicity), len(df))"
      ],
      "metadata": {
        "id": "r1hqTJxl2vrf"
      },
      "execution_count": 29,
      "outputs": []
    },
    {
      "cell_type": "code",
      "source": [
        "#add data\n",
        "mode = ['In-Person', 'Telephone', 'Online', 'Email']\n",
        "df['mode'] = np.random.choice(list(mode), len(df))"
      ],
      "metadata": {
        "id": "e7lCu2Q-JaTj"
      },
      "execution_count": 30,
      "outputs": []
    },
    {
      "cell_type": "code",
      "source": [
        "#add data\n",
        "rec_type = ['Lender', 'Affiliate', 'Third-Party']\n",
        "df['receipt_type'] = np.random.choice(list(rec_type), len(df))"
      ],
      "metadata": {
        "id": "-lNX3g2iJtJc"
      },
      "execution_count": 31,
      "outputs": []
    },
    {
      "cell_type": "code",
      "source": [
        "#add data\n",
        "action = ['Originated', 'Approved Not Accepted', 'Denied', 'Withdrawn by Applicant', 'Incomplete']\n",
        "df['action'] = np.random.choice(list(action), len(df))"
      ],
      "metadata": {
        "id": "v2LY_Qc6J7pX"
      },
      "execution_count": 32,
      "outputs": []
    },
    {
      "cell_type": "code",
      "source": [
        "#add data\n",
        "np.random.seed(2018)\n",
        "df['amount']=np.random.beta(2, 5, len(df))*100000"
      ],
      "metadata": {
        "id": "lC_Z1Fw0f01p"
      },
      "execution_count": 33,
      "outputs": []
    },
    {
      "cell_type": "code",
      "source": [
        "#add date time data\n",
        "#functions\n",
        "def random_dates(start, end, n=len(df)):\n",
        "\n",
        "    start_u = start.value//10**9\n",
        "    end_u = end.value//10**9\n",
        "\n",
        "    return pd.to_datetime(np.random.randint(start_u, end_u, n), unit='s')"
      ],
      "metadata": {
        "id": "rBjU_qnlGxq9"
      },
      "execution_count": 34,
      "outputs": []
    },
    {
      "cell_type": "code",
      "source": [
        "#add date time data\n",
        "start = pd.to_datetime('2016-01-01')\n",
        "end = pd.to_datetime('2021-01-01')\n",
        "df['application_date'] = random_dates(start, end)"
      ],
      "metadata": {
        "id": "x05jc2zAG6H-"
      },
      "execution_count": 35,
      "outputs": []
    },
    {
      "cell_type": "code",
      "source": [
        "df"
      ],
      "metadata": {
        "colab": {
          "base_uri": "https://localhost:8080/",
          "height": 424
        },
        "id": "jQBxVLGj5dbn",
        "outputId": "02c42da2-1e0c-413e-9103-99f1cd9c11a5"
      },
      "execution_count": 36,
      "outputs": [
        {
          "output_type": "execute_result",
          "data": {
            "text/plain": [
              "                                   job                         company  \\\n",
              "0                       Chief of Staff                      Fisher Ltd   \n",
              "1                  Chemist, analytical        Short, Scott and Benitez   \n",
              "2                            Homeopath       Moore, Mathews and Parker   \n",
              "3                        Social worker                  Dougherty-Park   \n",
              "4                  Animal nutritionist  Strickland, Stout and Williams   \n",
              "...                                ...                             ...   \n",
              "9995                    Soil scientist         Walker, Baker and Ortiz   \n",
              "9996               Structural engineer                  Bautista-Smith   \n",
              "9997         Building control surveyor                     Barr-Foster   \n",
              "9998                         Herbalist        Hurst, Gordon and Holmes   \n",
              "9999  Psychologist, sport and exercise                       Reyes Inc   \n",
              "\n",
              "              ssn            current_location             name sex  \\\n",
              "0     385-26-5326     (83.277495, -38.991699)      Mary Garcia   F   \n",
              "1     775-46-0011    (-4.0149875, -80.289893)    Bianca Ingram   F   \n",
              "2     039-41-2587  (-68.7574675, -149.520643)  Ronald Campbell   M   \n",
              "3     220-45-1680   (-59.2328625, 119.984729)     Bryan Miller   M   \n",
              "4     331-09-7002     (4.830210, -159.024198)      Sonya Foley   F   \n",
              "...           ...                         ...              ...  ..   \n",
              "9995  048-21-3081    (-12.358309, -36.689564)   Valerie Murphy   F   \n",
              "9996  849-76-3874    (12.1768385, -59.206341)    Dustin Garcia   M   \n",
              "9997  545-72-8528    (-72.737750, -43.397274)      Ethan Colon   M   \n",
              "9998  581-91-0123     (9.228280, -154.565995)      Tammy Moore   F   \n",
              "9999  730-91-8614    (-64.026437, -36.293502)    Andrew Martin   M   \n",
              "\n",
              "                                       business_address Ethnicity       mode  \\\n",
              "0         044 Mcintosh Mountains\\nNorth Isaac, MO 12204     Black      Email   \n",
              "1       7292 Vanessa Mission\\nNew Anthonystad, MT 65042     White  In-Person   \n",
              "2     146 Christina Island Suite 934\\nRichardsonmout...     Asian  In-Person   \n",
              "3             4025 Kevin Estate\\nJoneschester, HI 08136     Black     Online   \n",
              "4      68414 Alvarez Row Suite 751\\nJuliefort, KY 36726     Asian      Email   \n",
              "...                                                 ...       ...        ...   \n",
              "9995  891 Robert Falls Suite 519\\nGabriellebury, MA ...     White     Online   \n",
              "9996          89498 Sara Parkways\\nEast Janet, CA 04391     White     Online   \n",
              "9997             0359 Lewis Hill\\nHerreraview, OH 49900     Black  Telephone   \n",
              "9998  7891 Benjamin Rapid Apt. 044\\nNew Crystalton, ...     Asian     Online   \n",
              "9999  713 Murray Valley Suite 404\\nNorth Brandon, AR...  Hispanic  Telephone   \n",
              "\n",
              "     receipt_type                  action        amount    application_date  \n",
              "0          Lender   Approved Not Accepted  18094.172800 2016-02-02 21:24:25  \n",
              "1       Affiliate  Withdrawn by Applicant  26192.478363 2017-02-12 16:39:07  \n",
              "2       Affiliate  Withdrawn by Applicant  14055.506702 2018-12-19 07:45:00  \n",
              "3          Lender   Approved Not Accepted   7172.967627 2017-11-18 12:41:17  \n",
              "4          Lender  Withdrawn by Applicant  11830.031036 2016-09-19 20:38:00  \n",
              "...           ...                     ...           ...                 ...  \n",
              "9995       Lender                  Denied  40696.577685 2017-08-14 17:48:24  \n",
              "9996       Lender                  Denied  46912.744133 2017-04-16 22:20:01  \n",
              "9997  Third-Party  Withdrawn by Applicant  39242.930602 2019-05-15 06:41:45  \n",
              "9998    Affiliate              Incomplete  69675.347626 2017-03-16 14:04:26  \n",
              "9999  Third-Party   Approved Not Accepted  22475.776012 2017-10-13 17:14:08  \n",
              "\n",
              "[10000 rows x 13 columns]"
            ],
            "text/html": [
              "\n",
              "  <div id=\"df-842197dc-b845-4ff6-93d1-28f8e66a1149\">\n",
              "    <div class=\"colab-df-container\">\n",
              "      <div>\n",
              "<style scoped>\n",
              "    .dataframe tbody tr th:only-of-type {\n",
              "        vertical-align: middle;\n",
              "    }\n",
              "\n",
              "    .dataframe tbody tr th {\n",
              "        vertical-align: top;\n",
              "    }\n",
              "\n",
              "    .dataframe thead th {\n",
              "        text-align: right;\n",
              "    }\n",
              "</style>\n",
              "<table border=\"1\" class=\"dataframe\">\n",
              "  <thead>\n",
              "    <tr style=\"text-align: right;\">\n",
              "      <th></th>\n",
              "      <th>job</th>\n",
              "      <th>company</th>\n",
              "      <th>ssn</th>\n",
              "      <th>current_location</th>\n",
              "      <th>name</th>\n",
              "      <th>sex</th>\n",
              "      <th>business_address</th>\n",
              "      <th>Ethnicity</th>\n",
              "      <th>mode</th>\n",
              "      <th>receipt_type</th>\n",
              "      <th>action</th>\n",
              "      <th>amount</th>\n",
              "      <th>application_date</th>\n",
              "    </tr>\n",
              "  </thead>\n",
              "  <tbody>\n",
              "    <tr>\n",
              "      <th>0</th>\n",
              "      <td>Chief of Staff</td>\n",
              "      <td>Fisher Ltd</td>\n",
              "      <td>385-26-5326</td>\n",
              "      <td>(83.277495, -38.991699)</td>\n",
              "      <td>Mary Garcia</td>\n",
              "      <td>F</td>\n",
              "      <td>044 Mcintosh Mountains\\nNorth Isaac, MO 12204</td>\n",
              "      <td>Black</td>\n",
              "      <td>Email</td>\n",
              "      <td>Lender</td>\n",
              "      <td>Approved Not Accepted</td>\n",
              "      <td>18094.172800</td>\n",
              "      <td>2016-02-02 21:24:25</td>\n",
              "    </tr>\n",
              "    <tr>\n",
              "      <th>1</th>\n",
              "      <td>Chemist, analytical</td>\n",
              "      <td>Short, Scott and Benitez</td>\n",
              "      <td>775-46-0011</td>\n",
              "      <td>(-4.0149875, -80.289893)</td>\n",
              "      <td>Bianca Ingram</td>\n",
              "      <td>F</td>\n",
              "      <td>7292 Vanessa Mission\\nNew Anthonystad, MT 65042</td>\n",
              "      <td>White</td>\n",
              "      <td>In-Person</td>\n",
              "      <td>Affiliate</td>\n",
              "      <td>Withdrawn by Applicant</td>\n",
              "      <td>26192.478363</td>\n",
              "      <td>2017-02-12 16:39:07</td>\n",
              "    </tr>\n",
              "    <tr>\n",
              "      <th>2</th>\n",
              "      <td>Homeopath</td>\n",
              "      <td>Moore, Mathews and Parker</td>\n",
              "      <td>039-41-2587</td>\n",
              "      <td>(-68.7574675, -149.520643)</td>\n",
              "      <td>Ronald Campbell</td>\n",
              "      <td>M</td>\n",
              "      <td>146 Christina Island Suite 934\\nRichardsonmout...</td>\n",
              "      <td>Asian</td>\n",
              "      <td>In-Person</td>\n",
              "      <td>Affiliate</td>\n",
              "      <td>Withdrawn by Applicant</td>\n",
              "      <td>14055.506702</td>\n",
              "      <td>2018-12-19 07:45:00</td>\n",
              "    </tr>\n",
              "    <tr>\n",
              "      <th>3</th>\n",
              "      <td>Social worker</td>\n",
              "      <td>Dougherty-Park</td>\n",
              "      <td>220-45-1680</td>\n",
              "      <td>(-59.2328625, 119.984729)</td>\n",
              "      <td>Bryan Miller</td>\n",
              "      <td>M</td>\n",
              "      <td>4025 Kevin Estate\\nJoneschester, HI 08136</td>\n",
              "      <td>Black</td>\n",
              "      <td>Online</td>\n",
              "      <td>Lender</td>\n",
              "      <td>Approved Not Accepted</td>\n",
              "      <td>7172.967627</td>\n",
              "      <td>2017-11-18 12:41:17</td>\n",
              "    </tr>\n",
              "    <tr>\n",
              "      <th>4</th>\n",
              "      <td>Animal nutritionist</td>\n",
              "      <td>Strickland, Stout and Williams</td>\n",
              "      <td>331-09-7002</td>\n",
              "      <td>(4.830210, -159.024198)</td>\n",
              "      <td>Sonya Foley</td>\n",
              "      <td>F</td>\n",
              "      <td>68414 Alvarez Row Suite 751\\nJuliefort, KY 36726</td>\n",
              "      <td>Asian</td>\n",
              "      <td>Email</td>\n",
              "      <td>Lender</td>\n",
              "      <td>Withdrawn by Applicant</td>\n",
              "      <td>11830.031036</td>\n",
              "      <td>2016-09-19 20:38:00</td>\n",
              "    </tr>\n",
              "    <tr>\n",
              "      <th>...</th>\n",
              "      <td>...</td>\n",
              "      <td>...</td>\n",
              "      <td>...</td>\n",
              "      <td>...</td>\n",
              "      <td>...</td>\n",
              "      <td>...</td>\n",
              "      <td>...</td>\n",
              "      <td>...</td>\n",
              "      <td>...</td>\n",
              "      <td>...</td>\n",
              "      <td>...</td>\n",
              "      <td>...</td>\n",
              "      <td>...</td>\n",
              "    </tr>\n",
              "    <tr>\n",
              "      <th>9995</th>\n",
              "      <td>Soil scientist</td>\n",
              "      <td>Walker, Baker and Ortiz</td>\n",
              "      <td>048-21-3081</td>\n",
              "      <td>(-12.358309, -36.689564)</td>\n",
              "      <td>Valerie Murphy</td>\n",
              "      <td>F</td>\n",
              "      <td>891 Robert Falls Suite 519\\nGabriellebury, MA ...</td>\n",
              "      <td>White</td>\n",
              "      <td>Online</td>\n",
              "      <td>Lender</td>\n",
              "      <td>Denied</td>\n",
              "      <td>40696.577685</td>\n",
              "      <td>2017-08-14 17:48:24</td>\n",
              "    </tr>\n",
              "    <tr>\n",
              "      <th>9996</th>\n",
              "      <td>Structural engineer</td>\n",
              "      <td>Bautista-Smith</td>\n",
              "      <td>849-76-3874</td>\n",
              "      <td>(12.1768385, -59.206341)</td>\n",
              "      <td>Dustin Garcia</td>\n",
              "      <td>M</td>\n",
              "      <td>89498 Sara Parkways\\nEast Janet, CA 04391</td>\n",
              "      <td>White</td>\n",
              "      <td>Online</td>\n",
              "      <td>Lender</td>\n",
              "      <td>Denied</td>\n",
              "      <td>46912.744133</td>\n",
              "      <td>2017-04-16 22:20:01</td>\n",
              "    </tr>\n",
              "    <tr>\n",
              "      <th>9997</th>\n",
              "      <td>Building control surveyor</td>\n",
              "      <td>Barr-Foster</td>\n",
              "      <td>545-72-8528</td>\n",
              "      <td>(-72.737750, -43.397274)</td>\n",
              "      <td>Ethan Colon</td>\n",
              "      <td>M</td>\n",
              "      <td>0359 Lewis Hill\\nHerreraview, OH 49900</td>\n",
              "      <td>Black</td>\n",
              "      <td>Telephone</td>\n",
              "      <td>Third-Party</td>\n",
              "      <td>Withdrawn by Applicant</td>\n",
              "      <td>39242.930602</td>\n",
              "      <td>2019-05-15 06:41:45</td>\n",
              "    </tr>\n",
              "    <tr>\n",
              "      <th>9998</th>\n",
              "      <td>Herbalist</td>\n",
              "      <td>Hurst, Gordon and Holmes</td>\n",
              "      <td>581-91-0123</td>\n",
              "      <td>(9.228280, -154.565995)</td>\n",
              "      <td>Tammy Moore</td>\n",
              "      <td>F</td>\n",
              "      <td>7891 Benjamin Rapid Apt. 044\\nNew Crystalton, ...</td>\n",
              "      <td>Asian</td>\n",
              "      <td>Online</td>\n",
              "      <td>Affiliate</td>\n",
              "      <td>Incomplete</td>\n",
              "      <td>69675.347626</td>\n",
              "      <td>2017-03-16 14:04:26</td>\n",
              "    </tr>\n",
              "    <tr>\n",
              "      <th>9999</th>\n",
              "      <td>Psychologist, sport and exercise</td>\n",
              "      <td>Reyes Inc</td>\n",
              "      <td>730-91-8614</td>\n",
              "      <td>(-64.026437, -36.293502)</td>\n",
              "      <td>Andrew Martin</td>\n",
              "      <td>M</td>\n",
              "      <td>713 Murray Valley Suite 404\\nNorth Brandon, AR...</td>\n",
              "      <td>Hispanic</td>\n",
              "      <td>Telephone</td>\n",
              "      <td>Third-Party</td>\n",
              "      <td>Approved Not Accepted</td>\n",
              "      <td>22475.776012</td>\n",
              "      <td>2017-10-13 17:14:08</td>\n",
              "    </tr>\n",
              "  </tbody>\n",
              "</table>\n",
              "<p>10000 rows × 13 columns</p>\n",
              "</div>\n",
              "      <button class=\"colab-df-convert\" onclick=\"convertToInteractive('df-842197dc-b845-4ff6-93d1-28f8e66a1149')\"\n",
              "              title=\"Convert this dataframe to an interactive table.\"\n",
              "              style=\"display:none;\">\n",
              "        \n",
              "  <svg xmlns=\"http://www.w3.org/2000/svg\" height=\"24px\"viewBox=\"0 0 24 24\"\n",
              "       width=\"24px\">\n",
              "    <path d=\"M0 0h24v24H0V0z\" fill=\"none\"/>\n",
              "    <path d=\"M18.56 5.44l.94 2.06.94-2.06 2.06-.94-2.06-.94-.94-2.06-.94 2.06-2.06.94zm-11 1L8.5 8.5l.94-2.06 2.06-.94-2.06-.94L8.5 2.5l-.94 2.06-2.06.94zm10 10l.94 2.06.94-2.06 2.06-.94-2.06-.94-.94-2.06-.94 2.06-2.06.94z\"/><path d=\"M17.41 7.96l-1.37-1.37c-.4-.4-.92-.59-1.43-.59-.52 0-1.04.2-1.43.59L10.3 9.45l-7.72 7.72c-.78.78-.78 2.05 0 2.83L4 21.41c.39.39.9.59 1.41.59.51 0 1.02-.2 1.41-.59l7.78-7.78 2.81-2.81c.8-.78.8-2.07 0-2.86zM5.41 20L4 18.59l7.72-7.72 1.47 1.35L5.41 20z\"/>\n",
              "  </svg>\n",
              "      </button>\n",
              "      \n",
              "  <style>\n",
              "    .colab-df-container {\n",
              "      display:flex;\n",
              "      flex-wrap:wrap;\n",
              "      gap: 12px;\n",
              "    }\n",
              "\n",
              "    .colab-df-convert {\n",
              "      background-color: #E8F0FE;\n",
              "      border: none;\n",
              "      border-radius: 50%;\n",
              "      cursor: pointer;\n",
              "      display: none;\n",
              "      fill: #1967D2;\n",
              "      height: 32px;\n",
              "      padding: 0 0 0 0;\n",
              "      width: 32px;\n",
              "    }\n",
              "\n",
              "    .colab-df-convert:hover {\n",
              "      background-color: #E2EBFA;\n",
              "      box-shadow: 0px 1px 2px rgba(60, 64, 67, 0.3), 0px 1px 3px 1px rgba(60, 64, 67, 0.15);\n",
              "      fill: #174EA6;\n",
              "    }\n",
              "\n",
              "    [theme=dark] .colab-df-convert {\n",
              "      background-color: #3B4455;\n",
              "      fill: #D2E3FC;\n",
              "    }\n",
              "\n",
              "    [theme=dark] .colab-df-convert:hover {\n",
              "      background-color: #434B5C;\n",
              "      box-shadow: 0px 1px 3px 1px rgba(0, 0, 0, 0.15);\n",
              "      filter: drop-shadow(0px 1px 2px rgba(0, 0, 0, 0.3));\n",
              "      fill: #FFFFFF;\n",
              "    }\n",
              "  </style>\n",
              "\n",
              "      <script>\n",
              "        const buttonEl =\n",
              "          document.querySelector('#df-842197dc-b845-4ff6-93d1-28f8e66a1149 button.colab-df-convert');\n",
              "        buttonEl.style.display =\n",
              "          google.colab.kernel.accessAllowed ? 'block' : 'none';\n",
              "\n",
              "        async function convertToInteractive(key) {\n",
              "          const element = document.querySelector('#df-842197dc-b845-4ff6-93d1-28f8e66a1149');\n",
              "          const dataTable =\n",
              "            await google.colab.kernel.invokeFunction('convertToInteractive',\n",
              "                                                     [key], {});\n",
              "          if (!dataTable) return;\n",
              "\n",
              "          const docLinkHtml = 'Like what you see? Visit the ' +\n",
              "            '<a target=\"_blank\" href=https://colab.research.google.com/notebooks/data_table.ipynb>data table notebook</a>'\n",
              "            + ' to learn more about interactive tables.';\n",
              "          element.innerHTML = '';\n",
              "          dataTable['output_type'] = 'display_data';\n",
              "          await google.colab.output.renderOutput(dataTable, element);\n",
              "          const docLink = document.createElement('div');\n",
              "          docLink.innerHTML = docLinkHtml;\n",
              "          element.appendChild(docLink);\n",
              "        }\n",
              "      </script>\n",
              "    </div>\n",
              "  </div>\n",
              "  "
            ]
          },
          "metadata": {},
          "execution_count": 36
        }
      ]
    },
    {
      "cell_type": "code",
      "source": [
        "df.dtypes"
      ],
      "metadata": {
        "colab": {
          "base_uri": "https://localhost:8080/"
        },
        "id": "vF4eCm5_Gcjo",
        "outputId": "99eed7a0-f359-4911-ddc0-9e633a6dfa18"
      },
      "execution_count": 37,
      "outputs": [
        {
          "output_type": "execute_result",
          "data": {
            "text/plain": [
              "job                         object\n",
              "company                     object\n",
              "ssn                         object\n",
              "current_location            object\n",
              "name                        object\n",
              "sex                         object\n",
              "business_address            object\n",
              "Ethnicity                   object\n",
              "mode                        object\n",
              "receipt_type                object\n",
              "action                      object\n",
              "amount                     float64\n",
              "application_date    datetime64[ns]\n",
              "dtype: object"
            ]
          },
          "metadata": {},
          "execution_count": 37
        }
      ]
    },
    {
      "cell_type": "code",
      "source": [
        "#mean loan application amounts by sex and ethnicity\n",
        "df.groupby([\"sex\", \"Ethnicity\"])[\"amount\"].mean()"
      ],
      "metadata": {
        "colab": {
          "base_uri": "https://localhost:8080/"
        },
        "id": "ZXITJ3AGjnoi",
        "outputId": "b332049f-6644-492c-8341-479d3c08a557"
      },
      "execution_count": 54,
      "outputs": [
        {
          "output_type": "execute_result",
          "data": {
            "text/plain": [
              "sex  Ethnicity\n",
              "F    Asian        29187.813271\n",
              "     Black        28479.467059\n",
              "     Hispanic     28977.441557\n",
              "     White        28883.687717\n",
              "M    Asian        28220.473481\n",
              "     Black        28021.226018\n",
              "     Hispanic     28347.548982\n",
              "     White        28894.339477\n",
              "Name: amount, dtype: float64"
            ]
          },
          "metadata": {},
          "execution_count": 54
        }
      ]
    },
    {
      "cell_type": "code",
      "source": [
        "import seaborn as sns\n"
      ],
      "metadata": {
        "id": "Dg1s53SFXn0T"
      },
      "execution_count": 38,
      "outputs": []
    },
    {
      "cell_type": "code",
      "source": [
        "sns.catplot(\n",
        "    data=df.loc[df['sex'] == 'F'], y=\"Ethnicity\", hue=\"action\", kind=\"count\", \n",
        "    palette=\"pastel\", edgecolor=\".6\",height=8.27, aspect=11.7/8.27\n",
        "    \n",
        ").set(title = 'Loan Outcome of Female Applicants by Ethnicity')"
      ],
      "metadata": {
        "colab": {
          "base_uri": "https://localhost:8080/",
          "height": 638
        },
        "id": "Fc5avsnEdQ7e",
        "outputId": "29071a8c-7dd7-49fc-e5d8-104ac3a5fcd3"
      },
      "execution_count": 39,
      "outputs": [
        {
          "output_type": "execute_result",
          "data": {
            "text/plain": [
              "<seaborn.axisgrid.FacetGrid at 0x7f8f4fdf48d0>"
            ]
          },
          "metadata": {},
          "execution_count": 39
        },
        {
          "output_type": "display_data",
          "data": {
            "text/plain": [
              "<Figure size 997.65x595.44 with 1 Axes>"
            ],
            "image/png": "[encoded data removed]"
          },
          "metadata": {
            "needs_background": "light"
          }
        }
      ]
    },
    {
      "cell_type": "code",
      "source": [
        "sns.displot(df.loc[df['action'] == 'Originated'], x=\"amount\", hue=\"sex\", element=\"step\", height=8.27, aspect=11.7/8.27).set(title = '$ Amount of Orginated Loans by Sex')"
      ],
      "metadata": {
        "colab": {
          "base_uri": "https://localhost:8080/",
          "height": 638
        },
        "id": "R5xDCIJzXj45",
        "outputId": "e3db7dde-3ebe-4d81-a95e-0d14f113d7f7"
      },
      "execution_count": 40,
      "outputs": [
        {
          "output_type": "execute_result",
          "data": {
            "text/plain": [
              "<seaborn.axisgrid.FacetGrid at 0x7f8f4fb59a90>"
            ]
          },
          "metadata": {},
          "execution_count": 40
        },
        {
          "output_type": "display_data",
          "data": {
            "text/plain": [
              "<Figure size 887.025x595.44 with 1 Axes>"
            ],
            "image/png": "[encoded data removed]"
          },
          "metadata": {
            "needs_background": "light"
          }
        }
      ]
    },
    {
      "cell_type": "code",
      "source": [],
      "metadata": {
        "id": "ubaFU2cDkhYZ"
      },
      "execution_count": null,
      "outputs": []
    }
  ]
}