{
  "cells": [
    {
      "cell_type": "markdown",
      "metadata": {
        "id": "view-in-github",
        "colab_type": "text"
      },
      "source": [
        "<a href=\"https://colab.research.google.com/github/mharrisonbaker/samplework/blob/master/classifier_and_cluster.ipynb\" target=\"_parent\"><img src=\"https://colab.research.google.com/assets/colab-badge.svg\" alt=\"Open In Colab\"/></a>"
      ]
    },
    {
      "cell_type": "markdown",
      "metadata": {
        "id": "m85WiY7JUYky"
      },
      "source": [
        "# Challege 1: Patent Classification problem"
      ]
    },
    {
      "cell_type": "markdown",
      "source": [
        "Build a model to predict CPC class - In the first challenge, you are expected to develop a patent classifier for CPC class prediction. For this challenge, we are only interested in classifying patents into CPC sections (first letter only)."
      ],
      "metadata": {
        "id": "4QeRTclCeOan"
      }
    },
    {
      "cell_type": "markdown",
      "metadata": {
        "id": "idSq2kXkUYkz"
      },
      "source": [
        "## Load libraries"
      ]
    },
    {
      "cell_type": "code",
      "source": [
        "from google.colab import drive\n",
        "drive.mount('/content/drive')"
      ],
      "metadata": {
        "colab": {
          "base_uri": "https://localhost:8080/"
        },
        "id": "HmS139mGUqx6",
        "outputId": "98b73576-273e-4f96-c6de-40a25f306292"
      },
      "execution_count": 8,
      "outputs": [
        {
          "output_type": "stream",
          "name": "stdout",
          "text": [
            "Drive already mounted at /content/drive; to attempt to forcibly remount, call drive.mount(\"/content/drive\", force_remount=True).\n"
          ]
        }
      ]
    },
    {
      "cell_type": "code",
      "execution_count": 9,
      "metadata": {
        "colab": {
          "base_uri": "https://localhost:8080/"
        },
        "id": "NoGyHUJxUYk0",
        "outputId": "141f0cad-b380-4723-d892-d9f2c3d768d8"
      },
      "outputs": [
        {
          "output_type": "stream",
          "name": "stdout",
          "text": [
            "[nltk_data] Downloading package stopwords to /root/nltk_data...\n",
            "[nltk_data]   Package stopwords is already up-to-date!\n"
          ]
        }
      ],
      "source": [
        "#libraries\n",
        "import pandas as pd\n",
        "import numpy as np\n",
        "import matplotlib.pyplot as plt\n",
        "import re\n",
        "import nltk\n",
        "import string\n",
        "\n",
        "nltk.download('stopwords')\n",
        "\n",
        "from sklearn.datasets import load_files #used\n",
        "\n",
        "from sklearn.preprocessing import LabelEncoder\n",
        "\n",
        "from sklearn.svm import LinearSVC# used\n",
        "from sklearn.metrics import f1_score #used\n",
        "from sklearn.metrics import accuracy_score #used\n",
        "from sklearn.metrics import confusion_matrix #used\n",
        "from sklearn.metrics import plot_confusion_matrix #used\n",
        "from sklearn.metrics import classification_report #used\n",
        "from sklearn.metrics.cluster import contingency_matrix #used\n",
        "\n",
        "from sklearn.feature_extraction.text import CountVectorizer #used\n",
        "from sklearn.feature_extraction.text import TfidfTransformer #used\n",
        "from sklearn.feature_extraction.text import TfidfVectorizer #used\n",
        "\n",
        "from sklearn.preprocessing import FunctionTransformer\n",
        "\n",
        "from sklearn.linear_model import SGDClassifier\n",
        "\n",
        "from sklearn.model_selection import train_test_split #used\n",
        "from sklearn.model_selection import cross_val_score #used\n",
        "from sklearn.model_selection import train_test_split #used\n",
        "# from sklearn.pipeline import Pipeline\n",
        "# from sklearn.semi_supervised import LabelSpreading\n",
        "\n",
        "\n",
        "from nltk.corpus import stopwords\n",
        "from nltk.stem import SnowballStemmer\n"
      ]
    },
    {
      "cell_type": "markdown",
      "metadata": {
        "id": "XNdxqSn1UYk2"
      },
      "source": [
        "## Import data and data exploration"
      ]
    },
    {
      "cell_type": "code",
      "execution_count": 10,
      "metadata": {
        "id": "gxzSCPFUUYk2"
      },
      "outputs": [],
      "source": [
        "#import data\n",
        "df=pd.read_csv('/content/NLP_Challenge_Patent_List.csv')"
      ]
    },
    {
      "cell_type": "code",
      "execution_count": 11,
      "metadata": {
        "id": "Nd-ACf1oUYk2",
        "colab": {
          "base_uri": "https://localhost:8080/",
          "height": 363
        },
        "outputId": "f30b3887-47d1-468f-bca1-1e6cacffbce9"
      },
      "outputs": [
        {
          "output_type": "execute_result",
          "data": {
            "text/plain": [
              "  Patent Number Filing Date  \\\n",
              "0   US7484245B1     9/29/00   \n",
              "1   US7526762B1     9/11/00   \n",
              "2   US7523617B2    10/22/04   \n",
              "3   US7523191B1      6/2/00   \n",
              "4   US7502876B1     6/23/00   \n",
              "5   US7526466B2     8/15/06   \n",
              "6   US7631692B2      4/8/09   \n",
              "7   US7487339B2    10/12/01   \n",
              "8   US7490295B2     6/25/04   \n",
              "9   US7617870B1     5/14/08   \n",
              "\n",
              "                                               Title  \\\n",
              "0      System and method for providing data security   \n",
              "1  Network with mobile terminals as browsers havi...   \n",
              "2  Thin film thermoelectric devices for hot-spot ...   \n",
              "3  System and method for monitoring user interact...   \n",
              "4  Background memory manager that determines if d...   \n",
              "5  Method and system for analysis of intended mea...   \n",
              "6  Settable compositions comprising a natural poz...   \n",
              "7  Method and apparatus for binding shadow regist...   \n",
              "8        Layer for accessing user interface elements   \n",
              "9  Extended cement compositions comprising oil-sw...   \n",
              "\n",
              "                                            Abstract      Main CPC  \\\n",
              "0  \" A system and method protects security of dat...  G06F 21/6209   \n",
              "1  \" A system and method are provided that allow ...     G06F 8/33   \n",
              "2  \" A structure, system and method for controlli...    F25B 21/02   \n",
              "3  \" A system for monitoring usage of an electron...  G06F 11/3495   \n",
              "4  \" A background memory manager (BMM) for managi...   G06F 12/023   \n",
              "5  \" A computer implemented data processor system...    G06F 40/30   \n",
              "6  \" An embodiment of a method of cementing compr...    C04B 28/04   \n",
              "7  \" A method and apparatus within a processing s...   G06F 9/4812   \n",
              "8  \" A user-activatable dashboard contains any nu...  G06F 3/04847   \n",
              "9  \" A variety of methods and compositions are di...    C09K 8/467   \n",
              "\n",
              "  Main CPC Section  \n",
              "0                G  \n",
              "1                G  \n",
              "2                F  \n",
              "3                G  \n",
              "4                G  \n",
              "5                G  \n",
              "6                C  \n",
              "7                G  \n",
              "8                G  \n",
              "9                C  "
            ],
            "text/html": [
              "\n",
              "  <div id=\"df-05467c06-9f16-4569-8d04-3e8ee440297c\">\n",
              "    <div class=\"colab-df-container\">\n",
              "      <div>\n",
              "<style scoped>\n",
              "    .dataframe tbody tr th:only-of-type {\n",
              "        vertical-align: middle;\n",
              "    }\n",
              "\n",
              "    .dataframe tbody tr th {\n",
              "        vertical-align: top;\n",
              "    }\n",
              "\n",
              "    .dataframe thead th {\n",
              "        text-align: right;\n",
              "    }\n",
              "</style>\n",
              "<table border=\"1\" class=\"dataframe\">\n",
              "  <thead>\n",
              "    <tr style=\"text-align: right;\">\n",
              "      <th></th>\n",
              "      <th>Patent Number</th>\n",
              "      <th>Filing Date</th>\n",
              "      <th>Title</th>\n",
              "      <th>Abstract</th>\n",
              "      <th>Main CPC</th>\n",
              "      <th>Main CPC Section</th>\n",
              "    </tr>\n",
              "  </thead>\n",
              "  <tbody>\n",
              "    <tr>\n",
              "      <th>0</th>\n",
              "      <td>US7484245B1</td>\n",
              "      <td>9/29/00</td>\n",
              "      <td>System and method for providing data security</td>\n",
              "      <td>\" A system and method protects security of dat...</td>\n",
              "      <td>G06F 21/6209</td>\n",
              "      <td>G</td>\n",
              "    </tr>\n",
              "    <tr>\n",
              "      <th>1</th>\n",
              "      <td>US7526762B1</td>\n",
              "      <td>9/11/00</td>\n",
              "      <td>Network with mobile terminals as browsers havi...</td>\n",
              "      <td>\" A system and method are provided that allow ...</td>\n",
              "      <td>G06F 8/33</td>\n",
              "      <td>G</td>\n",
              "    </tr>\n",
              "    <tr>\n",
              "      <th>2</th>\n",
              "      <td>US7523617B2</td>\n",
              "      <td>10/22/04</td>\n",
              "      <td>Thin film thermoelectric devices for hot-spot ...</td>\n",
              "      <td>\" A structure, system and method for controlli...</td>\n",
              "      <td>F25B 21/02</td>\n",
              "      <td>F</td>\n",
              "    </tr>\n",
              "    <tr>\n",
              "      <th>3</th>\n",
              "      <td>US7523191B1</td>\n",
              "      <td>6/2/00</td>\n",
              "      <td>System and method for monitoring user interact...</td>\n",
              "      <td>\" A system for monitoring usage of an electron...</td>\n",
              "      <td>G06F 11/3495</td>\n",
              "      <td>G</td>\n",
              "    </tr>\n",
              "    <tr>\n",
              "      <th>4</th>\n",
              "      <td>US7502876B1</td>\n",
              "      <td>6/23/00</td>\n",
              "      <td>Background memory manager that determines if d...</td>\n",
              "      <td>\" A background memory manager (BMM) for managi...</td>\n",
              "      <td>G06F 12/023</td>\n",
              "      <td>G</td>\n",
              "    </tr>\n",
              "    <tr>\n",
              "      <th>5</th>\n",
              "      <td>US7526466B2</td>\n",
              "      <td>8/15/06</td>\n",
              "      <td>Method and system for analysis of intended mea...</td>\n",
              "      <td>\" A computer implemented data processor system...</td>\n",
              "      <td>G06F 40/30</td>\n",
              "      <td>G</td>\n",
              "    </tr>\n",
              "    <tr>\n",
              "      <th>6</th>\n",
              "      <td>US7631692B2</td>\n",
              "      <td>4/8/09</td>\n",
              "      <td>Settable compositions comprising a natural poz...</td>\n",
              "      <td>\" An embodiment of a method of cementing compr...</td>\n",
              "      <td>C04B 28/04</td>\n",
              "      <td>C</td>\n",
              "    </tr>\n",
              "    <tr>\n",
              "      <th>7</th>\n",
              "      <td>US7487339B2</td>\n",
              "      <td>10/12/01</td>\n",
              "      <td>Method and apparatus for binding shadow regist...</td>\n",
              "      <td>\" A method and apparatus within a processing s...</td>\n",
              "      <td>G06F 9/4812</td>\n",
              "      <td>G</td>\n",
              "    </tr>\n",
              "    <tr>\n",
              "      <th>8</th>\n",
              "      <td>US7490295B2</td>\n",
              "      <td>6/25/04</td>\n",
              "      <td>Layer for accessing user interface elements</td>\n",
              "      <td>\" A user-activatable dashboard contains any nu...</td>\n",
              "      <td>G06F 3/04847</td>\n",
              "      <td>G</td>\n",
              "    </tr>\n",
              "    <tr>\n",
              "      <th>9</th>\n",
              "      <td>US7617870B1</td>\n",
              "      <td>5/14/08</td>\n",
              "      <td>Extended cement compositions comprising oil-sw...</td>\n",
              "      <td>\" A variety of methods and compositions are di...</td>\n",
              "      <td>C09K 8/467</td>\n",
              "      <td>C</td>\n",
              "    </tr>\n",
              "  </tbody>\n",
              "</table>\n",
              "</div>\n",
              "      <button class=\"colab-df-convert\" onclick=\"convertToInteractive('df-05467c06-9f16-4569-8d04-3e8ee440297c')\"\n",
              "              title=\"Convert this dataframe to an interactive table.\"\n",
              "              style=\"display:none;\">\n",
              "        \n",
              "  <svg xmlns=\"http://www.w3.org/2000/svg\" height=\"24px\"viewBox=\"0 0 24 24\"\n",
              "       width=\"24px\">\n",
              "    <path d=\"M0 0h24v24H0V0z\" fill=\"none\"/>\n",
              "    <path d=\"M18.56 5.44l.94 2.06.94-2.06 2.06-.94-2.06-.94-.94-2.06-.94 2.06-2.06.94zm-11 1L8.5 8.5l.94-2.06 2.06-.94-2.06-.94L8.5 2.5l-.94 2.06-2.06.94zm10 10l.94 2.06.94-2.06 2.06-.94-2.06-.94-.94-2.06-.94 2.06-2.06.94z\"/><path d=\"M17.41 7.96l-1.37-1.37c-.4-.4-.92-.59-1.43-.59-.52 0-1.04.2-1.43.59L10.3 9.45l-7.72 7.72c-.78.78-.78 2.05 0 2.83L4 21.41c.39.39.9.59 1.41.59.51 0 1.02-.2 1.41-.59l7.78-7.78 2.81-2.81c.8-.78.8-2.07 0-2.86zM5.41 20L4 18.59l7.72-7.72 1.47 1.35L5.41 20z\"/>\n",
              "  </svg>\n",
              "      </button>\n",
              "      \n",
              "  <style>\n",
              "    .colab-df-container {\n",
              "      display:flex;\n",
              "      flex-wrap:wrap;\n",
              "      gap: 12px;\n",
              "    }\n",
              "\n",
              "    .colab-df-convert {\n",
              "      background-color: #E8F0FE;\n",
              "      border: none;\n",
              "      border-radius: 50%;\n",
              "      cursor: pointer;\n",
              "      display: none;\n",
              "      fill: #1967D2;\n",
              "      height: 32px;\n",
              "      padding: 0 0 0 0;\n",
              "      width: 32px;\n",
              "    }\n",
              "\n",
              "    .colab-df-convert:hover {\n",
              "      background-color: #E2EBFA;\n",
              "      box-shadow: 0px 1px 2px rgba(60, 64, 67, 0.3), 0px 1px 3px 1px rgba(60, 64, 67, 0.15);\n",
              "      fill: #174EA6;\n",
              "    }\n",
              "\n",
              "    [theme=dark] .colab-df-convert {\n",
              "      background-color: #3B4455;\n",
              "      fill: #D2E3FC;\n",
              "    }\n",
              "\n",
              "    [theme=dark] .colab-df-convert:hover {\n",
              "      background-color: #434B5C;\n",
              "      box-shadow: 0px 1px 3px 1px rgba(0, 0, 0, 0.15);\n",
              "      filter: drop-shadow(0px 1px 2px rgba(0, 0, 0, 0.3));\n",
              "      fill: #FFFFFF;\n",
              "    }\n",
              "  </style>\n",
              "\n",
              "      <script>\n",
              "        const buttonEl =\n",
              "          document.querySelector('#df-05467c06-9f16-4569-8d04-3e8ee440297c button.colab-df-convert');\n",
              "        buttonEl.style.display =\n",
              "          google.colab.kernel.accessAllowed ? 'block' : 'none';\n",
              "\n",
              "        async function convertToInteractive(key) {\n",
              "          const element = document.querySelector('#df-05467c06-9f16-4569-8d04-3e8ee440297c');\n",
              "          const dataTable =\n",
              "            await google.colab.kernel.invokeFunction('convertToInteractive',\n",
              "                                                     [key], {});\n",
              "          if (!dataTable) return;\n",
              "\n",
              "          const docLinkHtml = 'Like what you see? Visit the ' +\n",
              "            '<a target=\"_blank\" href=https://colab.research.google.com/notebooks/data_table.ipynb>data table notebook</a>'\n",
              "            + ' to learn more about interactive tables.';\n",
              "          element.innerHTML = '';\n",
              "          dataTable['output_type'] = 'display_data';\n",
              "          await google.colab.output.renderOutput(dataTable, element);\n",
              "          const docLink = document.createElement('div');\n",
              "          docLink.innerHTML = docLinkHtml;\n",
              "          element.appendChild(docLink);\n",
              "        }\n",
              "      </script>\n",
              "    </div>\n",
              "  </div>\n",
              "  "
            ]
          },
          "metadata": {},
          "execution_count": 11
        }
      ],
      "source": [
        "#quick view of data\n",
        "df.head(10)"
      ]
    },
    {
      "cell_type": "code",
      "execution_count": 12,
      "metadata": {
        "id": "Neev5wQDUYk3"
      },
      "outputs": [],
      "source": [
        "#replace blank rows with nan\n",
        "df['Main CPC Section'].replace('', np.nan, inplace=True)"
      ]
    },
    {
      "cell_type": "code",
      "execution_count": 13,
      "metadata": {
        "id": "liHGYAi_UYk3"
      },
      "outputs": [],
      "source": [
        "#drop nan rows\n",
        "df.dropna(inplace=True)"
      ]
    },
    {
      "cell_type": "code",
      "execution_count": 14,
      "metadata": {
        "id": "4PHi-6w-UYk3",
        "colab": {
          "base_uri": "https://localhost:8080/",
          "height": 175
        },
        "outputId": "dcd41c01-36e0-48bd-a732-008f0a2ad032"
      },
      "outputs": [
        {
          "output_type": "execute_result",
          "data": {
            "text/plain": [
              "       Patent Number Filing Date           Title  \\\n",
              "count           3715        3715            3715   \n",
              "unique          3715        1418            3661   \n",
              "top      US7484245B1    12/29/05  Heat exchanger   \n",
              "freq               1          12               5   \n",
              "\n",
              "                                                 Abstract    Main CPC  \\\n",
              "count                                                3715        3715   \n",
              "unique                                               3690        1370   \n",
              "top     \" A first software entity occupies a portion o...  G06F 30/33   \n",
              "freq                                                    3          33   \n",
              "\n",
              "       Main CPC Section  \n",
              "count              3715  \n",
              "unique                8  \n",
              "top                   G  \n",
              "freq               3048  "
            ],
            "text/html": [
              "\n",
              "  <div id=\"df-9d27e97f-dfc7-4438-a423-948647bfced9\">\n",
              "    <div class=\"colab-df-container\">\n",
              "      <div>\n",
              "<style scoped>\n",
              "    .dataframe tbody tr th:only-of-type {\n",
              "        vertical-align: middle;\n",
              "    }\n",
              "\n",
              "    .dataframe tbody tr th {\n",
              "        vertical-align: top;\n",
              "    }\n",
              "\n",
              "    .dataframe thead th {\n",
              "        text-align: right;\n",
              "    }\n",
              "</style>\n",
              "<table border=\"1\" class=\"dataframe\">\n",
              "  <thead>\n",
              "    <tr style=\"text-align: right;\">\n",
              "      <th></th>\n",
              "      <th>Patent Number</th>\n",
              "      <th>Filing Date</th>\n",
              "      <th>Title</th>\n",
              "      <th>Abstract</th>\n",
              "      <th>Main CPC</th>\n",
              "      <th>Main CPC Section</th>\n",
              "    </tr>\n",
              "  </thead>\n",
              "  <tbody>\n",
              "    <tr>\n",
              "      <th>count</th>\n",
              "      <td>3715</td>\n",
              "      <td>3715</td>\n",
              "      <td>3715</td>\n",
              "      <td>3715</td>\n",
              "      <td>3715</td>\n",
              "      <td>3715</td>\n",
              "    </tr>\n",
              "    <tr>\n",
              "      <th>unique</th>\n",
              "      <td>3715</td>\n",
              "      <td>1418</td>\n",
              "      <td>3661</td>\n",
              "      <td>3690</td>\n",
              "      <td>1370</td>\n",
              "      <td>8</td>\n",
              "    </tr>\n",
              "    <tr>\n",
              "      <th>top</th>\n",
              "      <td>US7484245B1</td>\n",
              "      <td>12/29/05</td>\n",
              "      <td>Heat exchanger</td>\n",
              "      <td>\" A first software entity occupies a portion o...</td>\n",
              "      <td>G06F 30/33</td>\n",
              "      <td>G</td>\n",
              "    </tr>\n",
              "    <tr>\n",
              "      <th>freq</th>\n",
              "      <td>1</td>\n",
              "      <td>12</td>\n",
              "      <td>5</td>\n",
              "      <td>3</td>\n",
              "      <td>33</td>\n",
              "      <td>3048</td>\n",
              "    </tr>\n",
              "  </tbody>\n",
              "</table>\n",
              "</div>\n",
              "      <button class=\"colab-df-convert\" onclick=\"convertToInteractive('df-9d27e97f-dfc7-4438-a423-948647bfced9')\"\n",
              "              title=\"Convert this dataframe to an interactive table.\"\n",
              "              style=\"display:none;\">\n",
              "        \n",
              "  <svg xmlns=\"http://www.w3.org/2000/svg\" height=\"24px\"viewBox=\"0 0 24 24\"\n",
              "       width=\"24px\">\n",
              "    <path d=\"M0 0h24v24H0V0z\" fill=\"none\"/>\n",
              "    <path d=\"M18.56 5.44l.94 2.06.94-2.06 2.06-.94-2.06-.94-.94-2.06-.94 2.06-2.06.94zm-11 1L8.5 8.5l.94-2.06 2.06-.94-2.06-.94L8.5 2.5l-.94 2.06-2.06.94zm10 10l.94 2.06.94-2.06 2.06-.94-2.06-.94-.94-2.06-.94 2.06-2.06.94z\"/><path d=\"M17.41 7.96l-1.37-1.37c-.4-.4-.92-.59-1.43-.59-.52 0-1.04.2-1.43.59L10.3 9.45l-7.72 7.72c-.78.78-.78 2.05 0 2.83L4 21.41c.39.39.9.59 1.41.59.51 0 1.02-.2 1.41-.59l7.78-7.78 2.81-2.81c.8-.78.8-2.07 0-2.86zM5.41 20L4 18.59l7.72-7.72 1.47 1.35L5.41 20z\"/>\n",
              "  </svg>\n",
              "      </button>\n",
              "      \n",
              "  <style>\n",
              "    .colab-df-container {\n",
              "      display:flex;\n",
              "      flex-wrap:wrap;\n",
              "      gap: 12px;\n",
              "    }\n",
              "\n",
              "    .colab-df-convert {\n",
              "      background-color: #E8F0FE;\n",
              "      border: none;\n",
              "      border-radius: 50%;\n",
              "      cursor: pointer;\n",
              "      display: none;\n",
              "      fill: #1967D2;\n",
              "      height: 32px;\n",
              "      padding: 0 0 0 0;\n",
              "      width: 32px;\n",
              "    }\n",
              "\n",
              "    .colab-df-convert:hover {\n",
              "      background-color: #E2EBFA;\n",
              "      box-shadow: 0px 1px 2px rgba(60, 64, 67, 0.3), 0px 1px 3px 1px rgba(60, 64, 67, 0.15);\n",
              "      fill: #174EA6;\n",
              "    }\n",
              "\n",
              "    [theme=dark] .colab-df-convert {\n",
              "      background-color: #3B4455;\n",
              "      fill: #D2E3FC;\n",
              "    }\n",
              "\n",
              "    [theme=dark] .colab-df-convert:hover {\n",
              "      background-color: #434B5C;\n",
              "      box-shadow: 0px 1px 3px 1px rgba(0, 0, 0, 0.15);\n",
              "      filter: drop-shadow(0px 1px 2px rgba(0, 0, 0, 0.3));\n",
              "      fill: #FFFFFF;\n",
              "    }\n",
              "  </style>\n",
              "\n",
              "      <script>\n",
              "        const buttonEl =\n",
              "          document.querySelector('#df-9d27e97f-dfc7-4438-a423-948647bfced9 button.colab-df-convert');\n",
              "        buttonEl.style.display =\n",
              "          google.colab.kernel.accessAllowed ? 'block' : 'none';\n",
              "\n",
              "        async function convertToInteractive(key) {\n",
              "          const element = document.querySelector('#df-9d27e97f-dfc7-4438-a423-948647bfced9');\n",
              "          const dataTable =\n",
              "            await google.colab.kernel.invokeFunction('convertToInteractive',\n",
              "                                                     [key], {});\n",
              "          if (!dataTable) return;\n",
              "\n",
              "          const docLinkHtml = 'Like what you see? Visit the ' +\n",
              "            '<a target=\"_blank\" href=https://colab.research.google.com/notebooks/data_table.ipynb>data table notebook</a>'\n",
              "            + ' to learn more about interactive tables.';\n",
              "          element.innerHTML = '';\n",
              "          dataTable['output_type'] = 'display_data';\n",
              "          await google.colab.output.renderOutput(dataTable, element);\n",
              "          const docLink = document.createElement('div');\n",
              "          docLink.innerHTML = docLinkHtml;\n",
              "          element.appendChild(docLink);\n",
              "        }\n",
              "      </script>\n",
              "    </div>\n",
              "  </div>\n",
              "  "
            ]
          },
          "metadata": {},
          "execution_count": 14
        }
      ],
      "source": [
        "#check to see if all rows are unique\n",
        "df.describe()"
      ]
    },
    {
      "cell_type": "code",
      "execution_count": 15,
      "metadata": {
        "id": "O1f1ZRKNUYk3",
        "colab": {
          "base_uri": "https://localhost:8080/"
        },
        "outputId": "c8555d77-dfc3-49a4-fbbf-bfd58f0e99f6"
      },
      "outputs": [
        {
          "output_type": "execute_result",
          "data": {
            "text/plain": [
              "G    3048\n",
              "C     289\n",
              "F     170\n",
              "A      96\n",
              "H      70\n",
              "E      22\n",
              "B      17\n",
              "D       3\n",
              "Name: Main CPC Section, dtype: int64"
            ]
          },
          "metadata": {},
          "execution_count": 15
        }
      ],
      "source": [
        "#frequency counts of Main CPC Section\n",
        "df['Main CPC Section'].value_counts()\n",
        "\n",
        "#this data is unbalanced so will have to stratify test/train\n",
        "#imbalanced multiclass classification problem (severe class imbalance)"
      ]
    },
    {
      "cell_type": "code",
      "execution_count": 16,
      "metadata": {
        "id": "sf_LeWa8UYk4",
        "colab": {
          "base_uri": "https://localhost:8080/"
        },
        "outputId": "11a3d56c-f9a4-4151-ca5f-acaba7b7e6c9"
      },
      "outputs": [
        {
          "output_type": "execute_result",
          "data": {
            "text/plain": [
              "G06F 30/33      33\n",
              "G06F 30/30      32\n",
              "G06F 30/367     30\n",
              "G06F 30/3312    27\n",
              "G06F 12/0862    24\n",
              "                ..\n",
              "A01C 21/00       1\n",
              "G01R 33/31       1\n",
              "G06F 7/507       1\n",
              "G06F 12/0808     1\n",
              "F25B 39/026      1\n",
              "Name: Main CPC, Length: 1370, dtype: int64"
            ]
          },
          "metadata": {},
          "execution_count": 16
        }
      ],
      "source": [
        "df['Main CPC'].value_counts()"
      ]
    },
    {
      "cell_type": "code",
      "execution_count": 17,
      "metadata": {
        "scrolled": true,
        "id": "elIvDhNMUYk4"
      },
      "outputs": [],
      "source": [
        "# #preprocess text (did not need this)\n",
        "\n",
        "# #clean patent numbers\n",
        "# df['Patent Number'] = df.apply(lambda x: x['Patent Number'][:-2], axis =1)\n",
        "# df['Patent Number'] = df.apply(lambda x: x['Patent Number'][2:], axis =1)"
      ]
    },
    {
      "cell_type": "code",
      "execution_count": 18,
      "metadata": {
        "id": "ratTdoEaUYk5"
      },
      "outputs": [],
      "source": [
        "# #shrink Main CPC (did not need this)\n",
        "# df['Main CPC'] = df['Main CPC'].str[:4]\n",
        "# df.head()"
      ]
    },
    {
      "cell_type": "markdown",
      "metadata": {
        "id": "-60a2nhiUYk5"
      },
      "source": [
        "## Data preprocessing and Feature Engineering"
      ]
    },
    {
      "cell_type": "code",
      "execution_count": 19,
      "metadata": {
        "id": "rKYKPBOAUYk5"
      },
      "outputs": [],
      "source": [
        "#drop filing dates\n",
        "df = df.drop(['Filing Date'], axis = 1)"
      ]
    },
    {
      "cell_type": "code",
      "execution_count": 20,
      "metadata": {
        "id": "CXQXwuD2UYk5"
      },
      "outputs": [],
      "source": [
        "#set up stemming\n",
        "# new_stopwords = ['System', 'method'] (i ended up not doing this because bc it did not seem to have an effect)\n",
        "stemmer = SnowballStemmer('english')"
      ]
    },
    {
      "cell_type": "code",
      "execution_count": 21,
      "metadata": {
        "id": "VCWB2KFBUYk6"
      },
      "outputs": [],
      "source": [
        "# def preprocess (text, stem=False):\n",
        "#     tokens=[]\n",
        "#     for token in text.split():\n",
        "#         if token not in stop_words:\n",
        "#             if stem:\n",
        "#                 tokens.append(stemmer.stem(token))\n",
        "#             else:\n",
        "#                 tokens.append(token)\n",
        "#     return \" \".join(tokens)"
      ]
    },
    {
      "cell_type": "code",
      "execution_count": 22,
      "metadata": {
        "id": "ne9AMGo3UYk6"
      },
      "outputs": [],
      "source": [
        "# #remove stop words\n",
        "stop_words = stopwords.words('english')\n",
        "df['Abstract'] = df['Abstract'].apply(lambda x: ' '.join([word for word in x.split() if word not in (stop_words)]))\n",
        "df['Title'] = df['Title'].apply(lambda x: ' '.join([word for word in x.split() if word not in (stop_words)]))"
      ]
    },
    {
      "cell_type": "code",
      "execution_count": 23,
      "metadata": {
        "id": "ZSZvobREUYk6"
      },
      "outputs": [],
      "source": [
        "#remove punctuation\n",
        "punct = '!\"#$%&\\'()*+,-./:;<=>?@[\\\\]^_`{}~'   # `|` is not present here\n",
        "transtab = str.maketrans(dict.fromkeys(punct, ''))\n",
        "\n",
        "df['Abstract'] = '|'.join(df['Abstract'].tolist()).translate(transtab).split('|')\n",
        "df['Title'] = '|'.join(df['Title'].tolist()).translate(transtab).split('|')"
      ]
    },
    {
      "cell_type": "code",
      "execution_count": 24,
      "metadata": {
        "id": "GN8WL6VQUYk7"
      },
      "outputs": [],
      "source": [
        "df['Abstract']=df['Abstract'].str.lower()\n",
        "df['Title']=df['Title'].str.lower()"
      ]
    },
    {
      "cell_type": "code",
      "execution_count": 25,
      "metadata": {
        "id": "98fxDrPRUYk7"
      },
      "outputs": [],
      "source": [
        "df['ClassText']=df['Title']+df['Abstract']"
      ]
    },
    {
      "cell_type": "code",
      "execution_count": 26,
      "metadata": {
        "id": "RuN5Cnw3UYk7"
      },
      "outputs": [],
      "source": [
        "# print(df.ClassText.str.split(expand=True).stack().value_counts())"
      ]
    },
    {
      "cell_type": "markdown",
      "metadata": {
        "id": "O6fopACXUYk7"
      },
      "source": [
        "## Model training and testing"
      ]
    },
    {
      "cell_type": "markdown",
      "metadata": {
        "id": "XJU3k83yUYk8"
      },
      "source": [
        "### Train test split"
      ]
    },
    {
      "cell_type": "code",
      "execution_count": 27,
      "metadata": {
        "id": "e_NdpZBCUYk8",
        "colab": {
          "base_uri": "https://localhost:8080/"
        },
        "outputId": "badfbb02-a04d-4a9b-f167-d895a398f9f9"
      },
      "outputs": [
        {
          "output_type": "stream",
          "name": "stdout",
          "text": [
            "Size of Training Data  2972\n",
            "Size of Test Data  743\n"
          ]
        }
      ],
      "source": [
        "#test train split 80/20, stratified to maintain the proportions of Main CPC section\n",
        "\n",
        "X_train, X_test, Y_train, Y_test = train_test_split(df['ClassText'],\n",
        "                                                    df['Main CPC Section'],\n",
        "                                                    test_size=0.2,\n",
        "                                                    random_state=43,\n",
        "                                                    stratify=df['Main CPC Section'])\n",
        "\n",
        "print('Size of Training Data ', X_train.shape[0])\n",
        "print('Size of Test Data ', X_test.shape[0])"
      ]
    },
    {
      "cell_type": "markdown",
      "metadata": {
        "id": "OrRwq5qKUYk8"
      },
      "source": [
        "### Feature Engineering"
      ]
    },
    {
      "cell_type": "code",
      "execution_count": 28,
      "metadata": {
        "id": "2gb0e5FtUYk8"
      },
      "outputs": [],
      "source": [
        "#features will be the tfidf result of the training set...\n",
        "#min_df will be the minimum amount of word occurence, usually trigram is good\n",
        "\n",
        "tfidf = TfidfVectorizer(min_df = 3, ngram_range=(1,2), stop_words=\"english\")\n",
        "\n",
        "#fit the model according to the given training data (tfidf vector)\n",
        "X_train_tf = tfidf.fit_transform(X_train)"
      ]
    },
    {
      "cell_type": "markdown",
      "metadata": {
        "id": "IJubctcmUYk8"
      },
      "source": [
        "### Model selection"
      ]
    },
    {
      "cell_type": "code",
      "execution_count": 29,
      "metadata": {
        "id": "DTb1Mv9oUYk9",
        "colab": {
          "base_uri": "https://localhost:8080/"
        },
        "outputId": "b84fb018-5c18-4c28-8663-7b005f469f4e"
      },
      "outputs": [
        {
          "output_type": "execute_result",
          "data": {
            "text/plain": [
              "LinearSVC(random_state=1, tol=1e-05)"
            ]
          },
          "metadata": {},
          "execution_count": 29
        }
      ],
      "source": [
        "#choosing LinearSVC as the model, it's more suitable to sparse data (the small CPC classes) and smaller datasets\n",
        "modelSVCL = LinearSVC(random_state=1, tol=1e-5)\n",
        "modelSVCL.fit(X_train_tf, Y_train)"
      ]
    },
    {
      "cell_type": "code",
      "execution_count": 30,
      "metadata": {
        "id": "w4pEzfytUYk9",
        "colab": {
          "base_uri": "https://localhost:8080/"
        },
        "outputId": "49cb3296-aef6-4057-e4ca-1cfa8fda8910"
      },
      "outputs": [
        {
          "output_type": "stream",
          "name": "stdout",
          "text": [
            "Accuracy Score -  0.9367429340511441\n"
          ]
        }
      ],
      "source": [
        "X_test_tf = tfidf.transform(X_test)\n",
        "\n",
        "Y_pred = modelSVCL.predict(X_test_tf)\n",
        "print ('Accuracy Score - ', accuracy_score(Y_test, Y_pred))"
      ]
    },
    {
      "cell_type": "markdown",
      "metadata": {
        "id": "UtFYU1p1UYk9"
      },
      "source": [
        "### Results "
      ]
    },
    {
      "cell_type": "code",
      "execution_count": 31,
      "metadata": {
        "id": "PUrxrRuLUYk9",
        "colab": {
          "base_uri": "https://localhost:8080/"
        },
        "outputId": "0ce0f0ed-3719-4677-b3c9-55ea6bf92872"
      },
      "outputs": [
        {
          "output_type": "execute_result",
          "data": {
            "text/plain": [
              "array([[ 13,   0,   0,   0,   0,   0,   6,   0],\n",
              "       [  0,   0,   0,   0,   0,   0,   3,   0],\n",
              "       [  0,   0,  54,   0,   0,   0,   3,   1],\n",
              "       [  0,   0,   1,   0,   0,   0,   0,   0],\n",
              "       [  0,   0,   3,   0,   0,   1,   0,   0],\n",
              "       [  1,   0,   2,   0,   0,  20,  11,   0],\n",
              "       [  0,   0,   0,   0,   0,   1, 609,   0],\n",
              "       [  1,   0,   8,   0,   0,   1,   4,   0]])"
            ]
          },
          "metadata": {},
          "execution_count": 31
        }
      ],
      "source": [
        "#in the form of confusion matrix\n",
        "Y_pred = modelSVCL.predict(X_test_tf)\n",
        "confusion_matrix(Y_test, Y_pred)"
      ]
    },
    {
      "cell_type": "code",
      "execution_count": 32,
      "metadata": {
        "id": "ucon3RCLUYk-",
        "colab": {
          "base_uri": "https://localhost:8080/",
          "height": 0
        },
        "outputId": "cd8f3df1-780b-4518-9c1a-767858a3c004"
      },
      "outputs": [
        {
          "output_type": "stream",
          "name": "stderr",
          "text": [
            "/usr/local/lib/python3.7/dist-packages/sklearn/utils/deprecation.py:87: FutureWarning: Function plot_confusion_matrix is deprecated; Function `plot_confusion_matrix` is deprecated in 1.0 and will be removed in 1.2. Use one of the class methods: ConfusionMatrixDisplay.from_predictions or ConfusionMatrixDisplay.from_estimator.\n",
            "  warnings.warn(msg, category=FutureWarning)\n"
          ]
        },
        {
          "output_type": "display_data",
          "data": {
            "text/plain": [
              "<Figure size 432x288 with 2 Axes>"
            ],
            "image/png": "[encoded data removed]"
          },
          "metadata": {
            "needs_background": "light"
          }
        }
      ],
      "source": [
        "#this will plot true vs predicted CPC label, darker blues are higher occurrence\n",
        "\n",
        "plot_confusion_matrix(modelSVCL,X_test_tf,\n",
        "                      Y_test, values_format='d',\n",
        "                      cmap=plt.cm.Blues)\n",
        "plt.show()"
      ]
    },
    {
      "cell_type": "code",
      "execution_count": 33,
      "metadata": {
        "id": "WUYryPPFUYk-",
        "colab": {
          "base_uri": "https://localhost:8080/"
        },
        "outputId": "c27d6283-bc42-4be2-c9f7-6adf00c280f6"
      },
      "outputs": [
        {
          "output_type": "stream",
          "name": "stdout",
          "text": [
            "              precision    recall  f1-score   support\n",
            "\n",
            "           A       0.87      0.68      0.76        19\n",
            "           B       0.00      0.00      0.00         3\n",
            "           C       0.79      0.93      0.86        58\n",
            "           D       0.00      0.00      0.00         1\n",
            "           E       0.00      0.00      0.00         4\n",
            "           F       0.87      0.59      0.70        34\n",
            "           G       0.96      1.00      0.98       610\n",
            "           H       0.00      0.00      0.00        14\n",
            "\n",
            "    accuracy                           0.94       743\n",
            "   macro avg       0.44      0.40      0.41       743\n",
            "weighted avg       0.91      0.94      0.92       743\n",
            "\n"
          ]
        },
        {
          "output_type": "stream",
          "name": "stderr",
          "text": [
            "/usr/local/lib/python3.7/dist-packages/sklearn/metrics/_classification.py:1318: UndefinedMetricWarning: Precision and F-score are ill-defined and being set to 0.0 in labels with no predicted samples. Use `zero_division` parameter to control this behavior.\n",
            "  _warn_prf(average, modifier, msg_start, len(result))\n",
            "/usr/local/lib/python3.7/dist-packages/sklearn/metrics/_classification.py:1318: UndefinedMetricWarning: Precision and F-score are ill-defined and being set to 0.0 in labels with no predicted samples. Use `zero_division` parameter to control this behavior.\n",
            "  _warn_prf(average, modifier, msg_start, len(result))\n",
            "/usr/local/lib/python3.7/dist-packages/sklearn/metrics/_classification.py:1318: UndefinedMetricWarning: Precision and F-score are ill-defined and being set to 0.0 in labels with no predicted samples. Use `zero_division` parameter to control this behavior.\n",
            "  _warn_prf(average, modifier, msg_start, len(result))\n"
          ]
        }
      ],
      "source": [
        "#precision is a measure of how many retrieved are relevant\n",
        "#precision= (true positive)/(true pos + false pos)\n",
        "\n",
        "#recall = how many relevant items are retrieved\n",
        "#recall = (true positive)/(true pos + false neg)\n",
        "\n",
        "# f-score is a measure of function accuracy, 1 is best\n",
        "#f-score is a type of mean of these functions\n",
        "\n",
        "#the classifier works very well for G, less so for others\n",
        "\n",
        "print(classification_report(Y_test, Y_pred))"
      ]
    },
    {
      "cell_type": "markdown",
      "metadata": {
        "id": "LK_HN0qnUYk-"
      },
      "source": [
        "## Model Validation"
      ]
    },
    {
      "cell_type": "code",
      "execution_count": 34,
      "metadata": {
        "id": "aLVRdZIwUYk-",
        "colab": {
          "base_uri": "https://localhost:8080/"
        },
        "outputId": "2cf27991-7ef1-4bc7-8eab-57a43b2f8d5f"
      },
      "outputs": [
        {
          "output_type": "stream",
          "name": "stdout",
          "text": [
            "Validation scores from each iteration of the cross validation  [0.92736077 0.93214863 0.93295638]\n",
            "Mean value across of validation scores  0.9308219276319821\n",
            "Standard deviation of validation scores  0.0024695209939204045\n"
          ]
        }
      ],
      "source": [
        "# k-fold cross validation to calculate overall accruacy \n",
        "# the k-fold validation will create a sliding window of the test and train data\n",
        "# essentially swap the X-train data with an average of the k-fold\n",
        "tfidf = TfidfVectorizer(min_df = 2, ngram_range=(1,3), stop_words=\"english\")\n",
        "df_tf = tfidf.fit_transform(df['ClassText']).toarray()\n",
        "\n",
        "#3 folds, higher values of K gave a warning about data sparsity\n",
        "\n",
        "scores = cross_val_score(estimator=modelSVCL,\n",
        "                         X=df_tf,\n",
        "                         y=df['Main CPC Section'],\n",
        "                         cv=3)\n",
        "\n",
        "print (\"Validation scores from each iteration of the cross validation \", scores)\n",
        "print (\"Mean value across of validation scores \", scores.mean())\n",
        "print (\"Standard deviation of validation scores \", scores.std())"
      ]
    },
    {
      "cell_type": "markdown",
      "metadata": {
        "id": "kkqma_7MUYk_"
      },
      "source": [
        "## Possible improvements"
      ]
    },
    {
      "cell_type": "markdown",
      "metadata": {
        "id": "ja4wU30dUYk_"
      },
      "source": [
        "more Feature Exploration\n",
        "\n",
        "Pipelining\n",
        "\n",
        "Grid Search to compare models"
      ]
    },
    {
      "cell_type": "markdown",
      "source": [
        "# Challenge 2: Topic Modeling problem"
      ],
      "metadata": {
        "id": "td8nL4f0sGNe"
      }
    },
    {
      "cell_type": "markdown",
      "source": [
        "Build a topic cluster for patents - In this challenge we will apply topic modeling which can be used to create cluster of terms."
      ],
      "metadata": {
        "id": "LywejqUIeTrl"
      }
    },
    {
      "cell_type": "markdown",
      "source": [
        "## Import Dataset"
      ],
      "metadata": {
        "id": "EUi2u9mLeeNj"
      }
    },
    {
      "cell_type": "code",
      "execution_count": 35,
      "metadata": {
        "id": "Myuc3_nDUYk_",
        "colab": {
          "base_uri": "https://localhost:8080/",
          "height": 0
        },
        "outputId": "d70c95a4-4d74-48f0-8f01-d7384d6658bf"
      },
      "outputs": [
        {
          "output_type": "execute_result",
          "data": {
            "text/plain": [
              "  Patent Number                                              Title  \\\n",
              "0   US7484245B1              system method providing data security   \n",
              "1   US7526762B1  network mobile terminals browsers wireless acc...   \n",
              "2   US7523617B2  thin film thermoelectric devices hotspot therm...   \n",
              "3   US7523191B1  system method monitoring user interaction web ...   \n",
              "4   US7502876B1  background memory manager determines data stru...   \n",
              "\n",
              "                                            Abstract      Main CPC  \\\n",
              "0   a system method protects security data the da...  G06F 21/6209   \n",
              "1   a system method provided allow user perform i...     G06F 8/33   \n",
              "2   a structure system method controlling tempera...    F25B 21/02   \n",
              "3   a system monitoring usage electronic device d...  G06F 11/3495   \n",
              "4   a background memory manager bmm managing memo...   G06F 12/023   \n",
              "\n",
              "  Main CPC Section                                          ClassText  \n",
              "0                G  system method providing data security a system...  \n",
              "1                G  network mobile terminals browsers wireless acc...  \n",
              "2                F  thin film thermoelectric devices hotspot therm...  \n",
              "3                G  system method monitoring user interaction web ...  \n",
              "4                G  background memory manager determines data stru...  "
            ],
            "text/html": [
              "\n",
              "  <div id=\"df-05bee938-20ab-4299-ae9d-4abd54ceba17\">\n",
              "    <div class=\"colab-df-container\">\n",
              "      <div>\n",
              "<style scoped>\n",
              "    .dataframe tbody tr th:only-of-type {\n",
              "        vertical-align: middle;\n",
              "    }\n",
              "\n",
              "    .dataframe tbody tr th {\n",
              "        vertical-align: top;\n",
              "    }\n",
              "\n",
              "    .dataframe thead th {\n",
              "        text-align: right;\n",
              "    }\n",
              "</style>\n",
              "<table border=\"1\" class=\"dataframe\">\n",
              "  <thead>\n",
              "    <tr style=\"text-align: right;\">\n",
              "      <th></th>\n",
              "      <th>Patent Number</th>\n",
              "      <th>Title</th>\n",
              "      <th>Abstract</th>\n",
              "      <th>Main CPC</th>\n",
              "      <th>Main CPC Section</th>\n",
              "      <th>ClassText</th>\n",
              "    </tr>\n",
              "  </thead>\n",
              "  <tbody>\n",
              "    <tr>\n",
              "      <th>0</th>\n",
              "      <td>US7484245B1</td>\n",
              "      <td>system method providing data security</td>\n",
              "      <td>a system method protects security data the da...</td>\n",
              "      <td>G06F 21/6209</td>\n",
              "      <td>G</td>\n",
              "      <td>system method providing data security a system...</td>\n",
              "    </tr>\n",
              "    <tr>\n",
              "      <th>1</th>\n",
              "      <td>US7526762B1</td>\n",
              "      <td>network mobile terminals browsers wireless acc...</td>\n",
              "      <td>a system method provided allow user perform i...</td>\n",
              "      <td>G06F 8/33</td>\n",
              "      <td>G</td>\n",
              "      <td>network mobile terminals browsers wireless acc...</td>\n",
              "    </tr>\n",
              "    <tr>\n",
              "      <th>2</th>\n",
              "      <td>US7523617B2</td>\n",
              "      <td>thin film thermoelectric devices hotspot therm...</td>\n",
              "      <td>a structure system method controlling tempera...</td>\n",
              "      <td>F25B 21/02</td>\n",
              "      <td>F</td>\n",
              "      <td>thin film thermoelectric devices hotspot therm...</td>\n",
              "    </tr>\n",
              "    <tr>\n",
              "      <th>3</th>\n",
              "      <td>US7523191B1</td>\n",
              "      <td>system method monitoring user interaction web ...</td>\n",
              "      <td>a system monitoring usage electronic device d...</td>\n",
              "      <td>G06F 11/3495</td>\n",
              "      <td>G</td>\n",
              "      <td>system method monitoring user interaction web ...</td>\n",
              "    </tr>\n",
              "    <tr>\n",
              "      <th>4</th>\n",
              "      <td>US7502876B1</td>\n",
              "      <td>background memory manager determines data stru...</td>\n",
              "      <td>a background memory manager bmm managing memo...</td>\n",
              "      <td>G06F 12/023</td>\n",
              "      <td>G</td>\n",
              "      <td>background memory manager determines data stru...</td>\n",
              "    </tr>\n",
              "  </tbody>\n",
              "</table>\n",
              "</div>\n",
              "      <button class=\"colab-df-convert\" onclick=\"convertToInteractive('df-05bee938-20ab-4299-ae9d-4abd54ceba17')\"\n",
              "              title=\"Convert this dataframe to an interactive table.\"\n",
              "              style=\"display:none;\">\n",
              "        \n",
              "  <svg xmlns=\"http://www.w3.org/2000/svg\" height=\"24px\"viewBox=\"0 0 24 24\"\n",
              "       width=\"24px\">\n",
              "    <path d=\"M0 0h24v24H0V0z\" fill=\"none\"/>\n",
              "    <path d=\"M18.56 5.44l.94 2.06.94-2.06 2.06-.94-2.06-.94-.94-2.06-.94 2.06-2.06.94zm-11 1L8.5 8.5l.94-2.06 2.06-.94-2.06-.94L8.5 2.5l-.94 2.06-2.06.94zm10 10l.94 2.06.94-2.06 2.06-.94-2.06-.94-.94-2.06-.94 2.06-2.06.94z\"/><path d=\"M17.41 7.96l-1.37-1.37c-.4-.4-.92-.59-1.43-.59-.52 0-1.04.2-1.43.59L10.3 9.45l-7.72 7.72c-.78.78-.78 2.05 0 2.83L4 21.41c.39.39.9.59 1.41.59.51 0 1.02-.2 1.41-.59l7.78-7.78 2.81-2.81c.8-.78.8-2.07 0-2.86zM5.41 20L4 18.59l7.72-7.72 1.47 1.35L5.41 20z\"/>\n",
              "  </svg>\n",
              "      </button>\n",
              "      \n",
              "  <style>\n",
              "    .colab-df-container {\n",
              "      display:flex;\n",
              "      flex-wrap:wrap;\n",
              "      gap: 12px;\n",
              "    }\n",
              "\n",
              "    .colab-df-convert {\n",
              "      background-color: #E8F0FE;\n",
              "      border: none;\n",
              "      border-radius: 50%;\n",
              "      cursor: pointer;\n",
              "      display: none;\n",
              "      fill: #1967D2;\n",
              "      height: 32px;\n",
              "      padding: 0 0 0 0;\n",
              "      width: 32px;\n",
              "    }\n",
              "\n",
              "    .colab-df-convert:hover {\n",
              "      background-color: #E2EBFA;\n",
              "      box-shadow: 0px 1px 2px rgba(60, 64, 67, 0.3), 0px 1px 3px 1px rgba(60, 64, 67, 0.15);\n",
              "      fill: #174EA6;\n",
              "    }\n",
              "\n",
              "    [theme=dark] .colab-df-convert {\n",
              "      background-color: #3B4455;\n",
              "      fill: #D2E3FC;\n",
              "    }\n",
              "\n",
              "    [theme=dark] .colab-df-convert:hover {\n",
              "      background-color: #434B5C;\n",
              "      box-shadow: 0px 1px 3px 1px rgba(0, 0, 0, 0.15);\n",
              "      filter: drop-shadow(0px 1px 2px rgba(0, 0, 0, 0.3));\n",
              "      fill: #FFFFFF;\n",
              "    }\n",
              "  </style>\n",
              "\n",
              "      <script>\n",
              "        const buttonEl =\n",
              "          document.querySelector('#df-05bee938-20ab-4299-ae9d-4abd54ceba17 button.colab-df-convert');\n",
              "        buttonEl.style.display =\n",
              "          google.colab.kernel.accessAllowed ? 'block' : 'none';\n",
              "\n",
              "        async function convertToInteractive(key) {\n",
              "          const element = document.querySelector('#df-05bee938-20ab-4299-ae9d-4abd54ceba17');\n",
              "          const dataTable =\n",
              "            await google.colab.kernel.invokeFunction('convertToInteractive',\n",
              "                                                     [key], {});\n",
              "          if (!dataTable) return;\n",
              "\n",
              "          const docLinkHtml = 'Like what you see? Visit the ' +\n",
              "            '<a target=\"_blank\" href=https://colab.research.google.com/notebooks/data_table.ipynb>data table notebook</a>'\n",
              "            + ' to learn more about interactive tables.';\n",
              "          element.innerHTML = '';\n",
              "          dataTable['output_type'] = 'display_data';\n",
              "          await google.colab.output.renderOutput(dataTable, element);\n",
              "          const docLink = document.createElement('div');\n",
              "          docLink.innerHTML = docLinkHtml;\n",
              "          element.appendChild(docLink);\n",
              "        }\n",
              "      </script>\n",
              "    </div>\n",
              "  </div>\n",
              "  "
            ]
          },
          "metadata": {},
          "execution_count": 35
        }
      ],
      "source": [
        "#copying preprocessed dataset from above\n",
        "df2=df\n",
        "df2.head()"
      ]
    },
    {
      "cell_type": "markdown",
      "source": [
        "## Install and import packages"
      ],
      "metadata": {
        "id": "aNIbHKYpsFN1"
      }
    },
    {
      "cell_type": "code",
      "source": [
        "#had to update the gensim version for colab\n",
        "%pip install gensim==4.2.0"
      ],
      "metadata": {
        "colab": {
          "base_uri": "https://localhost:8080/"
        },
        "id": "UVhlBP_2NPE4",
        "outputId": "0a1daa44-aef6-4b0d-c962-731cc8958440"
      },
      "execution_count": 36,
      "outputs": [
        {
          "output_type": "stream",
          "name": "stdout",
          "text": [
            "Looking in indexes: https://pypi.org/simple, https://us-python.pkg.dev/colab-wheels/public/simple/\n",
            "Collecting gensim==4.2.0\n",
            "  Downloading gensim-4.2.0-cp37-cp37m-manylinux_2_12_x86_64.manylinux2010_x86_64.whl (24.1 MB)\n",
            "\u001b[K     |████████████████████████████████| 24.1 MB 1.3 MB/s \n",
            "\u001b[?25hRequirement already satisfied: scipy>=0.18.1 in /usr/local/lib/python3.7/dist-packages (from gensim==4.2.0) (1.4.1)\n",
            "Requirement already satisfied: numpy>=1.17.0 in /usr/local/lib/python3.7/dist-packages (from gensim==4.2.0) (1.21.6)\n",
            "Requirement already satisfied: smart-open>=1.8.1 in /usr/local/lib/python3.7/dist-packages (from gensim==4.2.0) (6.0.0)\n",
            "Installing collected packages: gensim\n",
            "  Attempting uninstall: gensim\n",
            "    Found existing installation: gensim 3.6.0\n",
            "    Uninstalling gensim-3.6.0:\n",
            "      Successfully uninstalled gensim-3.6.0\n",
            "Successfully installed gensim-4.2.0\n"
          ]
        }
      ]
    },
    {
      "cell_type": "code",
      "source": [
        "import spacy\n",
        "nlp = spacy.load('en_core_web_sm')"
      ],
      "metadata": {
        "id": "Az39Th7tiCog"
      },
      "execution_count": 37,
      "outputs": []
    },
    {
      "cell_type": "code",
      "source": [
        "import gensim\n",
        "from gensim.corpora import Dictionary\n",
        "from gensim.models import TfidfModel\n",
        "# from gensim.models import Nmf (wasn't able to show topics as easily with this model)\n",
        "from gensim.models.ldamodel import LdaModel\n",
        "from gensim.models.coherencemodel import CoherenceModel\n"
      ],
      "metadata": {
        "id": "EVj4Z675lpB3"
      },
      "execution_count": 38,
      "outputs": []
    },
    {
      "cell_type": "markdown",
      "source": [
        "## Preprocessing and exploration"
      ],
      "metadata": {
        "id": "IovPfZ7Ue_KP"
      }
    },
    {
      "cell_type": "code",
      "source": [
        "#preprocess using spacy and extraction important features (count, n-grams, POS tags), this is a dict to remove a number of parsed POS types that spacy will recognize\n",
        "removal= ['ADV','PRON','CCONJ','PUNCT','PART','DET','ADP','SPACE', 'NUM', 'SYM']"
      ],
      "metadata": {
        "id": "qftGMEZviK96"
      },
      "execution_count": 39,
      "outputs": []
    },
    {
      "cell_type": "code",
      "source": [
        "#tokenize, remove stop words, remove numbers, remove POS as in dict above, lemmatize \n",
        "tokens = []\n",
        "for summary in nlp.pipe(df2['ClassText']):\n",
        "   proj_tok = [token.lemma_.lower() for token in summary if token.pos_ not in removal and not token.is_stop and token.is_alpha]\n",
        "   tokens.append(proj_tok)"
      ],
      "metadata": {
        "id": "5XAIjq02lK6K"
      },
      "execution_count": 40,
      "outputs": []
    },
    {
      "cell_type": "code",
      "source": [
        "#add the tokenized text to the dataframe\n",
        "df2['tokens']=tokens"
      ],
      "metadata": {
        "id": "vk30IO-_lUeQ"
      },
      "execution_count": 41,
      "outputs": []
    },
    {
      "cell_type": "code",
      "source": [
        "#view the tokens, stop words have been removed\n",
        "df2['tokens']"
      ],
      "metadata": {
        "id": "q7TudwbalYsh",
        "colab": {
          "base_uri": "https://localhost:8080/"
        },
        "outputId": "17632092-0d9d-4ce9-c36b-7b253a9c5d43"
      },
      "execution_count": 42,
      "outputs": [
        {
          "output_type": "execute_result",
          "data": {
            "text/plain": [
              "0       [system, method, provide, datum, security, sys...\n",
              "1       [network, mobile, terminal, browser, wireless,...\n",
              "2       [thin, film, thermoelectric, devices, hotspot,...\n",
              "3       [system, method, monitor, user, interaction, w...\n",
              "4       [background, memory, manager, determine, data,...\n",
              "                              ...                        \n",
              "3755    [system, method, analyze, crosstalk, occur, se...\n",
              "3756    [datum, management, system, image, form, appar...\n",
              "3757    [refrigerate, machine, refrigerate, machine, e...\n",
              "3758    [dynamic, mouse, tray, mouse, tray, apparatus,...\n",
              "3759    [installation, method, produce, cold, reversib...\n",
              "Name: tokens, Length: 3715, dtype: object"
            ]
          },
          "metadata": {},
          "execution_count": 42
        }
      ]
    },
    {
      "cell_type": "code",
      "source": [
        "#taking a look at the result of preprocessing and tokenization\n",
        "df2.head()"
      ],
      "metadata": {
        "colab": {
          "base_uri": "https://localhost:8080/",
          "height": 354
        },
        "id": "v1U_9XrJVzS3",
        "outputId": "99e069e2-78e0-47ff-aea2-0d882329efed"
      },
      "execution_count": 52,
      "outputs": [
        {
          "output_type": "execute_result",
          "data": {
            "text/plain": [
              "  Patent Number                                              Title  \\\n",
              "0   US7484245B1              system method providing data security   \n",
              "1   US7526762B1  network mobile terminals browsers wireless acc...   \n",
              "2   US7523617B2  thin film thermoelectric devices hotspot therm...   \n",
              "3   US7523191B1  system method monitoring user interaction web ...   \n",
              "4   US7502876B1  background memory manager determines data stru...   \n",
              "\n",
              "                                            Abstract      Main CPC  \\\n",
              "0   a system method protects security data the da...  G06F 21/6209   \n",
              "1   a system method provided allow user perform i...     G06F 8/33   \n",
              "2   a structure system method controlling tempera...    F25B 21/02   \n",
              "3   a system monitoring usage electronic device d...  G06F 11/3495   \n",
              "4   a background memory manager bmm managing memo...   G06F 12/023   \n",
              "\n",
              "  Main CPC Section                                          ClassText  \\\n",
              "0                G  system method providing data security a system...   \n",
              "1                G  network mobile terminals browsers wireless acc...   \n",
              "2                F  thin film thermoelectric devices hotspot therm...   \n",
              "3                G  system method monitoring user interaction web ...   \n",
              "4                G  background memory manager determines data stru...   \n",
              "\n",
              "                                              tokens  \n",
              "0  [system, method, provide, datum, security, sys...  \n",
              "1  [network, mobile, terminal, browser, wireless,...  \n",
              "2  [thin, film, thermoelectric, devices, hotspot,...  \n",
              "3  [system, method, monitor, user, interaction, w...  \n",
              "4  [background, memory, manager, determine, data,...  "
            ],
            "text/html": [
              "\n",
              "  <div id=\"df-21b70b54-6112-4db2-995b-da30227de7a7\">\n",
              "    <div class=\"colab-df-container\">\n",
              "      <div>\n",
              "<style scoped>\n",
              "    .dataframe tbody tr th:only-of-type {\n",
              "        vertical-align: middle;\n",
              "    }\n",
              "\n",
              "    .dataframe tbody tr th {\n",
              "        vertical-align: top;\n",
              "    }\n",
              "\n",
              "    .dataframe thead th {\n",
              "        text-align: right;\n",
              "    }\n",
              "</style>\n",
              "<table border=\"1\" class=\"dataframe\">\n",
              "  <thead>\n",
              "    <tr style=\"text-align: right;\">\n",
              "      <th></th>\n",
              "      <th>Patent Number</th>\n",
              "      <th>Title</th>\n",
              "      <th>Abstract</th>\n",
              "      <th>Main CPC</th>\n",
              "      <th>Main CPC Section</th>\n",
              "      <th>ClassText</th>\n",
              "      <th>tokens</th>\n",
              "    </tr>\n",
              "  </thead>\n",
              "  <tbody>\n",
              "    <tr>\n",
              "      <th>0</th>\n",
              "      <td>US7484245B1</td>\n",
              "      <td>system method providing data security</td>\n",
              "      <td>a system method protects security data the da...</td>\n",
              "      <td>G06F 21/6209</td>\n",
              "      <td>G</td>\n",
              "      <td>system method providing data security a system...</td>\n",
              "      <td>[system, method, provide, datum, security, sys...</td>\n",
              "    </tr>\n",
              "    <tr>\n",
              "      <th>1</th>\n",
              "      <td>US7526762B1</td>\n",
              "      <td>network mobile terminals browsers wireless acc...</td>\n",
              "      <td>a system method provided allow user perform i...</td>\n",
              "      <td>G06F 8/33</td>\n",
              "      <td>G</td>\n",
              "      <td>network mobile terminals browsers wireless acc...</td>\n",
              "      <td>[network, mobile, terminal, browser, wireless,...</td>\n",
              "    </tr>\n",
              "    <tr>\n",
              "      <th>2</th>\n",
              "      <td>US7523617B2</td>\n",
              "      <td>thin film thermoelectric devices hotspot therm...</td>\n",
              "      <td>a structure system method controlling tempera...</td>\n",
              "      <td>F25B 21/02</td>\n",
              "      <td>F</td>\n",
              "      <td>thin film thermoelectric devices hotspot therm...</td>\n",
              "      <td>[thin, film, thermoelectric, devices, hotspot,...</td>\n",
              "    </tr>\n",
              "    <tr>\n",
              "      <th>3</th>\n",
              "      <td>US7523191B1</td>\n",
              "      <td>system method monitoring user interaction web ...</td>\n",
              "      <td>a system monitoring usage electronic device d...</td>\n",
              "      <td>G06F 11/3495</td>\n",
              "      <td>G</td>\n",
              "      <td>system method monitoring user interaction web ...</td>\n",
              "      <td>[system, method, monitor, user, interaction, w...</td>\n",
              "    </tr>\n",
              "    <tr>\n",
              "      <th>4</th>\n",
              "      <td>US7502876B1</td>\n",
              "      <td>background memory manager determines data stru...</td>\n",
              "      <td>a background memory manager bmm managing memo...</td>\n",
              "      <td>G06F 12/023</td>\n",
              "      <td>G</td>\n",
              "      <td>background memory manager determines data stru...</td>\n",
              "      <td>[background, memory, manager, determine, data,...</td>\n",
              "    </tr>\n",
              "  </tbody>\n",
              "</table>\n",
              "</div>\n",
              "      <button class=\"colab-df-convert\" onclick=\"convertToInteractive('df-21b70b54-6112-4db2-995b-da30227de7a7')\"\n",
              "              title=\"Convert this dataframe to an interactive table.\"\n",
              "              style=\"display:none;\">\n",
              "        \n",
              "  <svg xmlns=\"http://www.w3.org/2000/svg\" height=\"24px\"viewBox=\"0 0 24 24\"\n",
              "       width=\"24px\">\n",
              "    <path d=\"M0 0h24v24H0V0z\" fill=\"none\"/>\n",
              "    <path d=\"M18.56 5.44l.94 2.06.94-2.06 2.06-.94-2.06-.94-.94-2.06-.94 2.06-2.06.94zm-11 1L8.5 8.5l.94-2.06 2.06-.94-2.06-.94L8.5 2.5l-.94 2.06-2.06.94zm10 10l.94 2.06.94-2.06 2.06-.94-2.06-.94-.94-2.06-.94 2.06-2.06.94z\"/><path d=\"M17.41 7.96l-1.37-1.37c-.4-.4-.92-.59-1.43-.59-.52 0-1.04.2-1.43.59L10.3 9.45l-7.72 7.72c-.78.78-.78 2.05 0 2.83L4 21.41c.39.39.9.59 1.41.59.51 0 1.02-.2 1.41-.59l7.78-7.78 2.81-2.81c.8-.78.8-2.07 0-2.86zM5.41 20L4 18.59l7.72-7.72 1.47 1.35L5.41 20z\"/>\n",
              "  </svg>\n",
              "      </button>\n",
              "      \n",
              "  <style>\n",
              "    .colab-df-container {\n",
              "      display:flex;\n",
              "      flex-wrap:wrap;\n",
              "      gap: 12px;\n",
              "    }\n",
              "\n",
              "    .colab-df-convert {\n",
              "      background-color: #E8F0FE;\n",
              "      border: none;\n",
              "      border-radius: 50%;\n",
              "      cursor: pointer;\n",
              "      display: none;\n",
              "      fill: #1967D2;\n",
              "      height: 32px;\n",
              "      padding: 0 0 0 0;\n",
              "      width: 32px;\n",
              "    }\n",
              "\n",
              "    .colab-df-convert:hover {\n",
              "      background-color: #E2EBFA;\n",
              "      box-shadow: 0px 1px 2px rgba(60, 64, 67, 0.3), 0px 1px 3px 1px rgba(60, 64, 67, 0.15);\n",
              "      fill: #174EA6;\n",
              "    }\n",
              "\n",
              "    [theme=dark] .colab-df-convert {\n",
              "      background-color: #3B4455;\n",
              "      fill: #D2E3FC;\n",
              "    }\n",
              "\n",
              "    [theme=dark] .colab-df-convert:hover {\n",
              "      background-color: #434B5C;\n",
              "      box-shadow: 0px 1px 3px 1px rgba(0, 0, 0, 0.15);\n",
              "      filter: drop-shadow(0px 1px 2px rgba(0, 0, 0, 0.3));\n",
              "      fill: #FFFFFF;\n",
              "    }\n",
              "  </style>\n",
              "\n",
              "      <script>\n",
              "        const buttonEl =\n",
              "          document.querySelector('#df-21b70b54-6112-4db2-995b-da30227de7a7 button.colab-df-convert');\n",
              "        buttonEl.style.display =\n",
              "          google.colab.kernel.accessAllowed ? 'block' : 'none';\n",
              "\n",
              "        async function convertToInteractive(key) {\n",
              "          const element = document.querySelector('#df-21b70b54-6112-4db2-995b-da30227de7a7');\n",
              "          const dataTable =\n",
              "            await google.colab.kernel.invokeFunction('convertToInteractive',\n",
              "                                                     [key], {});\n",
              "          if (!dataTable) return;\n",
              "\n",
              "          const docLinkHtml = 'Like what you see? Visit the ' +\n",
              "            '<a target=\"_blank\" href=https://colab.research.google.com/notebooks/data_table.ipynb>data table notebook</a>'\n",
              "            + ' to learn more about interactive tables.';\n",
              "          element.innerHTML = '';\n",
              "          dataTable['output_type'] = 'display_data';\n",
              "          await google.colab.output.renderOutput(dataTable, element);\n",
              "          const docLink = document.createElement('div');\n",
              "          docLink.innerHTML = docLinkHtml;\n",
              "          element.appendChild(docLink);\n",
              "        }\n",
              "      </script>\n",
              "    </div>\n",
              "  </div>\n",
              "  "
            ]
          },
          "metadata": {},
          "execution_count": 52
        }
      ]
    },
    {
      "cell_type": "code",
      "source": [
        "df2.describe()"
      ],
      "metadata": {
        "colab": {
          "base_uri": "https://localhost:8080/",
          "height": 175
        },
        "id": "-LSXHyVpLQKk",
        "outputId": "4ff354f7-5f10-43f8-bf7d-85b8ee5f3692"
      },
      "execution_count": 53,
      "outputs": [
        {
          "output_type": "execute_result",
          "data": {
            "text/plain": [
              "       Patent Number           Title  \\\n",
              "count           3715            3715   \n",
              "unique          3715            3660   \n",
              "top      US7484245B1  heat exchanger   \n",
              "freq               1               5   \n",
              "\n",
              "                                                 Abstract    Main CPC  \\\n",
              "count                                                3715        3715   \n",
              "unique                                               3690        1370   \n",
              "top      a first software entity occupies portion line...  G06F 30/33   \n",
              "freq                                                    3          33   \n",
              "\n",
              "       Main CPC Section                                          ClassText  \\\n",
              "count              3715                                               3715   \n",
              "unique                8                                               3699   \n",
              "top                   G  restricting memory access protect data sharing...   \n",
              "freq               3048                                                  3   \n",
              "\n",
              "                                                   tokens  \n",
              "count                                                3715  \n",
              "unique                                               3698  \n",
              "top     [restrict, memory, access, protect, datum, sha...  \n",
              "freq                                                    3  "
            ],
            "text/html": [
              "\n",
              "  <div id=\"df-0202ab8e-b07a-4699-84aa-10b69722a5e3\">\n",
              "    <div class=\"colab-df-container\">\n",
              "      <div>\n",
              "<style scoped>\n",
              "    .dataframe tbody tr th:only-of-type {\n",
              "        vertical-align: middle;\n",
              "    }\n",
              "\n",
              "    .dataframe tbody tr th {\n",
              "        vertical-align: top;\n",
              "    }\n",
              "\n",
              "    .dataframe thead th {\n",
              "        text-align: right;\n",
              "    }\n",
              "</style>\n",
              "<table border=\"1\" class=\"dataframe\">\n",
              "  <thead>\n",
              "    <tr style=\"text-align: right;\">\n",
              "      <th></th>\n",
              "      <th>Patent Number</th>\n",
              "      <th>Title</th>\n",
              "      <th>Abstract</th>\n",
              "      <th>Main CPC</th>\n",
              "      <th>Main CPC Section</th>\n",
              "      <th>ClassText</th>\n",
              "      <th>tokens</th>\n",
              "    </tr>\n",
              "  </thead>\n",
              "  <tbody>\n",
              "    <tr>\n",
              "      <th>count</th>\n",
              "      <td>3715</td>\n",
              "      <td>3715</td>\n",
              "      <td>3715</td>\n",
              "      <td>3715</td>\n",
              "      <td>3715</td>\n",
              "      <td>3715</td>\n",
              "      <td>3715</td>\n",
              "    </tr>\n",
              "    <tr>\n",
              "      <th>unique</th>\n",
              "      <td>3715</td>\n",
              "      <td>3660</td>\n",
              "      <td>3690</td>\n",
              "      <td>1370</td>\n",
              "      <td>8</td>\n",
              "      <td>3699</td>\n",
              "      <td>3698</td>\n",
              "    </tr>\n",
              "    <tr>\n",
              "      <th>top</th>\n",
              "      <td>US7484245B1</td>\n",
              "      <td>heat exchanger</td>\n",
              "      <td>a first software entity occupies portion line...</td>\n",
              "      <td>G06F 30/33</td>\n",
              "      <td>G</td>\n",
              "      <td>restricting memory access protect data sharing...</td>\n",
              "      <td>[restrict, memory, access, protect, datum, sha...</td>\n",
              "    </tr>\n",
              "    <tr>\n",
              "      <th>freq</th>\n",
              "      <td>1</td>\n",
              "      <td>5</td>\n",
              "      <td>3</td>\n",
              "      <td>33</td>\n",
              "      <td>3048</td>\n",
              "      <td>3</td>\n",
              "      <td>3</td>\n",
              "    </tr>\n",
              "  </tbody>\n",
              "</table>\n",
              "</div>\n",
              "      <button class=\"colab-df-convert\" onclick=\"convertToInteractive('df-0202ab8e-b07a-4699-84aa-10b69722a5e3')\"\n",
              "              title=\"Convert this dataframe to an interactive table.\"\n",
              "              style=\"display:none;\">\n",
              "        \n",
              "  <svg xmlns=\"http://www.w3.org/2000/svg\" height=\"24px\"viewBox=\"0 0 24 24\"\n",
              "       width=\"24px\">\n",
              "    <path d=\"M0 0h24v24H0V0z\" fill=\"none\"/>\n",
              "    <path d=\"M18.56 5.44l.94 2.06.94-2.06 2.06-.94-2.06-.94-.94-2.06-.94 2.06-2.06.94zm-11 1L8.5 8.5l.94-2.06 2.06-.94-2.06-.94L8.5 2.5l-.94 2.06-2.06.94zm10 10l.94 2.06.94-2.06 2.06-.94-2.06-.94-.94-2.06-.94 2.06-2.06.94z\"/><path d=\"M17.41 7.96l-1.37-1.37c-.4-.4-.92-.59-1.43-.59-.52 0-1.04.2-1.43.59L10.3 9.45l-7.72 7.72c-.78.78-.78 2.05 0 2.83L4 21.41c.39.39.9.59 1.41.59.51 0 1.02-.2 1.41-.59l7.78-7.78 2.81-2.81c.8-.78.8-2.07 0-2.86zM5.41 20L4 18.59l7.72-7.72 1.47 1.35L5.41 20z\"/>\n",
              "  </svg>\n",
              "      </button>\n",
              "      \n",
              "  <style>\n",
              "    .colab-df-container {\n",
              "      display:flex;\n",
              "      flex-wrap:wrap;\n",
              "      gap: 12px;\n",
              "    }\n",
              "\n",
              "    .colab-df-convert {\n",
              "      background-color: #E8F0FE;\n",
              "      border: none;\n",
              "      border-radius: 50%;\n",
              "      cursor: pointer;\n",
              "      display: none;\n",
              "      fill: #1967D2;\n",
              "      height: 32px;\n",
              "      padding: 0 0 0 0;\n",
              "      width: 32px;\n",
              "    }\n",
              "\n",
              "    .colab-df-convert:hover {\n",
              "      background-color: #E2EBFA;\n",
              "      box-shadow: 0px 1px 2px rgba(60, 64, 67, 0.3), 0px 1px 3px 1px rgba(60, 64, 67, 0.15);\n",
              "      fill: #174EA6;\n",
              "    }\n",
              "\n",
              "    [theme=dark] .colab-df-convert {\n",
              "      background-color: #3B4455;\n",
              "      fill: #D2E3FC;\n",
              "    }\n",
              "\n",
              "    [theme=dark] .colab-df-convert:hover {\n",
              "      background-color: #434B5C;\n",
              "      box-shadow: 0px 1px 3px 1px rgba(0, 0, 0, 0.15);\n",
              "      filter: drop-shadow(0px 1px 2px rgba(0, 0, 0, 0.3));\n",
              "      fill: #FFFFFF;\n",
              "    }\n",
              "  </style>\n",
              "\n",
              "      <script>\n",
              "        const buttonEl =\n",
              "          document.querySelector('#df-0202ab8e-b07a-4699-84aa-10b69722a5e3 button.colab-df-convert');\n",
              "        buttonEl.style.display =\n",
              "          google.colab.kernel.accessAllowed ? 'block' : 'none';\n",
              "\n",
              "        async function convertToInteractive(key) {\n",
              "          const element = document.querySelector('#df-0202ab8e-b07a-4699-84aa-10b69722a5e3');\n",
              "          const dataTable =\n",
              "            await google.colab.kernel.invokeFunction('convertToInteractive',\n",
              "                                                     [key], {});\n",
              "          if (!dataTable) return;\n",
              "\n",
              "          const docLinkHtml = 'Like what you see? Visit the ' +\n",
              "            '<a target=\"_blank\" href=https://colab.research.google.com/notebooks/data_table.ipynb>data table notebook</a>'\n",
              "            + ' to learn more about interactive tables.';\n",
              "          element.innerHTML = '';\n",
              "          dataTable['output_type'] = 'display_data';\n",
              "          await google.colab.output.renderOutput(dataTable, element);\n",
              "          const docLink = document.createElement('div');\n",
              "          docLink.innerHTML = docLinkHtml;\n",
              "          element.appendChild(docLink);\n",
              "        }\n",
              "      </script>\n",
              "    </div>\n",
              "  </div>\n",
              "  "
            ]
          },
          "metadata": {},
          "execution_count": 53
        }
      ]
    },
    {
      "cell_type": "code",
      "source": [
        "#tokens variable\n",
        "token_class_text = df2['tokens']"
      ],
      "metadata": {
        "id": "xaQcWozVIKuf"
      },
      "execution_count": 44,
      "outputs": []
    },
    {
      "cell_type": "markdown",
      "source": [
        "## Latent Semantic Analysis processing and model evaluation"
      ],
      "metadata": {
        "id": "78C1PXuMfHnq"
      }
    },
    {
      "cell_type": "markdown",
      "source": [
        "Gensim is a popular topic model package, so will switch from spacy to gensim functions"
      ],
      "metadata": {
        "id": "CBnoU4ZtfLtH"
      }
    },
    {
      "cell_type": "code",
      "source": [
        "#create a gensim dictionary from the spacy created dicts, check the length of the dictionary itself\n",
        "dict_gensim = Dictionary(token_class_text)\n",
        "len(dict_gensim)"
      ],
      "metadata": {
        "id": "5O1IDnGnDKBY",
        "colab": {
          "base_uri": "https://localhost:8080/"
        },
        "outputId": "a031f494-ed5a-4573-ff44-498121dcb188"
      },
      "execution_count": 54,
      "outputs": [
        {
          "output_type": "execute_result",
          "data": {
            "text/plain": [
              "10447"
            ]
          },
          "metadata": {},
          "execution_count": 54
        }
      ]
    },
    {
      "cell_type": "code",
      "source": [
        "#words must appear at least x times but not in more of y%\n",
        "#i tried changing these but it did not improve coherence much\n",
        "dict_gensim.filter_extremes(no_below=5, no_above=0.7)"
      ],
      "metadata": {
        "id": "noma-caVHdyJ"
      },
      "execution_count": 47,
      "outputs": []
    },
    {
      "cell_type": "code",
      "source": [
        "#create a Bag of Words\n",
        "#here the frequency of each word is used as a feature for our topic clustering method\n",
        "corpus_gensim = [dict_gensim.doc2bow(row) for row in token_class_text]"
      ],
      "metadata": {
        "id": "F75vpqHOHysL"
      },
      "execution_count": 48,
      "outputs": []
    },
    {
      "cell_type": "code",
      "source": [
        "#check to make sure each row df is included\n",
        "len(corpus_gensim)"
      ],
      "metadata": {
        "colab": {
          "base_uri": "https://localhost:8080/"
        },
        "id": "wxtcpQ1hK6tg",
        "outputId": "8bbe42e6-76b0-47a2-9225-83cce53bbca1"
      },
      "execution_count": 51,
      "outputs": [
        {
          "output_type": "execute_result",
          "data": {
            "text/plain": [
              "3715"
            ]
          },
          "metadata": {},
          "execution_count": 51
        }
      ]
    },
    {
      "cell_type": "code",
      "source": [
        "#create the LSA model\n",
        "#Latent Semantic Analysis\n",
        "lda_gensim = LdaModel(corpus=corpus_gensim, id2word = dict_gensim, num_topics=7, alpha='auto', eval_every=1)"
      ],
      "metadata": {
        "id": "J9jkxWq5T1Km"
      },
      "execution_count": 49,
      "outputs": []
    },
    {
      "cell_type": "markdown",
      "source": [
        "This function is an approximate solution to U.  \n",
        "\n",
        "V = U x E x V*\n",
        "\n",
        "V = Doc x Word\n",
        "U = Doc x Topic\n",
        "E = Topics diagonal matrix\n",
        "V* = Topics x Words\n",
        "\n",
        "\n",
        "U is a unitary m × m matrix, V* is an n × n matrix, and Σ is an m × n diagonal matrix containing the singular values."
      ],
      "metadata": {
        "id": "h-YOiDtRmFow"
      }
    },
    {
      "cell_type": "code",
      "source": [
        "#show topics and weights\n",
        "lda_gensim.print_topics()"
      ],
      "metadata": {
        "id": "RxFp6Z4DUL2f"
      },
      "execution_count": null,
      "outputs": []
    },
    {
      "cell_type": "code",
      "source": [
        "# a higher coherence score is better, this is not a very good result\n",
        "# another model is probably a better choice, or more prep\n",
        "coherence = CoherenceModel(model=lda_gensim, texts=token_class_text, dictionary=dict_gensim, coherence='c_v')\n",
        "coherence_score = coherence.get_coherence()\n",
        "coherence_score"
      ],
      "metadata": {
        "id": "alam-7AuWwy_"
      },
      "execution_count": null,
      "outputs": []
    },
    {
      "cell_type": "markdown",
      "source": [
        "## Findings and Insights"
      ],
      "metadata": {
        "id": "sUNRrKJyaKgd"
      }
    },
    {
      "cell_type": "markdown",
      "source": [
        "The first steps were to tokenize the text using spacy, then store the spacy results into a dict.  Next each patent (row) was treated as as document (title + abstract).  Then filtering for extremes and a a bag of words approach for the LSA function.  \n",
        "\n",
        "The LSA model does not show a very good coherence score.  The imbalanced dataset is probably not helping, however I expected at least one topic to be non-G-class related.  \n",
        "\n",
        "More text beyond Title+Abstract should improve the model as well.  The LSA model ran relatively quickly meaning it probably needs more data to chew on.\n",
        "\n",
        "Other model options include LDA (mixture of topics for each document and a better viz package with pyLDAvis), or NMF (for quick clustering exploration)."
      ],
      "metadata": {
        "id": "4v55VgeqZnq6"
      }
    }
  ],
  "metadata": {
    "kernelspec": {
      "display_name": "Python 3",
      "language": "python",
      "name": "python3"
    },
    "language_info": {
      "codemirror_mode": {
        "name": "ipython",
        "version": 3
      },
      "file_extension": ".py",
      "mimetype": "text/x-python",
      "name": "python",
      "nbconvert_exporter": "python",
      "pygments_lexer": "ipython3",
      "version": "3.8.5"
    },
    "colab": {
      "name": "classifier and cluster.ipynb",
      "provenance": [],
      "collapsed_sections": [
        "O6fopACXUYk7",
        "XJU3k83yUYk8",
        "OrRwq5qKUYk8",
        "IJubctcmUYk8",
        "UtFYU1p1UYk9",
        "LK_HN0qnUYk-",
        "kkqma_7MUYk_",
        "EUi2u9mLeeNj",
        "aNIbHKYpsFN1",
        "sUNRrKJyaKgd"
      ],
      "include_colab_link": true
    }
  },
  "nbformat": 4,
  "nbformat_minor": 0
}
